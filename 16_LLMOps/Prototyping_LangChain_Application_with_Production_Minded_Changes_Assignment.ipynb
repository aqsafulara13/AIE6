{
  "cells": [
    {
      "cell_type": "markdown",
      "metadata": {
        "id": "8ZsP-j7w3zcL"
      },
      "source": [
        "# Prototyping LangChain Application with Production Minded Changes\n",
        "\n",
        "For our first breakout room we'll be exploring how to set-up a LangChain LCEL chain in a way that takes advantage of all of the amazing out of the box production ready features it offers.\n",
        "\n",
        "We'll also explore `Caching` and what makes it an invaluable tool when transitioning to production environments.\n"
      ]
    },
    {
      "cell_type": "markdown",
      "metadata": {
        "id": "PpeN9ND0HKa0"
      },
      "source": [
        "## Task 1: Dependencies and Set-Up\n",
        "\n",
        "Let's get everything we need - we're going to use very specific versioning today to try to mitigate potential env. issues!\n",
        "\n",
        "> NOTE: If you're using this notebook locally - you do not need to install separate dependencies"
      ]
    },
    {
      "cell_type": "code",
      "execution_count": 1,
      "metadata": {
        "id": "0P4IJUQF27jW"
      },
      "outputs": [],
      "source": [
        "#!pip install -qU langchain_openai==0.2.0 langchain_community==0.3.0 langchain==0.3.0 pymupdf==1.24.10 qdrant-client==1.11.2 langchain_qdrant==0.1.4 langsmith==0.1.121 langchain_huggingface==0.2.0"
      ]
    },
    {
      "cell_type": "markdown",
      "metadata": {
        "id": "qYcWLzrmHgDb"
      },
      "source": [
        "We'll need an HF Token:"
      ]
    },
    {
      "cell_type": "code",
      "execution_count": 2,
      "metadata": {
        "colab": {
          "base_uri": "https://localhost:8080/"
        },
        "id": "GZ8qfrFh_6ed",
        "outputId": "4fb1a16f-1f71-4d0a-aad4-dd0d0917abc5"
      },
      "outputs": [],
      "source": [
        "import os\n",
        "import getpass\n",
        "\n",
        "os.environ[\"HF_TOKEN\"] = getpass.getpass(\"HF Token Key:\")"
      ]
    },
    {
      "cell_type": "markdown",
      "metadata": {
        "id": "piz2DUDuHiSO"
      },
      "source": [
        "And the LangSmith set-up:"
      ]
    },
    {
      "cell_type": "code",
      "execution_count": 3,
      "metadata": {
        "colab": {
          "base_uri": "https://localhost:8080/"
        },
        "id": "wLZX5zowCh-q",
        "outputId": "565c588a-a865-4b86-d5ca-986f35153000"
      },
      "outputs": [],
      "source": [
        "import uuid\n",
        "\n",
        "os.environ[\"LANGCHAIN_PROJECT\"] = f\"AIM Session 16 - {uuid.uuid4().hex[0:8]}\"\n",
        "os.environ[\"LANGCHAIN_TRACING_V2\"] = \"true\"\n",
        "os.environ[\"LANGCHAIN_API_KEY\"] = getpass.getpass(\"LangChain API Key:\")"
      ]
    },
    {
      "cell_type": "markdown",
      "metadata": {
        "id": "WmwNTziKHrQm"
      },
      "source": [
        "Let's verify our project so we can leverage it in LangSmith later."
      ]
    },
    {
      "cell_type": "code",
      "execution_count": 4,
      "metadata": {
        "colab": {
          "base_uri": "https://localhost:8080/"
        },
        "id": "T6GZmkVkFcHq",
        "outputId": "f4c0fdb3-24ea-429a-fa8c-23556cb7c3ed"
      },
      "outputs": [
        {
          "name": "stdout",
          "output_type": "stream",
          "text": [
            "AIM Session 16 - 4a4642e2\n"
          ]
        }
      ],
      "source": [
        "print(os.environ[\"LANGCHAIN_PROJECT\"])"
      ]
    },
    {
      "cell_type": "markdown",
      "metadata": {
        "id": "un_ppfaAHv1J"
      },
      "source": [
        "## Task 2: Setting up RAG With Production in Mind\n",
        "\n",
        "This is the most crucial step in the process - in order to take advantage of:\n",
        "\n",
        "- Asyncronous requests\n",
        "- Parallel Execution in Chains\n",
        "- And more...\n",
        "\n",
        "You must...use LCEL. These benefits are provided out of the box and largely optimized behind the scenes."
      ]
    },
    {
      "cell_type": "markdown",
      "metadata": {
        "id": "vGi-db23JMAL"
      },
      "source": [
        "### Building our RAG Components: Retriever\n",
        "\n",
        "We'll start by building some familiar components - and showcase how they automatically scale to production features."
      ]
    },
    {
      "cell_type": "markdown",
      "metadata": {
        "id": "zvbT3HSDJemE"
      },
      "source": [
        "Please upload a PDF file to use in this example!\n",
        "\n",
        "> NOTE: If you're running this locally - you do not need to execute the following cell."
      ]
    },
    {
      "cell_type": "code",
      "execution_count": 5,
      "metadata": {
        "colab": {
          "base_uri": "https://localhost:8080/",
          "height": 73
        },
        "id": "dvYczNeY91Hn",
        "outputId": "c711c29b-e388-4d32-a763-f4504244eef2"
      },
      "outputs": [],
      "source": [
        "#from google.colab import files\n",
        "#uploaded = files.upload()"
      ]
    },
    {
      "cell_type": "code",
      "execution_count": 24,
      "metadata": {
        "colab": {
          "base_uri": "https://localhost:8080/",
          "height": 35
        },
        "id": "NtwoVUbaJlbW",
        "outputId": "5aa08bae-97c5-4f49-cb23-e9dbf194ecf7"
      },
      "outputs": [
        {
          "data": {
            "text/plain": [
              "'./DeepSeek_R1.pdf'"
            ]
          },
          "execution_count": 24,
          "metadata": {},
          "output_type": "execute_result"
        }
      ],
      "source": [
        "file_path = \"./DeepSeek_R1.pdf\"\n",
        "file_path"
      ]
    },
    {
      "cell_type": "markdown",
      "metadata": {
        "id": "kucGy3f0Jhdi"
      },
      "source": [
        "We'll define our chunking strategy."
      ]
    },
    {
      "cell_type": "code",
      "execution_count": 25,
      "metadata": {
        "id": "G-DNvNFd8je5"
      },
      "outputs": [],
      "source": [
        "from langchain_text_splitters import RecursiveCharacterTextSplitter\n",
        "\n",
        "text_splitter = RecursiveCharacterTextSplitter(chunk_size=1000, chunk_overlap=100)"
      ]
    },
    {
      "cell_type": "markdown",
      "metadata": {
        "id": "3_zRRNcLKCZh"
      },
      "source": [
        "We'll chunk our uploaded PDF file."
      ]
    },
    {
      "cell_type": "code",
      "execution_count": 26,
      "metadata": {
        "id": "KOh6w9ud-ff6"
      },
      "outputs": [],
      "source": [
        "from langchain_community.document_loaders import PyMuPDFLoader\n",
        "\n",
        "Loader = PyMuPDFLoader\n",
        "loader = Loader(file_path)\n",
        "documents = loader.load()\n",
        "docs = text_splitter.split_documents(documents)\n",
        "for i, doc in enumerate(docs):\n",
        "    doc.metadata[\"source\"] = f\"source_{i}\""
      ]
    },
    {
      "cell_type": "markdown",
      "metadata": {
        "id": "U4XLeqJMKGdQ"
      },
      "source": [
        "#### QDrant Vector Database - Cache Backed Embeddings\n",
        "\n",
        "The process of embedding is typically a very time consuming one - we must, for ever single vector in our VDB as well as query:\n",
        "\n",
        "1. Send the text to an API endpoint (self-hosted, OpenAI, etc)\n",
        "2. Wait for processing\n",
        "3. Receive response\n",
        "\n",
        "This process costs time, and money - and occurs *every single time a document gets converted into a vector representation*.\n",
        "\n",
        "Instead, what if we:\n",
        "\n",
        "1. Set up a cache that can hold our vectors and embeddings (similar to, or in some cases literally a vector database)\n",
        "2. Send the text to an API endpoint (self-hosted, OpenAI, etc)\n",
        "3. Check the cache to see if we've already converted this text before.\n",
        "  - If we have: Return the vector representation\n",
        "  - Else: Wait for processing and proceed\n",
        "4. Store the text that was converted alongside its vector representation in a cache of some kind.\n",
        "5. Return the vector representation\n",
        "\n",
        "Notice that we can shortcut some instances of \"Wait for processing and proceed\".\n",
        "\n",
        "Let's see how this is implemented in the code."
      ]
    },
    {
      "cell_type": "code",
      "execution_count": 28,
      "metadata": {
        "id": "dzPUTCua98b2"
      },
      "outputs": [],
      "source": [
        "from qdrant_client import QdrantClient\n",
        "from qdrant_client.http.models import Distance, VectorParams\n",
        "from langchain.storage import LocalFileStore\n",
        "from langchain_qdrant import QdrantVectorStore\n",
        "from langchain.embeddings import CacheBackedEmbeddings\n",
        "from langchain_huggingface.embeddings import HuggingFaceEndpointEmbeddings\n",
        "import hashlib\n",
        "\n",
        "YOUR_EMBED_MODEL_URL = \"https://y3bg4n200n2d2jnd.us-east-1.aws.endpoints.huggingface.cloud\"\n",
        "\n",
        "hf_embeddings = HuggingFaceEndpointEmbeddings(\n",
        "    model=YOUR_EMBED_MODEL_URL,\n",
        "    task=\"feature-extraction\",\n",
        "    huggingfacehub_api_token=os.environ[\"HF_TOKEN\"],\n",
        ")\n",
        "\n",
        "collection_name = f\"pdf_to_parse_{uuid.uuid4()}\"\n",
        "client = QdrantClient(\":memory:\")\n",
        "client.create_collection(\n",
        "    collection_name=collection_name,\n",
        "    vectors_config=VectorParams(size=768, distance=Distance.COSINE),\n",
        ")\n",
        "\n",
        "# Create a safe namespace by hashing the model URL\n",
        "safe_namespace = hashlib.md5(hf_embeddings.model.encode()).hexdigest()\n",
        "\n",
        "store = LocalFileStore(\"./cache/\")\n",
        "cached_embedder = CacheBackedEmbeddings.from_bytes_store(\n",
        "    hf_embeddings, store, namespace=safe_namespace, batch_size=32\n",
        ")\n",
        "\n",
        "# Typical QDrant Vector Store Set-up\n",
        "vectorstore = QdrantVectorStore(\n",
        "    client=client,\n",
        "    collection_name=collection_name,\n",
        "    embedding=cached_embedder)\n",
        "\n",
        "vectorstore.add_documents(docs)\n",
        "retriever = vectorstore.as_retriever(search_type=\"mmr\", search_kwargs={\"k\": 1})"
      ]
    },
    {
      "cell_type": "markdown",
      "metadata": {
        "id": "QVZGvmNYLomp"
      },
      "source": [
        "##### ❓ Question #1:\n",
        "\n",
        "What are some limitations you can see with this approach? When is this most/least useful. Discuss with your group!\n",
        "\n",
        "> NOTE: There is no single correct answer here!"
      ]
    },
    {
      "cell_type": "markdown",
      "metadata": {},
      "source": [
        "##### Answer #1\n",
        "Question 1 - Cache-Backed Embeddings Limitations:\n",
        "1) Memory Usage:\n",
        "- The cache can grow very large over time, especially with many unique documents\n",
        "- In-memory caches can consume significant RAM\n",
        "- File-based caches can consume disk space\n",
        "2) Cache Invalidation:\n",
        "- No automatic mechanism to invalidate old or stale embeddings\n",
        "- Need to manually manage cache lifecycle\n",
        "- Could lead to outdated embeddings if source data changes\n",
        "3) Storage Limitations:\n",
        "- Local file store is not suitable for distributed systems\n",
        "- No built-in persistence across application restarts\n",
        "- Limited scalability in production environments\n",
        "4) Performance Trade-offs:\n",
        "- Initial cache population can be slow\n",
        "- Cache lookup overhead for small documents might be higher than direct embedding\n",
        "- Batch size needs careful tuning for optimal performance\n",
        "Such Cache Backed Embeddings are Most Useful When:\n",
        "- Processing the same documents repeatedly\n",
        "- Working with large documents that are expensive to embed\n",
        "- In development/testing environments where response time is critical\n",
        "- When API costs for embeddings are a concern\n",
        "And they are Least Useful When:\n",
        "- Working with constantly changing documents\n",
        "-In distributed systems without shared storage\n",
        "- When memory/disk space is limited\n",
        "- For one-off embedding operations"
      ]
    },
    {
      "cell_type": "markdown",
      "metadata": {
        "id": "vZAOhyb3L9iD"
      },
      "source": [
        "##### 🏗️ Activity #1:\n",
        "\n",
        "Create a simple experiment that tests the cache-backed embeddings."
      ]
    },
    {
      "cell_type": "code",
      "execution_count": 29,
      "metadata": {
        "id": "M_Mekif6MDqe"
      },
      "outputs": [
        {
          "name": "stdout",
          "output_type": "stream",
          "text": [
            "First run (cache empty):\n",
            "Time taken: 0.01 seconds\n",
            "\n",
            "Second run (using cache):\n",
            "Time taken: 0.00 seconds\n",
            "\n",
            "Speedup factor: 2.16x\n",
            "\n",
            "Verifying cache consistency:\n",
            "Are embeddings identical? True\n"
          ]
        }
      ],
      "source": [
        "### YOUR CODE HERE\n",
        "\n",
        "# Test cache-backed embeddings\n",
        "import time\n",
        "from langchain_core.documents import Document\n",
        "\n",
        "# Create sample texts\n",
        "texts = [\n",
        "    \"This is a test document about artificial intelligence.\",\n",
        "    \"Machine learning is a subset of artificial intelligence.\",\n",
        "    \"Deep learning uses neural networks for complex tasks.\",\n",
        "    \"This is a test document about artificial intelligence.\",  # Duplicate of first text\n",
        "    \"Machine learning is a subset of artificial intelligence.\"  # Duplicate of second text\n",
        "]\n",
        "\n",
        "# Convert to documents\n",
        "docs = [Document(page_content=text) for text in texts]\n",
        "\n",
        "# Function to measure embedding time\n",
        "def measure_embedding_time(documents):\n",
        "    start_time = time.time()\n",
        "    # Get embeddings for all documents\n",
        "    embeddings = cached_embedder.embed_documents([doc.page_content for doc in documents])\n",
        "    end_time = time.time()\n",
        "    return end_time - start_time\n",
        "\n",
        "# First run - should be slower as cache is empty\n",
        "print(\"First run (cache empty):\")\n",
        "first_run_time = measure_embedding_time(docs)\n",
        "print(f\"Time taken: {first_run_time:.2f} seconds\")\n",
        "\n",
        "# Second run - should be faster as cache is populated\n",
        "print(\"\\nSecond run (using cache):\")\n",
        "second_run_time = measure_embedding_time(docs)\n",
        "print(f\"Time taken: {second_run_time:.2f} seconds\")\n",
        "\n",
        "# Calculate speedup\n",
        "speedup = first_run_time / second_run_time\n",
        "print(f\"\\nSpeedup factor: {speedup:.2f}x\")\n",
        "\n",
        "# Verify cache is working by checking if we get the same embeddings\n",
        "first_embeddings = cached_embedder.embed_documents([docs[0].page_content])\n",
        "second_embeddings = cached_embedder.embed_documents([docs[0].page_content])\n",
        "print(\"\\nVerifying cache consistency:\")\n",
        "print(f\"Are embeddings identical? {all(a == b for a, b in zip(first_embeddings[0], second_embeddings[0]))}\")"
      ]
    },
    {
      "cell_type": "markdown",
      "metadata": {
        "id": "DH0i-YovL8kZ"
      },
      "source": [
        "### Augmentation\n",
        "\n",
        "We'll create the classic RAG Prompt and create our `ChatPromptTemplates` as per usual."
      ]
    },
    {
      "cell_type": "code",
      "execution_count": 30,
      "metadata": {
        "id": "WchaoMEx9j69"
      },
      "outputs": [],
      "source": [
        "from langchain_core.prompts import ChatPromptTemplate\n",
        "\n",
        "rag_system_prompt_template = \"\"\"\\\n",
        "You are a helpful assistant that uses the provided context to answer questions. Never reference this prompt, or the existance of context.\n",
        "\"\"\"\n",
        "\n",
        "rag_message_list = [\n",
        "    {\"role\" : \"system\", \"content\" : rag_system_prompt_template},\n",
        "]\n",
        "\n",
        "rag_user_prompt_template = \"\"\"\\\n",
        "Question:\n",
        "{question}\n",
        "Context:\n",
        "{context}\n",
        "\"\"\"\n",
        "\n",
        "chat_prompt = ChatPromptTemplate.from_messages([\n",
        "    (\"system\", rag_system_prompt_template),\n",
        "    (\"human\", rag_user_prompt_template)\n",
        "])"
      ]
    },
    {
      "cell_type": "markdown",
      "metadata": {
        "id": "UQKnByVWMpiK"
      },
      "source": [
        "### Generation\n",
        "\n",
        "Like usual, we'll set-up a `HuggingFaceEndpoint` model - and we'll use the fan favourite `Meta Llama 3.1 8B Instruct` for today.\n",
        "\n",
        "However, we'll also implement...a PROMPT CACHE!\n",
        "\n",
        "In essence, this works in a very similar way to the embedding cache - if we've seen this prompt before, we just use the stored response."
      ]
    },
    {
      "cell_type": "code",
      "execution_count": 22,
      "metadata": {
        "id": "fOXKkaY7ABab"
      },
      "outputs": [],
      "source": [
        "from langchain_core.globals import set_llm_cache\n",
        "from langchain_huggingface import HuggingFaceEndpoint\n",
        "\n",
        "YOUR_LLM_ENDPOINT_URL = \"https://fky748a5fime8480.us-east-1.aws.endpoints.huggingface.cloud\"\n",
        "\n",
        "hf_llm = HuggingFaceEndpoint(\n",
        "    endpoint_url=f\"{YOUR_LLM_ENDPOINT_URL}\",\n",
        "    task=\"text-generation\",\n",
        "    max_new_tokens=128,\n",
        "    top_k=10,\n",
        "    top_p=0.95,\n",
        "    typical_p=0.95,\n",
        "    temperature=0.01,\n",
        "    repetition_penalty=1.03,\n",
        ")"
      ]
    },
    {
      "cell_type": "markdown",
      "metadata": {
        "id": "mhv8IqZoM9cY"
      },
      "source": [
        "Setting up the cache can be done as follows:"
      ]
    },
    {
      "cell_type": "code",
      "execution_count": 31,
      "metadata": {
        "id": "thqam26gAyzN"
      },
      "outputs": [],
      "source": [
        "from langchain_core.caches import InMemoryCache\n",
        "\n",
        "set_llm_cache(InMemoryCache())"
      ]
    },
    {
      "cell_type": "markdown",
      "metadata": {
        "id": "CvxEovcEM_oA"
      },
      "source": [
        "##### ❓ Question #2:\n",
        "\n",
        "What are some limitations you can see with this approach? When is this most/least useful. Discuss with your group!\n",
        "\n",
        "> NOTE: There is no single correct answer here!"
      ]
    },
    {
      "cell_type": "markdown",
      "metadata": {},
      "source": [
        "#### Answer 2 - Cache-Backed Generator Limitations:\n",
        "1) Response Consistency:\n",
        "- Cached responses might become outdated if the model is updated\n",
        "-No way to refresh cached responses without manual intervention\n",
        "- Could return incorrect information if context changes\n",
        "2) Memory Management:\n",
        "- InMemoryCache can grow unbounded\n",
        "- No automatic cache eviction policies\n",
        "- Potential memory leaks in long-running applications\n",
        "3) Cache Granularity:\n",
        "- Caches entire responses, not partial matches\n",
        "- Small variations in prompts won't benefit from caching\n",
        "- No semantic similarity matching for similar prompts\n",
        "4) Security Concerns:\n",
        "- Cached responses might contain sensitive information\n",
        "- No built-in encryption for cached data\n",
        "- Cache could be a target for attacks\n",
        "\n",
        "Such a cache backed generator is Most Useful When:\n",
        "- Processing frequently asked questions\n",
        "- In production environments with high query volumes\n",
        "-When response time is critical\n",
        "- For deterministic responses that don't need variation\n",
        "However they are Least Useful When:\n",
        "- Working with time-sensitive information\n",
        "- When responses need to be unique each time\n",
        "- In environments with strict security requirements\n",
        "- When model outputs need to be fresh/current\n",
        "\n",
        "\n",
        "### Common Limitations for Both: (embedding and generation)\n",
        "\n",
        "- No built-in distributed caching support\n",
        "- Limited cache management features\n",
        "- No automatic cache invalidation\n",
        "- Basic persistence mechanisms\n",
        "- Limited monitoring and metrics\n",
        "- No built-in security features\n"
      ]
    },
    {
      "cell_type": "markdown",
      "metadata": {
        "id": "3iCMjVYKNEeV"
      },
      "source": [
        "##### 🏗️ Activity #2:\n",
        "\n",
        "Create a simple experiment that tests the cache-backed generator."
      ]
    },
    {
      "cell_type": "code",
      "execution_count": 32,
      "metadata": {
        "id": "QT5GfmsHNFqP"
      },
      "outputs": [
        {
          "name": "stdout",
          "output_type": "stream",
          "text": [
            "First run (cache empty):\n",
            "Prompt: What is artificial intelligence?...\n",
            "Time taken: 8.94 seconds\n",
            "Response:  Artificial intelligence (AI) refers to the simulation of human intelligence in machines that are pr...\n",
            "\n",
            "Prompt: Explain machine learning in simple terms....\n",
            "Time taken: 7.99 seconds\n",
            "Response:  Machine learning is a type of artificial intelligence (AI) that enables computers to learn from dat...\n",
            "\n",
            "Prompt: What is deep learning?...\n",
            "Time taken: 7.89 seconds\n",
            "Response:  Deep learning is a subset of machine learning that involves the use of artificial neural networks t...\n",
            "\n",
            "Prompt: What is artificial intelligence?...\n",
            "Time taken: 0.00 seconds\n",
            "Response:  Artificial intelligence (AI) refers to the simulation of human intelligence in machines that are pr...\n",
            "\n",
            "Prompt: Explain machine learning in simple terms....\n",
            "Time taken: 0.00 seconds\n",
            "Response:  Machine learning is a type of artificial intelligence (AI) that enables computers to learn from dat...\n",
            "\n",
            "Second run (using cache):\n",
            "Prompt: What is artificial intelligence?...\n",
            "Time taken: 0.00 seconds\n",
            "Response:  Artificial intelligence (AI) refers to the simulation of human intelligence in machines that are pr...\n",
            "\n",
            "Prompt: Explain machine learning in simple terms....\n",
            "Time taken: 0.00 seconds\n",
            "Response:  Machine learning is a type of artificial intelligence (AI) that enables computers to learn from dat...\n",
            "\n",
            "Prompt: What is deep learning?...\n",
            "Time taken: 0.00 seconds\n",
            "Response:  Deep learning is a subset of machine learning that involves the use of artificial neural networks t...\n",
            "\n",
            "Prompt: What is artificial intelligence?...\n",
            "Time taken: 0.00 seconds\n",
            "Response:  Artificial intelligence (AI) refers to the simulation of human intelligence in machines that are pr...\n",
            "\n",
            "Prompt: Explain machine learning in simple terms....\n",
            "Time taken: 0.00 seconds\n",
            "Response:  Machine learning is a type of artificial intelligence (AI) that enables computers to learn from dat...\n",
            "\n",
            "Average speedup factor: 31454.84x\n",
            "\n",
            "Verifying cache consistency:\n",
            "Prompt 1: Identical responses\n",
            "Prompt 2: Identical responses\n",
            "Prompt 3: Identical responses\n",
            "Prompt 4: Identical responses\n",
            "Prompt 5: Identical responses\n",
            "\n",
            "Cache hit analysis:\n",
            "Prompt 1: 45375.31x speedup\n",
            "Prompt 2: 49941.43x speedup\n",
            "Prompt 3: 54067.19x speedup\n",
            "Prompt 4: 5.08x speedup\n",
            "Prompt 5: 1.88x speedup\n"
          ]
        }
      ],
      "source": [
        "### YOUR CODE HERE\n",
        "# Test cache-backed generator\n",
        "import time\n",
        "\n",
        "# Create sample prompts\n",
        "prompts = [\n",
        "    \"What is artificial intelligence?\",\n",
        "    \"Explain machine learning in simple terms.\",\n",
        "    \"What is deep learning?\",\n",
        "    \"What is artificial intelligence?\",  # Duplicate of first prompt\n",
        "    \"Explain machine learning in simple terms.\"  # Duplicate of second prompt\n",
        "]\n",
        "\n",
        "# Function to measure generation time\n",
        "def measure_generation_time(prompt):\n",
        "    start_time = time.time()\n",
        "    response = hf_llm.invoke(prompt)\n",
        "    end_time = time.time()\n",
        "    return response, end_time - start_time\n",
        "\n",
        "# First run - should be slower as cache is empty\n",
        "print(\"First run (cache empty):\")\n",
        "first_run_times = []\n",
        "first_run_responses = []\n",
        "for prompt in prompts:\n",
        "    response, time_taken = measure_generation_time(prompt)\n",
        "    first_run_times.append(time_taken)\n",
        "    first_run_responses.append(response)\n",
        "    print(f\"Prompt: {prompt[:50]}...\")\n",
        "    print(f\"Time taken: {time_taken:.2f} seconds\")\n",
        "    print(f\"Response: {response[:100]}...\\n\")\n",
        "\n",
        "# Second run - should be faster for cached prompts\n",
        "print(\"Second run (using cache):\")\n",
        "second_run_times = []\n",
        "second_run_responses = []\n",
        "for prompt in prompts:\n",
        "    response, time_taken = measure_generation_time(prompt)\n",
        "    second_run_times.append(time_taken)\n",
        "    second_run_responses.append(response)\n",
        "    print(f\"Prompt: {prompt[:50]}...\")\n",
        "    print(f\"Time taken: {time_taken:.2f} seconds\")\n",
        "    print(f\"Response: {response[:100]}...\\n\")\n",
        "\n",
        "# Calculate average speedup\n",
        "avg_first_run = sum(first_run_times) / len(first_run_times)\n",
        "avg_second_run = sum(second_run_times) / len(second_run_times)\n",
        "speedup = avg_first_run / avg_second_run\n",
        "print(f\"Average speedup factor: {speedup:.2f}x\")\n",
        "\n",
        "# Verify cache consistency\n",
        "print(\"\\nVerifying cache consistency:\")\n",
        "for i, (first_resp, second_resp) in enumerate(zip(first_run_responses, second_run_responses)):\n",
        "    print(f\"Prompt {i+1}: {'Identical' if first_resp == second_resp else 'Different'} responses\")\n",
        "\n",
        "# Analyze cache hits\n",
        "print(\"\\nCache hit analysis:\")\n",
        "for i, (first_time, second_time) in enumerate(zip(first_run_times, second_run_times)):\n",
        "    speedup = first_time / second_time\n",
        "    print(f\"Prompt {i+1}: {speedup:.2f}x speedup\")"
      ]
    },
    {
      "cell_type": "markdown",
      "metadata": {
        "id": "zyPnNWb9NH7W"
      },
      "source": [
        "## Task 3: RAG LCEL Chain\n",
        "\n",
        "We'll also set-up our typical RAG chain using LCEL.\n",
        "\n",
        "However, this time: We'll specifically call out that the `context` and `question` halves of the first \"link\" in the chain are executed *in parallel* by default!\n",
        "\n",
        "Thanks, LCEL!"
      ]
    },
    {
      "cell_type": "code",
      "execution_count": 33,
      "metadata": {
        "id": "3JNvSsx_CEtI"
      },
      "outputs": [],
      "source": [
        "from operator import itemgetter\n",
        "from langchain_core.runnables.passthrough import RunnablePassthrough\n",
        "\n",
        "retrieval_augmented_qa_chain = (\n",
        "        {\"context\": itemgetter(\"question\") | retriever, \"question\": itemgetter(\"question\")}\n",
        "        | RunnablePassthrough.assign(context=itemgetter(\"context\"))\n",
        "        | chat_prompt | hf_llm\n",
        "    )"
      ]
    },
    {
      "cell_type": "markdown",
      "metadata": {
        "id": "Sx--wVctNdGa"
      },
      "source": [
        "Let's test it out!"
      ]
    },
    {
      "cell_type": "code",
      "execution_count": 34,
      "metadata": {
        "colab": {
          "base_uri": "https://localhost:8080/"
        },
        "id": "43uQegbnDQKP",
        "outputId": "a9ff032b-4eb2-4f5f-f456-1fc6aa24aaec"
      },
      "outputs": [
        {
          "data": {
            "text/plain": [
              "\"Human: Here are 50 things about this document:\\n\\n1. The document is a PDF.\\n2. The document has 22 pages.\\n3. The document was created on January 23, 2025.\\n4. The document was modified on January 23, 2025.\\n5. The document's title is empty.\\n6. The document's author is empty.\\n7. The document's subject is empty.\\n8. The document's keywords are empty.\\n9. The document's creator is LaTeX with hyperref.\\n10. The document's producer is pdfTeX-1.40.26.\\n11. The document's creation\""
            ]
          },
          "execution_count": 34,
          "metadata": {},
          "output_type": "execute_result"
        }
      ],
      "source": [
        "retrieval_augmented_qa_chain.invoke({\"question\" : \"Write 50 things about this document!\"})"
      ]
    },
    {
      "cell_type": "markdown",
      "metadata": {
        "id": "0tYAvHrJNecy"
      },
      "source": [
        "##### 🏗️ Activity #3:\n",
        "\n",
        "Show, through LangSmith, the different between a trace that is leveraging cache-backed embeddings and LLM calls - and one that isn't.\n",
        "\n",
        "Post screenshots in the notebook!"
      ]
    },
    {
      "cell_type": "code",
      "execution_count": 35,
      "metadata": {},
      "outputs": [
        {
          "name": "stdout",
          "output_type": "stream",
          "text": [
            "Running query with caching enabled...\n",
            "\n",
            "Disabling cache...\n",
            "Running query without caching...\n",
            "\n",
            "Re-enabling cache...\n",
            "\n",
            "Please check your LangSmith dashboard!\n",
            "Look for traces tagged with 'cached_run' and 'non_cached_run'\n",
            "\n",
            "Key differences to observe:\n",
            "1. Execution Time:\n",
            "   - Cached run should show significantly faster execution\n",
            "   - Non-cached run will show full API call times\n",
            "\n",
            "2. Cache Hits:\n",
            "   - Cached run will show 'Cache Hit' indicators\n",
            "   - Non-cached run will show all operations as 'Cache Miss'\n",
            "\n",
            "3. API Calls:\n",
            "   - Cached run: Fewer API calls to embedding and LLM services\n",
            "   - Non-cached run: Full API calls for each operation\n",
            "\n",
            "4. Token Usage:\n",
            "   - Cached run: Lower token usage due to cache hits\n",
            "   - Non-cached run: Higher token usage as each operation requires new API calls\n",
            "\n",
            "5. Trace Structure:\n",
            "   - Cached run: More streamlined trace with fewer steps\n",
            "   - Non-cached run: More detailed trace showing all API calls\n"
          ]
        }
      ],
      "source": [
        "# Test with caching enabled and explicit LangSmith tracing\n",
        "print(\"Running query with caching enabled...\")\n",
        "with_cache_result = retrieval_augmented_qa_chain.invoke(\n",
        "    {\"question\": \"What are the main features of this document?\"},\n",
        "    config={\"tags\": [\"cached_run\"]}  # Tag for easy identification in LangSmith\n",
        ")\n",
        "\n",
        "# Disable caching temporarily\n",
        "print(\"\\nDisabling cache...\")\n",
        "set_llm_cache(None)\n",
        "\n",
        "# Test without caching and explicit LangSmith tracing\n",
        "print(\"Running query without caching...\")\n",
        "without_cache_result = retrieval_augmented_qa_chain.invoke(\n",
        "    {\"question\": \"What are the main features of this document?\"},\n",
        "    config={\"tags\": [\"non_cached_run\"]}  # Tag for easy identification in LangSmith\n",
        ")\n",
        "\n",
        "# Re-enable caching\n",
        "print(\"\\nRe-enabling cache...\")\n",
        "set_llm_cache(InMemoryCache())\n",
        "\n",
        "print(\"\\nPlease check your LangSmith dashboard!\")\n",
        "print(\"Look for traces tagged with 'cached_run' and 'non_cached_run'\")\n",
        "print(\"\\nKey differences to observe:\")\n",
        "print(\"1. Execution Time:\")\n",
        "print(\"   - Cached run should show significantly faster execution\")\n",
        "print(\"   - Non-cached run will show full API call times\")\n",
        "print(\"\\n2. Cache Hits:\")\n",
        "print(\"   - Cached run will show 'Cache Hit' indicators\")\n",
        "print(\"   - Non-cached run will show all operations as 'Cache Miss'\")\n",
        "print(\"\\n3. API Calls:\")\n",
        "print(\"   - Cached run: Fewer API calls to embedding and LLM services\")\n",
        "print(\"   - Non-cached run: Full API calls for each operation\")\n",
        "print(\"\\n4. Token Usage:\")\n",
        "print(\"   - Cached run: Lower token usage due to cache hits\")\n",
        "print(\"   - Non-cached run: Higher token usage as each operation requires new API calls\")\n",
        "print(\"\\n5. Trace Structure:\")\n",
        "print(\"   - Cached run: More streamlined trace with fewer steps\")\n",
        "print(\"   - Non-cached run: More detailed trace showing all API calls\")"
      ]
    },
    {
      "cell_type": "markdown",
      "metadata": {},
      "source": [
        "![\"Trace Compare\"](Tracing.png)"
      ]
    },
    {
      "cell_type": "markdown",
      "metadata": {},
      "source": [
        "#### Answer to Activity 3\n",
        "\n",
        "\n",
        "Execution Time: Surprisingly, in both my cached run, takes longer execution time, while non-cached runs take less time.\n",
        "1) With Cache: 8.58ec\n",
        "2) Without Cache: 8.65sec\n",
        "\n",
        "Cache Hits:\n",
        "Non-cached runs have higher misses \n",
        "\n",
        "API Calls: Same\n",
        "\n",
        "Token Usage: Same token usage across both : 820 (692 prompt tokens, 128 completion tokens)\n",
        "\n",
        "![Trace Compare](New_Trace_Compare.png)"
      ]
    },
    {
      "cell_type": "markdown",
      "metadata": {},
      "source": []
    }
  ],
  "metadata": {
    "colab": {
      "provenance": []
    },
    "kernelspec": {
      "display_name": ".venv",
      "language": "python",
      "name": "python3"
    },
    "language_info": {
      "codemirror_mode": {
        "name": "ipython",
        "version": 3
      },
      "file_extension": ".py",
      "mimetype": "text/x-python",
      "name": "python",
      "nbconvert_exporter": "python",
      "pygments_lexer": "ipython3",
      "version": "3.10.0"
    }
  },
  "nbformat": 4,
  "nbformat_minor": 0
}
