{
  "cells": [
    {
      "cell_type": "markdown",
      "metadata": {
        "id": "gJXW_DgiSebM"
      },
      "source": [
        "# LangGraph and LangSmith - Agentic RAG Powered by LangChain\n",
        "\n",
        "In the following notebook we'll complete the following tasks:\n",
        "\n",
        "- 🤝 Breakout Room #1:\n",
        "  1. Install required libraries\n",
        "  2. Set Environment Variables\n",
        "  3. Creating our Tool Belt\n",
        "  4. Creating Our State\n",
        "  5. Creating and Compiling A Graph!\n",
        "\n",
        "- 🤝 Breakout Room #2:\n",
        "  1. Evaluating the LangGraph Application with LangSmith\n",
        "  2. Adding Helpfulness Check and \"Loop\" Limits\n",
        "  3. LangGraph for the \"Patterns\" of GenAI"
      ]
    },
    {
      "cell_type": "markdown",
      "metadata": {
        "id": "djQ3nRAgoF67"
      },
      "source": [
        "# 🤝 Breakout Room #1"
      ]
    },
    {
      "cell_type": "markdown",
      "metadata": {
        "id": "e7pQDUhUnIo8"
      },
      "source": [
        "## Part 1: LangGraph - Building Cyclic Applications with LangChain\n",
        "\n",
        "LangGraph is a tool that leverages LangChain Expression Language to build coordinated multi-actor and stateful applications that includes cyclic behaviour.\n",
        "\n",
        "### Why Cycles?\n",
        "\n",
        "In essence, we can think of a cycle in our graph as a more robust and customizable loop. It allows us to keep our application agent-forward while still giving the powerful functionality of traditional loops.\n",
        "\n",
        "Due to the inclusion of cycles over loops, we can also compose rather complex flows through our graph in a much more readable and natural fashion. Effectively allowing us to recreate application flowcharts in code in an almost 1-to-1 fashion.\n",
        "\n",
        "### Why LangGraph?\n",
        "\n",
        "Beyond the agent-forward approach - we can easily compose and combine traditional \"DAG\" (directed acyclic graph) chains with powerful cyclic behaviour due to the tight integration with LCEL. This means it's a natural extension to LangChain's core offerings!"
      ]
    },
    {
      "cell_type": "markdown",
      "metadata": {
        "id": "3_fLDElOVoop"
      },
      "source": [
        "## Task 1:  Dependencies\n",
        "\n",
        "We'll first install all our required libraries.\n",
        "\n",
        "> NOTE: If you're running this locally - please skip this step."
      ]
    },
    {
      "cell_type": "code",
      "execution_count": 1,
      "metadata": {
        "colab": {
          "base_uri": "https://localhost:8080/"
        },
        "id": "KaVwN269EttM",
        "outputId": "ba50f775-3957-4d88-9a88-43acc6966dda"
      },
      "outputs": [
        {
          "name": "stdout",
          "output_type": "stream",
          "text": [
            "\u001b[33mWARNING: Ignoring invalid distribution ~rpcio (/Library/Frameworks/Python.framework/Versions/3.12/lib/python3.12/site-packages)\u001b[0m\u001b[33m\n",
            "\u001b[0m\u001b[33mWARNING: Ignoring invalid distribution ~rpcio (/Library/Frameworks/Python.framework/Versions/3.12/lib/python3.12/site-packages)\u001b[0m\u001b[33m\n",
            "\u001b[0m\u001b[33mWARNING: Ignoring invalid distribution ~rpcio (/Library/Frameworks/Python.framework/Versions/3.12/lib/python3.12/site-packages)\u001b[0m\u001b[33m\n",
            "\u001b[0m\u001b[33mWARNING: Ignoring invalid distribution ~rpcio (/Library/Frameworks/Python.framework/Versions/3.12/lib/python3.12/site-packages)\u001b[0m\u001b[33m\n",
            "\u001b[0m\u001b[33mWARNING: Ignoring invalid distribution ~rpcio (/Library/Frameworks/Python.framework/Versions/3.12/lib/python3.12/site-packages)\u001b[0m\u001b[33m\n",
            "\u001b[0m\u001b[33mWARNING: Ignoring invalid distribution ~rpcio (/Library/Frameworks/Python.framework/Versions/3.12/lib/python3.12/site-packages)\u001b[0m\u001b[33m\n",
            "\u001b[0m"
          ]
        }
      ],
      "source": [
        "!pip install -qU langchain langchain_openai langchain-community langgraph arxiv"
      ]
    },
    {
      "cell_type": "markdown",
      "metadata": {
        "id": "wujPjGJuoPwg"
      },
      "source": [
        "## Task 2: Environment Variables\n",
        "\n",
        "We'll want to set both our OpenAI API key and our LangSmith environment variables."
      ]
    },
    {
      "cell_type": "code",
      "execution_count": 2,
      "metadata": {
        "colab": {
          "base_uri": "https://localhost:8080/"
        },
        "id": "Jdh8CoVWHRvs",
        "outputId": "3fa78560-393c-4ee5-b871-9886bf0d70f4"
      },
      "outputs": [],
      "source": [
        "import os\n",
        "import getpass\n",
        "\n",
        "os.environ[\"OPENAI_API_KEY\"] = getpass.getpass(\"OpenAI API Key:\")"
      ]
    },
    {
      "cell_type": "code",
      "execution_count": 3,
      "metadata": {
        "colab": {
          "base_uri": "https://localhost:8080/"
        },
        "id": "Jkla2fpx28QK",
        "outputId": "52d7ad22-fcb1-4abe-853b-216c55a12650"
      },
      "outputs": [],
      "source": [
        "os.environ[\"TAVILY_API_KEY\"] = getpass.getpass(\"TAVILY_API_KEY\")"
      ]
    },
    {
      "cell_type": "code",
      "execution_count": 4,
      "metadata": {
        "colab": {
          "base_uri": "https://localhost:8080/"
        },
        "id": "Nv0glIDyHmRt",
        "outputId": "b69df90a-b4e1-4ddb-9de0-882d98b68ab2"
      },
      "outputs": [],
      "source": [
        "from uuid import uuid4\n",
        "\n",
        "os.environ[\"LANGCHAIN_TRACING_V2\"] = \"true\"\n",
        "os.environ[\"LANGCHAIN_PROJECT\"] = f\"AIE6 - LangGraph - {uuid4().hex[0:8]}\"\n",
        "os.environ[\"LANGCHAIN_API_KEY\"] = getpass.getpass(\"LangSmith API Key: \")"
      ]
    },
    {
      "cell_type": "markdown",
      "metadata": {
        "id": "sBRyQmEAVzua"
      },
      "source": [
        "## Task 3: Creating our Tool Belt\n",
        "\n",
        "As is usually the case, we'll want to equip our agent with a toolbelt to help answer questions and add external knowledge.\n",
        "\n",
        "There's a tonne of tools in the [LangChain Community Repo](https://github.com/langchain-ai/langchain/tree/master/libs/community/langchain_community/tools) but we'll stick to a couple just so we can observe the cyclic nature of LangGraph in action!\n",
        "\n",
        "We'll leverage:\n",
        "\n",
        "- [Tavily Search Results](https://github.com/langchain-ai/langchain/blob/master/libs/community/langchain_community/tools/tavily_search/tool.py)\n",
        "- [Arxiv](https://github.com/langchain-ai/langchain/tree/master/libs/community/langchain_community/tools/arxiv)"
      ]
    },
    {
      "cell_type": "markdown",
      "metadata": {
        "id": "2k6n_Dob2F46"
      },
      "source": [
        "#### 🏗️ Activity #1:\n",
        "\n",
        "Please add the tools to use into our toolbelt.\n",
        "\n",
        "> NOTE: Each tool in our toolbelt should be a method."
      ]
    },
    {
      "cell_type": "code",
      "execution_count": 5,
      "metadata": {
        "id": "lAxaSvlfIeOg"
      },
      "outputs": [],
      "source": [
        "from langchain_community.tools.tavily_search import TavilySearchResults\n",
        "from langchain_community.tools.arxiv.tool import ArxivQueryRun\n",
        "\n",
        "tavily_tool = TavilySearchResults(max_results=5)\n",
        "\n",
        "tool_belt = [\n",
        "    tavily_tool,\n",
        "    ArxivQueryRun(),\n",
        "]"
      ]
    },
    {
      "cell_type": "markdown",
      "metadata": {
        "id": "VI-C669ZYVI5"
      },
      "source": [
        "### Model\n",
        "\n",
        "Now we can set-up our model! We'll leverage the familiar OpenAI model suite for this example - but it's not *necessary* to use with LangGraph. LangGraph supports all models - though you might not find success with smaller models - as such, they recommend you stick with:\n",
        "\n",
        "- OpenAI's GPT-3.5 and GPT-4\n",
        "- Anthropic's Claude\n",
        "- Google's Gemini\n",
        "\n",
        "> NOTE: Because we're leveraging the OpenAI function calling API - we'll need to use OpenAI *for this specific example* (or any other service that exposes an OpenAI-style function calling API."
      ]
    },
    {
      "cell_type": "code",
      "execution_count": 6,
      "metadata": {
        "id": "QkNS8rNZJs4z"
      },
      "outputs": [],
      "source": [
        "from langchain_openai import ChatOpenAI\n",
        "\n",
        "model = ChatOpenAI(model=\"gpt-4o\", temperature=0)"
      ]
    },
    {
      "cell_type": "markdown",
      "metadata": {
        "id": "Ugkj3GzuZpQv"
      },
      "source": [
        "Now that we have our model set-up, let's \"put on the tool belt\", which is to say: We'll bind our LangChain formatted tools to the model in an OpenAI function calling format."
      ]
    },
    {
      "cell_type": "code",
      "execution_count": 7,
      "metadata": {
        "id": "4OdMqFafZ_0V"
      },
      "outputs": [],
      "source": [
        "model = model.bind_tools(tool_belt)"
      ]
    },
    {
      "cell_type": "markdown",
      "metadata": {
        "id": "ERzuGo6W18Lr"
      },
      "source": [
        "#### ❓ Question #1:\n",
        "\n",
        "How does the model determine which tool to use?"
      ]
    },
    {
      "cell_type": "markdown",
      "metadata": {},
      "source": [
        "#### Answer #1:\n",
        "\n",
        "The tool_belt [] definition creates the tools (Tavily Search and Arxiv search ).\n",
        "\n",
        "The bind_tools registers the two tools with the model, so the LLM knows they have access to external tools with specific capabilities. It attaches metadata about each tool (name, description, input schema) to the model.This allows the model to decide which one to use during response generation \n",
        "\n",
        "Without bind_tools, the LLM won’t know that your tool like search_arxiv() even exists — or how to use it.\n",
        "\n",
        "To determine which tool to use, the LLM itself at runtime (or generation time) leverages the metadata about the tool (name, description) and any prior context along with user query to decide what tool to call. "
      ]
    },
    {
      "cell_type": "markdown",
      "metadata": {
        "id": "_296Ub96Z_H8"
      },
      "source": [
        "## Task 4: Putting the State in Stateful\n",
        "\n",
        "Earlier we used this phrasing:\n",
        "\n",
        "`coordinated multi-actor and stateful applications`\n",
        "\n",
        "So what does that \"stateful\" mean?\n",
        "\n",
        "To put it simply - we want to have some kind of object which we can pass around our application that holds information about what the current situation (state) is. Since our system will be constructed of many parts moving in a coordinated fashion - we want to be able to ensure we have some commonly understood idea of that state.\n",
        "\n",
        "LangGraph leverages a `StatefulGraph` which uses an `AgentState` object to pass information between the various nodes of the graph.\n",
        "\n",
        "There are more options than what we'll see below - but this `AgentState` object is one that is stored in a `TypedDict` with the key `messages` and the value is a `Sequence` of `BaseMessages` that will be appended to whenever the state changes.\n",
        "\n",
        "Let's think about a simple example to help understand exactly what this means (we'll simplify a great deal to try and clearly communicate what state is doing):\n",
        "\n",
        "1. We initialize our state object:\n",
        "  - `{\"messages\" : []}`\n",
        "2. Our user submits a query to our application.\n",
        "  - New State: `HumanMessage(#1)`\n",
        "  - `{\"messages\" : [HumanMessage(#1)}`\n",
        "3. We pass our state object to an Agent node which is able to read the current state. It will use the last `HumanMessage` as input. It gets some kind of output which it will add to the state.\n",
        "  - New State: `AgentMessage(#1, additional_kwargs {\"function_call\" : \"WebSearchTool\"})`\n",
        "  - `{\"messages\" : [HumanMessage(#1), AgentMessage(#1, ...)]}`\n",
        "4. We pass our state object to a \"conditional node\" (more on this later) which reads the last state to determine if we need to use a tool - which it can determine properly because of our provided object!"
      ]
    },
    {
      "cell_type": "code",
      "execution_count": 8,
      "metadata": {
        "id": "mxL9b_NZKUdL"
      },
      "outputs": [],
      "source": [
        "from typing import TypedDict, Annotated\n",
        "from langgraph.graph.message import add_messages\n",
        "import operator\n",
        "from langchain_core.messages import BaseMessage\n",
        "\n",
        "class AgentState(TypedDict):\n",
        "  messages: Annotated[list, add_messages]"
      ]
    },
    {
      "cell_type": "markdown",
      "metadata": {
        "id": "vWsMhfO9grLu"
      },
      "source": [
        "## Task 5: It's Graphing Time!\n",
        "\n",
        "Now that we have state, and we have tools, and we have an LLM - we can finally start making our graph!\n",
        "\n",
        "Let's take a second to refresh ourselves about what a graph is in this context.\n",
        "\n",
        "Graphs, also called networks in some circles, are a collection of connected objects.\n",
        "\n",
        "The objects in question are typically called nodes, or vertices, and the connections are called edges.\n",
        "\n",
        "Let's look at a simple graph.\n",
        "\n",
        "![image](https://i.imgur.com/2NFLnIc.png)\n",
        "\n",
        "Here, we're using the coloured circles to represent the nodes and the yellow lines to represent the edges. In this case, we're looking at a fully connected graph - where each node is connected by an edge to each other node.\n",
        "\n",
        "If we were to think about nodes in the context of LangGraph - we would think of a function, or an LCEL runnable.\n",
        "\n",
        "If we were to think about edges in the context of LangGraph - we might think of them as \"paths to take\" or \"where to pass our state object next\".\n",
        "\n",
        "Let's create some nodes and expand on our diagram.\n",
        "\n",
        "> NOTE: Due to the tight integration with LCEL - we can comfortably create our nodes in an async fashion!"
      ]
    },
    {
      "cell_type": "code",
      "execution_count": 9,
      "metadata": {
        "id": "91flJWtZLUrl"
      },
      "outputs": [],
      "source": [
        "from langgraph.prebuilt import ToolNode\n",
        "\n",
        "def call_model(state):\n",
        "  messages = state[\"messages\"]\n",
        "  response = model.invoke(messages)\n",
        "  return {\"messages\" : [response]}\n",
        "\n",
        "tool_node = ToolNode(tool_belt)"
      ]
    },
    {
      "cell_type": "markdown",
      "metadata": {
        "id": "2bwR7MgWj3Wg"
      },
      "source": [
        "Now we have two total nodes. We have:\n",
        "\n",
        "- `call_model` is a node that will...well...call the model\n",
        "- `tool_node` is a node which can call a tool\n",
        "\n",
        "Let's start adding nodes! We'll update our diagram along the way to keep track of what this looks like!\n"
      ]
    },
    {
      "cell_type": "code",
      "execution_count": 10,
      "metadata": {
        "colab": {
          "base_uri": "https://localhost:8080/"
        },
        "id": "_vF4_lgtmQNo",
        "outputId": "a4384377-8f7a-415f-be1b-fee6169cb101"
      },
      "outputs": [
        {
          "data": {
            "text/plain": [
              "<langgraph.graph.state.StateGraph at 0x107b72f90>"
            ]
          },
          "execution_count": 10,
          "metadata": {},
          "output_type": "execute_result"
        }
      ],
      "source": [
        "from langgraph.graph import StateGraph, END\n",
        "\n",
        "uncompiled_graph = StateGraph(AgentState)\n",
        "\n",
        "uncompiled_graph.add_node(\"agent\", call_model)\n",
        "uncompiled_graph.add_node(\"action\", tool_node)"
      ]
    },
    {
      "cell_type": "markdown",
      "metadata": {
        "id": "b8CjRlbVmRpW"
      },
      "source": [
        "Let's look at what we have so far:\n",
        "\n",
        "![image](https://i.imgur.com/md7inqG.png)"
      ]
    },
    {
      "cell_type": "markdown",
      "metadata": {
        "id": "uaXHpPeSnOWC"
      },
      "source": [
        "Next, we'll add our entrypoint. All our entrypoint does is indicate which node is called first."
      ]
    },
    {
      "cell_type": "code",
      "execution_count": 11,
      "metadata": {
        "colab": {
          "base_uri": "https://localhost:8080/"
        },
        "id": "YGCbaYqRnmiw",
        "outputId": "5351807c-2ac7-4316-a3a3-878abeacd114"
      },
      "outputs": [
        {
          "data": {
            "text/plain": [
              "<langgraph.graph.state.StateGraph at 0x107b72f90>"
            ]
          },
          "execution_count": 11,
          "metadata": {},
          "output_type": "execute_result"
        }
      ],
      "source": [
        "uncompiled_graph.set_entry_point(\"agent\")"
      ]
    },
    {
      "cell_type": "markdown",
      "metadata": {
        "id": "BUsfGoSpoF9U"
      },
      "source": [
        "![image](https://i.imgur.com/wNixpJe.png)"
      ]
    },
    {
      "cell_type": "markdown",
      "metadata": {
        "id": "0Q_pQgHmoW0M"
      },
      "source": [
        "Now we want to build a \"conditional edge\" which will use the output state of a node to determine which path to follow.\n",
        "\n",
        "We can help conceptualize this by thinking of our conditional edge as a conditional in a flowchart!\n",
        "\n",
        "Notice how our function simply checks if there is a \"function_call\" kwarg present.\n",
        "\n",
        "Then we create an edge where the origin node is our agent node and our destination node is *either* the action node or the END (finish the graph).\n",
        "\n",
        "It's important to highlight that the dictionary passed in as the third parameter (the mapping) should be created with the possible outputs of our conditional function in mind. In this case `should_continue` outputs either `\"end\"` or `\"continue\"` which are subsequently mapped to the action node or the END node."
      ]
    },
    {
      "cell_type": "code",
      "execution_count": 12,
      "metadata": {
        "colab": {
          "base_uri": "https://localhost:8080/"
        },
        "id": "1BZgb81VQf9o",
        "outputId": "73a07c15-5f0b-40f2-b033-38b57d056dd8"
      },
      "outputs": [
        {
          "data": {
            "text/plain": [
              "<langgraph.graph.state.StateGraph at 0x107b72f90>"
            ]
          },
          "execution_count": 12,
          "metadata": {},
          "output_type": "execute_result"
        }
      ],
      "source": [
        "def should_continue(state):\n",
        "  last_message = state[\"messages\"][-1]\n",
        "\n",
        "  if last_message.tool_calls:\n",
        "    return \"action\"\n",
        "\n",
        "  return END\n",
        "\n",
        "uncompiled_graph.add_conditional_edges(\n",
        "    \"agent\",\n",
        "    should_continue\n",
        ")"
      ]
    },
    {
      "cell_type": "markdown",
      "metadata": {
        "id": "-Cvhcf4jp0Ce"
      },
      "source": [
        "Let's visualize what this looks like.\n",
        "\n",
        "![image](https://i.imgur.com/8ZNwKI5.png)"
      ]
    },
    {
      "cell_type": "markdown",
      "metadata": {
        "id": "yKCjWJCkrJb9"
      },
      "source": [
        "Finally, we can add our last edge which will connect our action node to our agent node. This is because we *always* want our action node (which is used to call our tools) to return its output to our agent!"
      ]
    },
    {
      "cell_type": "code",
      "execution_count": 13,
      "metadata": {
        "colab": {
          "base_uri": "https://localhost:8080/"
        },
        "id": "UvcgbHf1rIXZ",
        "outputId": "45d4bdd6-d6bb-4a1d-bb79-cad43c130bf2"
      },
      "outputs": [
        {
          "data": {
            "text/plain": [
              "<langgraph.graph.state.StateGraph at 0x107b72f90>"
            ]
          },
          "execution_count": 13,
          "metadata": {},
          "output_type": "execute_result"
        }
      ],
      "source": [
        "uncompiled_graph.add_edge(\"action\", \"agent\")"
      ]
    },
    {
      "cell_type": "markdown",
      "metadata": {
        "id": "EiWDwBQtrw7Z"
      },
      "source": [
        "Let's look at the final visualization.\n",
        "\n",
        "![image](https://i.imgur.com/NWO7usO.png)"
      ]
    },
    {
      "cell_type": "markdown",
      "metadata": {
        "id": "KYqDpErlsCsu"
      },
      "source": [
        "All that's left to do now is to compile our workflow - and we're off!"
      ]
    },
    {
      "cell_type": "code",
      "execution_count": 14,
      "metadata": {
        "id": "zt9-KS8DpzNx"
      },
      "outputs": [],
      "source": [
        "compiled_graph = uncompiled_graph.compile()"
      ]
    },
    {
      "cell_type": "markdown",
      "metadata": {
        "id": "xhNWIwBL1W4Q"
      },
      "source": [
        "#### ❓ Question #2:\n",
        "\n",
        "Is there any specific limit to how many times we can cycle?\n",
        "\n",
        "If not, how could we impose a limit to the number of cycles?"
      ]
    },
    {
      "cell_type": "markdown",
      "metadata": {},
      "source": [
        "#### Answer #2:\n",
        "LangGraph does set limits. By default, LangGraph sets a maximum loop limit of 25 cycles through a node to prevent infinite loops.\n",
        "\n",
        "To impose a limit to number of cycles, we can set max_iterations=10 as a paramter when compiling. \n",
        "\n",
        "compiled_graph = uncompiled_graph.compile(max_iterations=10)"
      ]
    },
    {
      "cell_type": "markdown",
      "metadata": {
        "id": "VEYcTShCsPaa"
      },
      "source": [
        "## Using Our Graph\n",
        "\n",
        "Now that we've created and compiled our graph - we can call it *just as we'd call any other* `Runnable`!\n",
        "\n",
        "Let's try out a few examples to see how it fairs:"
      ]
    },
    {
      "cell_type": "code",
      "execution_count": 15,
      "metadata": {
        "colab": {
          "base_uri": "https://localhost:8080/"
        },
        "id": "Qn4n37PQRPII",
        "outputId": "5eeedfae-089d-496e-e71f-071939fa5832"
      },
      "outputs": [
        {
          "name": "stdout",
          "output_type": "stream",
          "text": [
            "Receiving update from node: 'agent'\n",
            "[AIMessage(content='', additional_kwargs={'tool_calls': [{'id': 'call_k9Z2gBBfLBZmUsvYpEcH4WAy', 'function': {'arguments': '{\"query\":\"current captain of the Winnipeg Jets 2023\"}', 'name': 'tavily_search_results_json'}, 'type': 'function'}], 'refusal': None}, response_metadata={'token_usage': {'completion_tokens': 27, 'prompt_tokens': 162, 'total_tokens': 189, 'completion_tokens_details': {'accepted_prediction_tokens': 0, 'audio_tokens': 0, 'reasoning_tokens': 0, 'rejected_prediction_tokens': 0}, 'prompt_tokens_details': {'audio_tokens': 0, 'cached_tokens': 0}}, 'model_name': 'gpt-4o-2024-08-06', 'system_fingerprint': 'fp_a6889ffe71', 'finish_reason': 'tool_calls', 'logprobs': None}, id='run-bbe22bd4-553a-4781-99c2-24263964b1be-0', tool_calls=[{'name': 'tavily_search_results_json', 'args': {'query': 'current captain of the Winnipeg Jets 2023'}, 'id': 'call_k9Z2gBBfLBZmUsvYpEcH4WAy', 'type': 'tool_call'}], usage_metadata={'input_tokens': 162, 'output_tokens': 27, 'total_tokens': 189, 'input_token_details': {'audio': 0, 'cache_read': 0}, 'output_token_details': {'audio': 0, 'reasoning': 0}})]\n",
            "\n",
            "\n",
            "\n",
            "Receiving update from node: 'action'\n",
            "[ToolMessage(content='[{\"url\": \"https://www.hockey-reference.com/teams/WPG/2024.html\", \"content\": \"via Sports Logos.net\\\\n\\\\nAbout logos\\\\n\\\\n2023-24\\\\nWinnipeg Jets\\\\nRoster and Statistics\\\\n\\\\nRecord: 52-24-6 (110 points), Finished 2nd in NHL\\xa0Central Division\\\\t\\xa0(Schedule and Results)\\\\n\\\\nCoach: Rick Bowness (52-24-6)\\\\n\\\\nCaptain:\\\\nAdam Lowry\\\\n\\\\nPrimary Arena: Canada Life Centre\\\\n\\\\nGoals For: 259 (15th of 32), Goals Against: 198 (1st of 32)\\\\n\\\\tSRS: 0.69 (4th of 32),\\xa0\\\\n\\\\tSOS: -0.04 (29th of 32)\\\\n\\\\nPlayoffs:Lost First Round (4-1) to Colorado Avalanche\\\\n\\\\nPreseason Odds: Stanley Cup +5000; O/U: 91.5\\\\n\\\\nOn this page: [...] 4 | Josh Morrissey | 28 | D | 5 | 3 | 1 | 4 | -3 | 2 | 1 | 2 | 0 | 0 | 0 | 1 | 0 | 12 | 25.0 | 28 | 122:55 | 24:35 | 0 | 0 |  | 12 | 4 | 2 | 2 | \\\\n5 | Brenden Dillon | 33 | D | 3 | 0 | 3 | 3 | 1 | 4 | 0 | 0 | 0 | 0 | 3 | 0 | 0 | 1 | 0.0 | 9 | 63:13 | 21:04 | 0 | 0 |  | 6 | 12 | 0 | 0 | \\\\n6 | Tyler Toffoli | 31 | C | 5 | 2 | 0 | 2 | -2 | 0 | 2 | 0 | 0 | 0 | 0 | 0 | 0 | 8 | 25.0 | 18 | 70:23 | 14:05 | 4 | 1 | 80.0 | 2 | 8 | 0 | 1 | [...] 1 | Mark Scheifele | 30 | C | 5 | 8 | 3 | 11 | 0 | -6 | \\\\n2 | Kyle Connor | 27 | LW | 5 | 9 | 3 | 8 | 0 | -2 | \\\\n3 | Gabriel Vilardi | 24 | C | 5 | 8 | 3 | 9 | 0 | -4 | \\\\n4 | Josh Morrissey | 28 | D | 5 | 8 | 3 | 8 | 0 | -3 | \\\\n5 | Brenden Dillon | 33 | D | 3 | 5 | 0 | 6 | 2 | 1 | \\\\n6 | Nino Niederreiter | 31 | RW | 5 | 2 | 0 | 7 | 0 | -5 | \\\\n7 | Mason Appleton | 28 | C | 5 | 3 | 0 | 7 | 0 | -4 | \\\\n8 | Tyler Toffoli | 31 | C | 5 | 2 | 0 | 4 | 0 | -2 |\"}, {\"url\": \"https://www.nytimes.com/athletic/4855976/2023/09/12/adam-lowry-jets-captain/\", \"content\": \"NHL\\\\n\\\\nJets name Adam Lowry as captain ahead of 2023-24 season: Why Winnipeg chose him\\\\n\\\\nThe Winnipeg Jets finally have a captain again. The team gave forward Adam Lowry the honor Tuesday, making him the third captain in franchise history since the Jets moved from Atlanta. Here’s what you need to know:\\\\n\\\\nWe’ll battle beside him any day 😤 pic.twitter.com/2eeP3tjtGh\\\\n\\\\n— Winnipeg Jets (@NHLJets) September 12, 2023\\\\n\\\\n\\\\n\\\\nThe Athletic’s instant analysis:\\\\n\\\\nWhy Lowry? [...] important, checking role. Still, if you need a superstar to be your team’s captain, Lowry isn’t it. —\\xa0Ates [...] assist in five playoff games.\"}, {\"url\": \"https://en.wikipedia.org/wiki/2023%E2%80%9324_Winnipeg_Jets_season\", \"content\": \"2023–24Winnipeg Jets\\\\nDivision | 2ndCentral\\\\nConference | 2ndWestern\\\\n2023–24 record | 52–24–6\\\\nHome record | 27–11–3\\\\nRoad record | 25–13–3\\\\nGoals for | 259\\\\nGoals against | 199\\\\nTeam information\\\\nGeneral manager | Kevin Cheveldayoff\\\\nCoach | Rick Bowness(Oct. 11 – Oct. 23, Nov. 24 – Apr. 30)Scott Arniel(interim, Oct. 23 – Nov. 24)\\\\nCaptain | Adam Lowry\\\\nAlternate captains | Josh MorrisseyMark Scheifele\\\\nArena | Canada Life Centre\\\\nAverage attendance | 13,447[1] [...] vteWinnipeg Jets\\\\nFormerly theAtlanta ThrashersFounded in1999Based inWinnipeg, Manitoba\\\\nFranchise | TeamGeneral managersCoachesPlayersCaptainsDraft picksexpansion draftSeasonsCurrent season\\\\nHistory | RecordsAward winnersBroadcasters\\\\nPersonnel | Owner(s)True North Sports & Entertainment(Mark Chipman, chairman)General managerKevin CheveldayoffHead coachScott ArnielTeam captainAdam LowryCurrent roster\\\\nArena | Canada Life Centre\\\\nAffiliates | AHLManitoba MooseECHLNorfolk Admirals [...] Player | GP | G | A | Pts | +/− | PIM\\\\nMark Scheifele | 74 | 25 | 47 | 72 | 19 | 57\\\\nJosh Morrissey | 81 | 10 | 59 | 69 | 34 | 44\\\\nKyle Connor | 65 | 34 | 27 | 61 | –6 | 6\\\\nNikolaj Ehlers | 82 | 25 | 36 | 61 | 27 | 29\\\\nCole Perfetti | 71 | 19 | 19 | 38 | 13 | 12\\\\nVladislav Namestnikov | 78 | 11 | 26 | 37 | 17 | 37\\\\nGabriel Vilardi | 47 | 22 | 14 | 36 | 11 | 14\\\\nMason Appleton | 82 | 14 | 22 | 36 | 16 | 26\\\\nAdam Lowry | 81 | 12 | 23 | 35 | 17 | 57\\\\nNino Niederreiter | 77 | 18 | 16 | 34 | 12 | 34\"}, {\"url\": \"https://www.nhlpa.com/news/2-36227/jets-make-centre-adam-lowry-new-captain-third-to-wear-c-in-winnipeg-history\", \"content\": \"Lowry is the third Jets captain since the team moved from Atlanta in 2011. After going without a captain for the 2022-23 season, Winnipeg chose the rugged centre over alternate captains Josh Morrissey and Mark Scheifele to succeed Blake Wheeler and Andrew Ladd.\\\\n\\\\n“It’s pretty special,” Lowry said at a press conference held at Canada Life Centre. “The FaceTime to my mom and seeing her reaction, and just seeing how proud she was, it was extremely special. [...] \\\\\"It’s an important step and an exciting one. I think Adam really embodies a lot of what the city of Winnipeg is all about — hard work, honest, blue collar, and comes to work each and every day.”\\\\n\\\\nCheveldayoff believes that the Jets\\' newest captain will help usher in a new era.\\\\n\\\\n\\\\\"We believe the time is right for Adam Lowry to assume this role and set the standard for the way the Winnipeg Jets will move forward with new leadership and new purpose.” [...] “Maybe you don’t have to delegate so many responsibilities, but I think at the same time, my job is to be there in the tough times, be that solid consistent voice and presence — along with those other guys (alternates),” Lowry said.\\\\n\\\\n“It just allows my voice, maybe, to be the most strong in the room.”\\\\n\\\\nThis report by The Canadian Press was first published Sept. 12, 2023.\\\\n\\\\n— With files from Joshua Clipperton in Las Vegas.\\\\n\\\\nJim Bender, The Canadian Press\\\\n\\\\nOther News\"}, {\"url\": \"https://en.wikipedia.org/wiki/Adam_Lowry\", \"content\": \"Awards and achievements\\\\nPreceded\\xa0byStefan Elliott | Winner of theDaryl K. (Doc) Seaman Trophy2010 | Succeeded\\xa0byColin Smith\\\\nSporting positions\\\\nPreceded\\xa0byBlake Wheeler | Winnipeg Jets captain2023–present | Incumbent\\\\nvteCurrent team captains in the National Hockey League\\\\nPacific | Radko Gudas(Anaheim)Mikael Backlund(Calgary)Connor McDavid(Edmonton)Anze Kopitar(Los Angeles)Vacant(San Jose)Jordan Eberle(Seattle)Quinn Hughes(Vancouver)Mark Stone(Vegas) [...] Entering the 2023–24 season, Lowry was named captain of the Jets on September 12, 2023.[60] He became the third in the team\\'s history since relocating to Winnipeg, and the tenth overall in franchise history.\\\\n\\\\nPersonal life\\\\n\\\\nDespite being born in St. Louis, Missouri, Lowry was raised in Calgary, Alberta, where his father, Dave, played for the Calgary Flames and later was an assistant coach for the NHL\\'s Calgary Flames.[4]\"}]', name='tavily_search_results_json', id='2cde7c1b-81ca-4adb-9cc3-fb9b3d6a24ee', tool_call_id='call_k9Z2gBBfLBZmUsvYpEcH4WAy', artifact={'query': 'current captain of the Winnipeg Jets 2023', 'follow_up_questions': None, 'answer': None, 'images': [], 'results': [{'url': 'https://www.hockey-reference.com/teams/WPG/2024.html', 'title': '2023-24 Winnipeg Jets Roster and Statistics - Hockey-Reference.com', 'content': 'via Sports Logos.net\\n\\nAbout logos\\n\\n2023-24\\nWinnipeg Jets\\nRoster and Statistics\\n\\nRecord: 52-24-6 (110 points), Finished 2nd in NHL\\xa0Central Division\\t\\xa0(Schedule and Results)\\n\\nCoach: Rick Bowness (52-24-6)\\n\\nCaptain:\\nAdam Lowry\\n\\nPrimary Arena: Canada Life Centre\\n\\nGoals For: 259 (15th of 32), Goals Against: 198 (1st of 32)\\n\\tSRS: 0.69 (4th of 32),\\xa0\\n\\tSOS: -0.04 (29th of 32)\\n\\nPlayoffs:Lost First Round (4-1) to Colorado Avalanche\\n\\nPreseason Odds: Stanley Cup +5000; O/U: 91.5\\n\\nOn this page: [...] 4 | Josh Morrissey | 28 | D | 5 | 3 | 1 | 4 | -3 | 2 | 1 | 2 | 0 | 0 | 0 | 1 | 0 | 12 | 25.0 | 28 | 122:55 | 24:35 | 0 | 0 |  | 12 | 4 | 2 | 2 | \\n5 | Brenden Dillon | 33 | D | 3 | 0 | 3 | 3 | 1 | 4 | 0 | 0 | 0 | 0 | 3 | 0 | 0 | 1 | 0.0 | 9 | 63:13 | 21:04 | 0 | 0 |  | 6 | 12 | 0 | 0 | \\n6 | Tyler Toffoli | 31 | C | 5 | 2 | 0 | 2 | -2 | 0 | 2 | 0 | 0 | 0 | 0 | 0 | 0 | 8 | 25.0 | 18 | 70:23 | 14:05 | 4 | 1 | 80.0 | 2 | 8 | 0 | 1 | [...] 1 | Mark Scheifele | 30 | C | 5 | 8 | 3 | 11 | 0 | -6 | \\n2 | Kyle Connor | 27 | LW | 5 | 9 | 3 | 8 | 0 | -2 | \\n3 | Gabriel Vilardi | 24 | C | 5 | 8 | 3 | 9 | 0 | -4 | \\n4 | Josh Morrissey | 28 | D | 5 | 8 | 3 | 8 | 0 | -3 | \\n5 | Brenden Dillon | 33 | D | 3 | 5 | 0 | 6 | 2 | 1 | \\n6 | Nino Niederreiter | 31 | RW | 5 | 2 | 0 | 7 | 0 | -5 | \\n7 | Mason Appleton | 28 | C | 5 | 3 | 0 | 7 | 0 | -4 | \\n8 | Tyler Toffoli | 31 | C | 5 | 2 | 0 | 4 | 0 | -2 |', 'score': 0.90432173, 'raw_content': None}, {'url': 'https://www.nytimes.com/athletic/4855976/2023/09/12/adam-lowry-jets-captain/', 'title': 'Jets name Adam Lowry as captain ahead of 2023-24 season', 'content': 'NHL\\n\\nJets name Adam Lowry as captain ahead of 2023-24 season: Why Winnipeg chose him\\n\\nThe Winnipeg Jets finally have a captain again. The team gave forward Adam Lowry the honor Tuesday, making him the third captain in franchise history since the Jets moved from Atlanta. Here’s what you need to know:\\n\\nWe’ll battle beside him any day 😤 pic.twitter.com/2eeP3tjtGh\\n\\n— Winnipeg Jets (@NHLJets) September 12, 2023\\n\\n\\n\\nThe Athletic’s instant analysis:\\n\\nWhy Lowry? [...] important, checking role. Still, if you need a superstar to be your team’s captain, Lowry isn’t it. —\\xa0Ates [...] assist in five playoff games.', 'score': 0.89501935, 'raw_content': None}, {'url': 'https://en.wikipedia.org/wiki/2023%E2%80%9324_Winnipeg_Jets_season', 'title': '2023–24 Winnipeg Jets season - Wikipedia', 'content': '2023–24Winnipeg Jets\\nDivision | 2ndCentral\\nConference | 2ndWestern\\n2023–24 record | 52–24–6\\nHome record | 27–11–3\\nRoad record | 25–13–3\\nGoals for | 259\\nGoals against | 199\\nTeam information\\nGeneral manager | Kevin Cheveldayoff\\nCoach | Rick Bowness(Oct. 11 – Oct. 23, Nov. 24 – Apr. 30)Scott Arniel(interim, Oct. 23 – Nov. 24)\\nCaptain | Adam Lowry\\nAlternate captains | Josh MorrisseyMark Scheifele\\nArena | Canada Life Centre\\nAverage attendance | 13,447[1] [...] vteWinnipeg Jets\\nFormerly theAtlanta ThrashersFounded in1999Based inWinnipeg, Manitoba\\nFranchise | TeamGeneral managersCoachesPlayersCaptainsDraft picksexpansion draftSeasonsCurrent season\\nHistory | RecordsAward winnersBroadcasters\\nPersonnel | Owner(s)True North Sports & Entertainment(Mark Chipman, chairman)General managerKevin CheveldayoffHead coachScott ArnielTeam captainAdam LowryCurrent roster\\nArena | Canada Life Centre\\nAffiliates | AHLManitoba MooseECHLNorfolk Admirals [...] Player | GP | G | A | Pts | +/− | PIM\\nMark Scheifele | 74 | 25 | 47 | 72 | 19 | 57\\nJosh Morrissey | 81 | 10 | 59 | 69 | 34 | 44\\nKyle Connor | 65 | 34 | 27 | 61 | –6 | 6\\nNikolaj Ehlers | 82 | 25 | 36 | 61 | 27 | 29\\nCole Perfetti | 71 | 19 | 19 | 38 | 13 | 12\\nVladislav Namestnikov | 78 | 11 | 26 | 37 | 17 | 37\\nGabriel Vilardi | 47 | 22 | 14 | 36 | 11 | 14\\nMason Appleton | 82 | 14 | 22 | 36 | 16 | 26\\nAdam Lowry | 81 | 12 | 23 | 35 | 17 | 57\\nNino Niederreiter | 77 | 18 | 16 | 34 | 12 | 34', 'score': 0.89053273, 'raw_content': None}, {'url': 'https://www.nhlpa.com/news/2-36227/jets-make-centre-adam-lowry-new-captain-third-to-wear-c-in-winnipeg-history', 'title': \"Jets make centre Adam Lowry new captain, third to wear 'C' in ...\", 'content': 'Lowry is the third Jets captain since the team moved from Atlanta in 2011. After going without a captain for the 2022-23 season, Winnipeg chose the rugged centre over alternate captains Josh Morrissey and Mark Scheifele to succeed Blake Wheeler and Andrew Ladd.\\n\\n“It’s pretty special,” Lowry said at a press conference held at Canada Life Centre. “The FaceTime to my mom and seeing her reaction, and just seeing how proud she was, it was extremely special. [...] \"It’s an important step and an exciting one. I think Adam really embodies a lot of what the city of Winnipeg is all about — hard work, honest, blue collar, and comes to work each and every day.”\\n\\nCheveldayoff believes that the Jets\\' newest captain will help usher in a new era.\\n\\n\"We believe the time is right for Adam Lowry to assume this role and set the standard for the way the Winnipeg Jets will move forward with new leadership and new purpose.” [...] “Maybe you don’t have to delegate so many responsibilities, but I think at the same time, my job is to be there in the tough times, be that solid consistent voice and presence — along with those other guys (alternates),” Lowry said.\\n\\n“It just allows my voice, maybe, to be the most strong in the room.”\\n\\nThis report by The Canadian Press was first published Sept. 12, 2023.\\n\\n— With files from Joshua Clipperton in Las Vegas.\\n\\nJim Bender, The Canadian Press\\n\\nOther News', 'score': 0.8893851, 'raw_content': None}, {'url': 'https://en.wikipedia.org/wiki/Adam_Lowry', 'title': 'Adam Lowry - Wikipedia', 'content': \"Awards and achievements\\nPreceded\\xa0byStefan Elliott | Winner of theDaryl K. (Doc) Seaman Trophy2010 | Succeeded\\xa0byColin Smith\\nSporting positions\\nPreceded\\xa0byBlake Wheeler | Winnipeg Jets captain2023–present | Incumbent\\nvteCurrent team captains in the National Hockey League\\nPacific | Radko Gudas(Anaheim)Mikael Backlund(Calgary)Connor McDavid(Edmonton)Anze Kopitar(Los Angeles)Vacant(San Jose)Jordan Eberle(Seattle)Quinn Hughes(Vancouver)Mark Stone(Vegas) [...] Entering the 2023–24 season, Lowry was named captain of the Jets on September 12, 2023.[60] He became the third in the team's history since relocating to Winnipeg, and the tenth overall in franchise history.\\n\\nPersonal life\\n\\nDespite being born in St. Louis, Missouri, Lowry was raised in Calgary, Alberta, where his father, Dave, played for the Calgary Flames and later was an assistant coach for the NHL's Calgary Flames.[4]\", 'score': 0.8740022, 'raw_content': None}], 'response_time': 3.92})]\n",
            "\n",
            "\n",
            "\n",
            "Receiving update from node: 'agent'\n",
            "[AIMessage(content='The current captain of the Winnipeg Jets is Adam Lowry. He was named captain ahead of the 2023-24 season.', additional_kwargs={'refusal': None}, response_metadata={'token_usage': {'completion_tokens': 28, 'prompt_tokens': 2333, 'total_tokens': 2361, 'completion_tokens_details': {'accepted_prediction_tokens': 0, 'audio_tokens': 0, 'reasoning_tokens': 0, 'rejected_prediction_tokens': 0}, 'prompt_tokens_details': {'audio_tokens': 0, 'cached_tokens': 0}}, 'model_name': 'gpt-4o-2024-08-06', 'system_fingerprint': 'fp_a6889ffe71', 'finish_reason': 'stop', 'logprobs': None}, id='run-d02ec6c7-9281-48c5-8643-28c34519518d-0', usage_metadata={'input_tokens': 2333, 'output_tokens': 28, 'total_tokens': 2361, 'input_token_details': {'audio': 0, 'cache_read': 0}, 'output_token_details': {'audio': 0, 'reasoning': 0}})]\n",
            "\n",
            "\n",
            "\n"
          ]
        }
      ],
      "source": [
        "from langchain_core.messages import HumanMessage\n",
        "\n",
        "inputs = {\"messages\" : [HumanMessage(content=\"Who is the current captain of the Winnipeg Jets?\")]}\n",
        "\n",
        "async for chunk in compiled_graph.astream(inputs, stream_mode=\"updates\"):\n",
        "    for node, values in chunk.items():\n",
        "        print(f\"Receiving update from node: '{node}'\")\n",
        "        print(values[\"messages\"])\n",
        "        print(\"\\n\\n\")"
      ]
    },
    {
      "cell_type": "markdown",
      "metadata": {
        "id": "DBHnUtLSscRr"
      },
      "source": [
        "Let's look at what happened:\n",
        "\n",
        "1. Our state object was populated with our request\n",
        "2. The state object was passed into our entry point (agent node) and the agent node added an `AIMessage` to the state object and passed it along the conditional edge\n",
        "3. The conditional edge received the state object, found the \"tool_calls\" `additional_kwarg`, and sent the state object to the action node\n",
        "4. The action node added the response from the OpenAI function calling endpoint to the state object and passed it along the edge to the agent node\n",
        "5. The agent node added a response to the state object and passed it along the conditional edge\n",
        "6. The conditional edge received the state object, could not find the \"tool_calls\" `additional_kwarg` and passed the state object to END where we see it output in the cell above!\n",
        "\n",
        "Now let's look at an example that shows a multiple tool usage - all with the same flow!"
      ]
    },
    {
      "cell_type": "code",
      "execution_count": 16,
      "metadata": {
        "colab": {
          "base_uri": "https://localhost:8080/"
        },
        "id": "afv2BuEsV5JG",
        "outputId": "ff009536-d281-4a56-c126-9cd245352bfe"
      },
      "outputs": [
        {
          "name": "stdout",
          "output_type": "stream",
          "text": [
            "Receiving update from node: 'agent'\n",
            "[AIMessage(content='', additional_kwargs={'tool_calls': [{'id': 'call_ngAhvJ5oK7IRuxmqxIbBBGeu', 'function': {'arguments': '{\"query\":\"QLoRA\"}', 'name': 'arxiv'}, 'type': 'function'}], 'refusal': None}, response_metadata={'token_usage': {'completion_tokens': 17, 'prompt_tokens': 178, 'total_tokens': 195, 'completion_tokens_details': {'accepted_prediction_tokens': 0, 'audio_tokens': 0, 'reasoning_tokens': 0, 'rejected_prediction_tokens': 0}, 'prompt_tokens_details': {'audio_tokens': 0, 'cached_tokens': 0}}, 'model_name': 'gpt-4o-2024-08-06', 'system_fingerprint': 'fp_a6889ffe71', 'finish_reason': 'tool_calls', 'logprobs': None}, id='run-f04af885-7a22-4187-8972-59e64d3962aa-0', tool_calls=[{'name': 'arxiv', 'args': {'query': 'QLoRA'}, 'id': 'call_ngAhvJ5oK7IRuxmqxIbBBGeu', 'type': 'tool_call'}], usage_metadata={'input_tokens': 178, 'output_tokens': 17, 'total_tokens': 195, 'input_token_details': {'audio': 0, 'cache_read': 0}, 'output_token_details': {'audio': 0, 'reasoning': 0}})]\n",
            "\n",
            "\n",
            "\n",
            "Receiving update from node: 'action'\n",
            "Tool Used: arxiv\n",
            "[ToolMessage(content='Published: 2023-05-23\\nTitle: QLoRA: Efficient Finetuning of Quantized LLMs\\nAuthors: Tim Dettmers, Artidoro Pagnoni, Ari Holtzman, Luke Zettlemoyer\\nSummary: We present QLoRA, an efficient finetuning approach that reduces memory usage\\nenough to finetune a 65B parameter model on a single 48GB GPU while preserving\\nfull 16-bit finetuning task performance. QLoRA backpropagates gradients through\\na frozen, 4-bit quantized pretrained language model into Low Rank\\nAdapters~(LoRA). Our best model family, which we name Guanaco, outperforms all\\nprevious openly released models on the Vicuna benchmark, reaching 99.3% of the\\nperformance level of ChatGPT while only requiring 24 hours of finetuning on a\\nsingle GPU. QLoRA introduces a number of innovations to save memory without\\nsacrificing performance: (a) 4-bit NormalFloat (NF4), a new data type that is\\ninformation theoretically optimal for normally distributed weights (b) double\\nquantization to reduce the average memory footprint by quantizing the\\nquantization constants, and (c) paged optimziers to manage memory spikes. We\\nuse QLoRA to finetune more than 1,000 models, providing a detailed analysis of\\ninstruction following and chatbot performance across 8 instruction datasets,\\nmultiple model types (LLaMA, T5), and model scales that would be infeasible to\\nrun with regular finetuning (e.g. 33B and 65B parameter models). Our results\\nshow that QLoRA finetuning on a small high-quality dataset leads to\\nstate-of-the-art results, even when using smaller models than the previous\\nSoTA. We provide a detailed analysis of chatbot performance based on both human\\nand GPT-4 evaluations showing that GPT-4 evaluations are a cheap and reasonable\\nalternative to human evaluation. Furthermore, we find that current chatbot\\nbenchmarks are not trustworthy to accurately evaluate the performance levels of\\nchatbots. A lemon-picked analysis demonstrates where Guanaco fails compared to\\nChatGPT. We release all of our models and code, including CUDA kernels for\\n4-bit training.\\n\\nPublished: 2024-05-27\\nTitle: Accurate LoRA-Finetuning Quantization of LLMs via Information Retention\\nAuthors: Haotong Qin, Xudong Ma, Xingyu Zheng, Xiaoyang Li, Yang Zhang, Shouda Liu, Jie Luo, Xianglong Liu, Michele Magno\\nSummary: The LoRA-finetuning quantization of LLMs has been extensively studied to\\nobtain accurate yet compact LLMs for deployment on resource-constrained\\nhardware. However, existing methods cause the quantized LLM to severely degrade\\nand even fail to benefit from the finetuning of LoRA. This paper proposes a\\nnovel IR-QLoRA for pushing quantized LLMs with LoRA to be highly accurate\\nthrough information retention. The proposed IR-QLoRA mainly relies on two\\ntechnologies derived from the perspective of unified information: (1)\\nstatistics-based Information Calibration Quantization allows the quantized\\nparameters of LLM to retain original information accurately; (2)\\nfinetuning-based Information Elastic Connection makes LoRA utilizes elastic\\nrepresentation transformation with diverse information. Comprehensive\\nexperiments show that IR-QLoRA can significantly improve accuracy across LLaMA\\nand LLaMA2 families under 2-4 bit-widths, e.g., 4- bit LLaMA-7B achieves 1.4%\\nimprovement on MMLU compared with the state-of-the-art methods. The significant\\nperformance gain requires only a tiny 0.31% additional time consumption,\\nrevealing the satisfactory efficiency of our IR-QLoRA. We highlight that\\nIR-QLoRA enjoys excellent versatility, compatible with various frameworks\\n(e.g., NormalFloat and Integer quantization) and brings general accuracy gains.\\nThe code is available at https://github.com/htqin/ir-qlora.\\n\\nPublished: 2025-02-05\\nTitle: Resource-Efficient & Effective Code Summarization\\nAuthors: Saima Afrin, Joseph Call, Khai-Nguyen Nguyen, Oscar Chaparro, Antonio Mastropaolo\\nSummary: Code Language Models (CLMs) have demonstrated high effectiveness in\\nautomating software engineering tasks such as bug fixing, code generation, and\\ncode documentation. This ', name='arxiv', id='af1d26f6-b024-4f3c-97c3-2e37f51fcc43', tool_call_id='call_ngAhvJ5oK7IRuxmqxIbBBGeu')]\n",
            "\n",
            "\n",
            "\n",
            "Receiving update from node: 'agent'\n",
            "[AIMessage(content='', additional_kwargs={'tool_calls': [{'id': 'call_57fiL7BUEJBIWo4TgmLvzxLD', 'function': {'arguments': '{\"query\": \"Tim Dettmers latest tweet\"}', 'name': 'tavily_search_results_json'}, 'type': 'function'}, {'id': 'call_nx9gmZeVoFiBQLslwGrwTBYn', 'function': {'arguments': '{\"query\": \"Artidoro Pagnoni latest tweet\"}', 'name': 'tavily_search_results_json'}, 'type': 'function'}, {'id': 'call_rYMGnVIKpcJYuePDa8v8Ys2E', 'function': {'arguments': '{\"query\": \"Ari Holtzman latest tweet\"}', 'name': 'tavily_search_results_json'}, 'type': 'function'}, {'id': 'call_vEvQNlKuF05qZDWxOM6ZMt13', 'function': {'arguments': '{\"query\": \"Luke Zettlemoyer latest tweet\"}', 'name': 'tavily_search_results_json'}, 'type': 'function'}], 'refusal': None}, response_metadata={'token_usage': {'completion_tokens': 113, 'prompt_tokens': 1148, 'total_tokens': 1261, 'completion_tokens_details': {'accepted_prediction_tokens': 0, 'audio_tokens': 0, 'reasoning_tokens': 0, 'rejected_prediction_tokens': 0}, 'prompt_tokens_details': {'audio_tokens': 0, 'cached_tokens': 0}}, 'model_name': 'gpt-4o-2024-08-06', 'system_fingerprint': 'fp_a6889ffe71', 'finish_reason': 'tool_calls', 'logprobs': None}, id='run-bff06dff-6ffa-4f75-964f-117436144ba8-0', tool_calls=[{'name': 'tavily_search_results_json', 'args': {'query': 'Tim Dettmers latest tweet'}, 'id': 'call_57fiL7BUEJBIWo4TgmLvzxLD', 'type': 'tool_call'}, {'name': 'tavily_search_results_json', 'args': {'query': 'Artidoro Pagnoni latest tweet'}, 'id': 'call_nx9gmZeVoFiBQLslwGrwTBYn', 'type': 'tool_call'}, {'name': 'tavily_search_results_json', 'args': {'query': 'Ari Holtzman latest tweet'}, 'id': 'call_rYMGnVIKpcJYuePDa8v8Ys2E', 'type': 'tool_call'}, {'name': 'tavily_search_results_json', 'args': {'query': 'Luke Zettlemoyer latest tweet'}, 'id': 'call_vEvQNlKuF05qZDWxOM6ZMt13', 'type': 'tool_call'}], usage_metadata={'input_tokens': 1148, 'output_tokens': 113, 'total_tokens': 1261, 'input_token_details': {'audio': 0, 'cache_read': 0}, 'output_token_details': {'audio': 0, 'reasoning': 0}})]\n",
            "\n",
            "\n",
            "\n",
            "Receiving update from node: 'action'\n",
            "Tool Used: tavily_search_results_json\n",
            "[ToolMessage(content='[{\"url\": \"https://news.ycombinator.com/item?id=36832552\", \"content\": \"whimsicalismon July 23, 2023[–]tim dettmers is such a resource, cheers for this |  |  | whimsicalismon July 23, 2023[–]tim dettmers is such a resource, cheers for this\\\\n |  | whimsicalismon July 23, 2023[–]tim dettmers is such a resource, cheers for this\\\\n |  | whimsicalismon July 23, 2023[–]tim dettmers is such a resource, cheers for this [...] whimsicalismon July 23, 2023[–]tim dettmers is such a resource, cheers for this |  |  | whimsicalismon July 23, 2023[–]tim dettmers is such a resource, cheers for this\\\\n |  | whimsicalismon July 23, 2023[–]tim dettmers is such a resource, cheers for this\\\\nJoin us forAI Startup Schoolthis June 16-17 in San Francisco!Guidelines|FAQ|Lists|API|Security|Legal|Apply to YC|ContactSearch: | [...] turingfeelon July 23, 2023|parent|context|favorite|  on:Retentive Network: A Successor to Transformer for ...Interestingly, I did see this tweet  [0] mentioning a phase shift that occurs in transformers at exactly the scale RetNet stopped at. Probably simply coincidental but I was previously unaware of this phenomenon at such a scale in transformers.[0]https://twitter.com/gordic_aleksa/status/1682479676910870529whimsicalismon July 23, 2023[–]tim dettmers is such a resource, cheers for this |  |\"}, {\"url\": \"https://threadreaderapp.com/user/Tim_Dettmers\", \"content\": \"Oct 8, 2021 • 13 tweets • 5 min read. I am excited to share my latest work: 8-bit optimizers – a replacement for regular optimizers. Faster , 75% less\"}, {\"url\": \"https://timdettmers.com/\", \"content\": \"Filed Under: Academia, PhD Life Tagged With: Advisors, Grad school, PhD\\\\n\\\\nTPUs vs GPUs for Transformers (BERT)\\\\n\\\\n2018-10-17 by Tim Dettmers 26 Comments [...] Filed Under: Deep Learning, Hardware Tagged With: AMD, CPU, High Performance Computing, Matrix Multiplication, Parallel Computing, PCIe Lanes, Sparse Training\\\\n\\\\nLLM.int8() and Emergent Features\\\\n\\\\n2022-08-17 by Tim Dettmers 13 Comments [...] [Read more…] about How to Choose Your Grad School\\\\n\\\\nFiled Under: Academia, PhD Life Tagged With: Advisors, Grad school, PhD\\\\n\\\\nOn Creativity in Academia\\\\n\\\\n2019-09-03 by Tim Dettmers 5 Comments\"}, {\"url\": \"https://twitter.com/Tim_Dettmers\", \"content\": \"Perplexity Deep Research is quite close to OpenAI o3 on the Humanity Last Exam Benchmark despite being an order of magnitude faster and cheaper. This is\"}, {\"url\": \"https://developer.nvidia.com/blog/author/tdettmers/\", \"content\": \"He runs a blog about deep learning and takes part in Kaggle data science competitions where he has reached a world rank of 63. Follow @Tim_Dettmers on Twitter\"}]', name='tavily_search_results_json', id='02b35761-0f7b-4435-94f9-b6f6cff4836d', tool_call_id='call_57fiL7BUEJBIWo4TgmLvzxLD', artifact={'query': 'Tim Dettmers latest tweet', 'follow_up_questions': None, 'answer': None, 'images': [], 'results': [{'url': 'https://news.ycombinator.com/item?id=36832552', 'title': 'Interestingly, I did see this tweet [0] mentioning a phase shift that ...', 'content': 'whimsicalismon July 23, 2023[–]tim dettmers is such a resource, cheers for this |  |  | whimsicalismon July 23, 2023[–]tim dettmers is such a resource, cheers for this\\n |  | whimsicalismon July 23, 2023[–]tim dettmers is such a resource, cheers for this\\n |  | whimsicalismon July 23, 2023[–]tim dettmers is such a resource, cheers for this [...] whimsicalismon July 23, 2023[–]tim dettmers is such a resource, cheers for this |  |  | whimsicalismon July 23, 2023[–]tim dettmers is such a resource, cheers for this\\n |  | whimsicalismon July 23, 2023[–]tim dettmers is such a resource, cheers for this\\nJoin us forAI Startup Schoolthis June 16-17 in San Francisco!Guidelines|FAQ|Lists|API|Security|Legal|Apply to YC|ContactSearch: | [...] turingfeelon July 23, 2023|parent|context|favorite|  on:Retentive Network: A Successor to Transformer for ...Interestingly, I did see this tweet  [0] mentioning a phase shift that occurs in transformers at exactly the scale RetNet stopped at. Probably simply coincidental but I was previously unaware of this phenomenon at such a scale in transformers.[0]https://twitter.com/gordic_aleksa/status/1682479676910870529whimsicalismon July 23, 2023[–]tim dettmers is such a resource, cheers for this |  |', 'score': 0.7327644, 'raw_content': None}, {'url': 'https://threadreaderapp.com/user/Tim_Dettmers', 'title': \"Tim Dettmers's Threads - Thread Reader App\", 'content': 'Oct 8, 2021 • 13 tweets • 5 min read. I am excited to share my latest work: 8-bit optimizers – a replacement for regular optimizers. Faster , 75% less', 'score': 0.73138535, 'raw_content': None}, {'url': 'https://timdettmers.com/', 'title': 'Tim Dettmers — Making deep learning accessible.', 'content': 'Filed Under: Academia, PhD Life Tagged With: Advisors, Grad school, PhD\\n\\nTPUs vs GPUs for Transformers (BERT)\\n\\n2018-10-17 by Tim Dettmers 26 Comments [...] Filed Under: Deep Learning, Hardware Tagged With: AMD, CPU, High Performance Computing, Matrix Multiplication, Parallel Computing, PCIe Lanes, Sparse Training\\n\\nLLM.int8() and Emergent Features\\n\\n2022-08-17 by Tim Dettmers 13 Comments [...] [Read more…] about How to Choose Your Grad School\\n\\nFiled Under: Academia, PhD Life Tagged With: Advisors, Grad school, PhD\\n\\nOn Creativity in Academia\\n\\n2019-09-03 by Tim Dettmers 5 Comments', 'score': 0.6649108, 'raw_content': None}, {'url': 'https://twitter.com/Tim_Dettmers', 'title': 'Tim Dettmers (@Tim_Dettmers) / X', 'content': 'Perplexity Deep Research is quite close to OpenAI o3 on the Humanity Last Exam Benchmark despite being an order of magnitude faster and cheaper. This is', 'score': 0.6147415, 'raw_content': None}, {'url': 'https://developer.nvidia.com/blog/author/tdettmers/', 'title': 'Author: Tim Dettmers | NVIDIA Technical Blog', 'content': 'He runs a blog about deep learning and takes part in Kaggle data science competitions where he has reached a world rank of 63. Follow @Tim_Dettmers on Twitter', 'score': 0.58948064, 'raw_content': None}], 'response_time': 3.11}), ToolMessage(content='[{\"url\": \"https://artidoro.github.io/\", \"content\": \"I have recently developed the Byte Latent Transformer, a new architecture that efficiently learns from raw byte data unlocking a new scaling dimension and paving the path towards universal byte models. With QLoRA, I reduced finetuning memory requirements by 15x and showed how to approach ChatGPT 3.5 performance in 24h on a single GPU. [...] Previously, I have also worked on sythetic data augmentation for improved controllability of generation systems, investigated language models’ reasoning and world modeling abilities, and evaluated their factual errors, as well as societal challenge associated with their use. [...] Artidoro Pagnoni\\\\n\\\\nPhD student in NLP at the University of Washington\\\\n\\\\nCiao!\\\\n\\\\nI am a final-year PhD student in Computer Science at the University of Washington, advised by Luke Zettlemoyer, and a visiting researcher at Meta. My research focuses on resource efficiency and improving LLM scaling trends.\"}, {\"url\": \"https://twitter.com/ArtidoroPagnoni/highlights\", \"content\": \"Artidoro Pagnoni\\'s Highlights ... Introducing the Byte Latent Transformer (BLT) – An LLM architecture that scales better than Llama 3 using byte-patches instead\"}, {\"url\": \"https://x.com/artidoropagnoni?lang=en\", \"content\": \"https://huggingface.co/facebook/blt Hoping to see many new and improved BLT based architectures this year!\"}, {\"url\": \"https://twitter.com/apagnonipagnoni?lang=ms\", \"content\": \"Don\\'t let climate change deniers derail progress in the global effort to #ActOnClimate: http://ofa.bo/e5FW. Imej. 204. 565. 1K. Artidoro Pagnoni menyiarkan\"}, {\"url\": \"https://x.com/ArtidoroPagnoni/status/1867601413741981804\", \"content\": \"Artidoro Pagnoni · @ArtidoroPagnoni. Introducing the Byte Latent Transformer (BLT) – An LLM architecture that scales better than Llama 3\"}]', name='tavily_search_results_json', id='57099645-845c-4f5c-b030-e73402b03324', tool_call_id='call_nx9gmZeVoFiBQLslwGrwTBYn', artifact={'query': 'Artidoro Pagnoni latest tweet', 'follow_up_questions': None, 'answer': None, 'images': [], 'results': [{'url': 'https://artidoro.github.io/', 'title': 'Artidoro Pagnoni: Ciao!', 'content': 'I have recently developed the Byte Latent Transformer, a new architecture that efficiently learns from raw byte data unlocking a new scaling dimension and paving the path towards universal byte models. With QLoRA, I reduced finetuning memory requirements by 15x and showed how to approach ChatGPT 3.5 performance in 24h on a single GPU. [...] Previously, I have also worked on sythetic data augmentation for improved controllability of generation systems, investigated language models’ reasoning and world modeling abilities, and evaluated their factual errors, as well as societal challenge associated with their use. [...] Artidoro Pagnoni\\n\\nPhD student in NLP at the University of Washington\\n\\nCiao!\\n\\nI am a final-year PhD student in Computer Science at the University of Washington, advised by Luke Zettlemoyer, and a visiting researcher at Meta. My research focuses on resource efficiency and improving LLM scaling trends.', 'score': 0.64746445, 'raw_content': None}, {'url': 'https://twitter.com/ArtidoroPagnoni/highlights', 'title': 'Highlights by Artidoro Pagnoni (@ArtidoroPagnoni) / X', 'content': \"Artidoro Pagnoni's Highlights ... Introducing the Byte Latent Transformer (BLT) – An LLM architecture that scales better than Llama 3 using byte-patches instead\", 'score': 0.64719695, 'raw_content': None}, {'url': 'https://x.com/artidoropagnoni?lang=en', 'title': 'Artidoro Pagnoni (@ArtidoroPagnoni) / X', 'content': 'https://huggingface.co/facebook/blt Hoping to see many new and improved BLT based architectures this year!', 'score': 0.6347929, 'raw_content': None}, {'url': 'https://twitter.com/apagnonipagnoni?lang=ms', 'title': 'Artidoro Pagnoni (@ApagnoniPagnoni) / X', 'content': \"Don't let climate change deniers derail progress in the global effort to #ActOnClimate: http://ofa.bo/e5FW. Imej. 204. 565. 1K. Artidoro Pagnoni menyiarkan\", 'score': 0.61168414, 'raw_content': None}, {'url': 'https://x.com/ArtidoroPagnoni/status/1867601413741981804', 'title': 'Artidoro Pagnoni - X', 'content': 'Artidoro Pagnoni · @ArtidoroPagnoni. Introducing the Byte Latent Transformer (BLT) – An LLM architecture that scales better than Llama 3', 'score': 0.60274047, 'raw_content': None}], 'response_time': 1.91}), ToolMessage(content='[{\"url\": \"https://x.com/aaholtzman?lang=en\", \"content\": \"In other news, I\\'ll be joining @UChicagoCS and @DSI_UChicago in 2024 as an assistant professor and doing a postdoc @Meta in the meantime! I\\'m at\"}, {\"url\": \"https://twitter.com/universeinanegg/status/1677787350586228738\", \"content\": \"Last but not least, thank you to all folks who we had fantastic discussions with and who gave super insightful feedback!\"}, {\"url\": \"https://x.com/universeinanegg?lang=en\", \"content\": \"Ari Holtzman\\'s posts ... If you want a respite from OpenAI drama, how about joining academia? I\\'m starting Conceptualization Lab, recruiting PhDs & Postdocs! We\"}, {\"url\": \"https://twitter.com/universeinanegg/status/1764113353113321929\", \"content\": \"My biggest challenge in life has consistently been: what skills that I don\\'t have a natural talent for are worth honing?\"}, {\"url\": \"https://ariholtzman.com/\", \"content\": \"2024/07—Officially started at UChicago as an Assistant Professor! 2023/09—Started a Post-doc at Meta; 2023/09—Gave a keynote talk at the International\"}]', name='tavily_search_results_json', id='c211ee3a-0527-4d95-9586-295f142c31e6', tool_call_id='call_rYMGnVIKpcJYuePDa8v8Ys2E', artifact={'query': 'Ari Holtzman latest tweet', 'follow_up_questions': None, 'answer': None, 'images': [], 'results': [{'url': 'https://x.com/aaholtzman?lang=en', 'title': 'Ari Holtzman (@aaholtzman) / X', 'content': \"In other news, I'll be joining @UChicagoCS and @DSI_UChicago in 2024 as an assistant professor and doing a postdoc @Meta in the meantime! I'm at\", 'score': 0.64478505, 'raw_content': None}, {'url': 'https://twitter.com/universeinanegg/status/1677787350586228738', 'title': 'Ari Holtzman on X: \"Last but not least, thank you to all folks who we ...', 'content': 'Last but not least, thank you to all folks who we had fantastic discussions with and who gave super insightful feedback!', 'score': 0.5923135, 'raw_content': None}, {'url': 'https://x.com/universeinanegg?lang=en', 'title': 'Ari Holtzman (@universeinanegg) / X', 'content': \"Ari Holtzman's posts ... If you want a respite from OpenAI drama, how about joining academia? I'm starting Conceptualization Lab, recruiting PhDs & Postdocs! We\", 'score': 0.5401241, 'raw_content': None}, {'url': 'https://twitter.com/universeinanegg/status/1764113353113321929', 'title': 'Ari Holtzman on X: \"My biggest challenge in life has consistently ...', 'content': \"My biggest challenge in life has consistently been: what skills that I don't have a natural talent for are worth honing?\", 'score': 0.48264915, 'raw_content': None}, {'url': 'https://ariholtzman.com/', 'title': 'Ari Holtzman', 'content': '2024/07—Officially started at UChicago as an Assistant Professor! 2023/09—Started a Post-doc at Meta; 2023/09—Gave a keynote talk at the International', 'score': 0.46774563, 'raw_content': None}], 'response_time': 5.12}), ToolMessage(content='[{\"url\": \"https://x.com/lukezettlemoyer?lang=en\", \"content\": \"By popular demand (see our GH issues ), we\\'re releasing 1B and 8B weights for our BLT models! We\\'re also hard at work at adding BLT to HF transformers!\"}, {\"url\": \"https://twitter.com/LukeZettlemoyer\", \"content\": \"Come work with me! We are looking to bring on more top talent to our language modeling workstream at Ai2 (@allen_ai ) building the open ecosystem.\"}, {\"url\": \"https://twitter.com/lukezettlemoyer/status/1003662931479941120\", \"content\": \"Come see Julian Michael presenting his work in question answer meaning representations, now at @NAACLHLT ! Image. 3:41 PM · Jun 4, 2018.\"}, {\"url\": \"https://aclanthology.org/2024.eurali-1.8.pdf\", \"content\": \"-Saturday, October 23, 2022 #Mahsa_Amini #IranRevoIution Government Supporters The chador (veil) you have put on is around the enemy’s neck. So hold your chador tighter! #Labbaik_Ya_Khamenei #End_of_Appeasement A student who was martyred due to knife attacks by street thugs and hooligans.\\\\n#Labbaik_Ya_Khamenei #End_Immorality Other Groups We will not back down because of the blood you shed and the children you imprisoned. [...] CoRR, abs/2005.14165.\\\\nWei Chen, Xiao Zhang, Tengjiao Wang, Bishan Yang, and Yi Li. 2017. Opinion-aware knowl-edge graph for political ideology detection. In International Joint Conference on Artificial Intel-ligence.\\\\nAlexis Conneau, Kartikay Khandelwal, Naman Goyal, Vishrav Chaudhary, Guillaume Wenzek, Francisco Guzmán, Édouard Grave, Myle Ott, Luke Zettlemoyer, and Veselin Stoyanov. 2020. [...] Yinhan Liu, Myle Ott, Naman Goyal, Jingfei Du, Mandar Joshi, Danqi Chen, Omer Levy, Mike Lewis, Luke Zettlemoyer, and Veselin Stoyanov. 2019a.\\\\nRoberta: A robustly opti-mized bert pretraining approach. arXiv preprint arXiv:1907.11692.\\\\nYinhan Liu, Myle Ott, Naman Goyal, Jingfei Du, Mandar Joshi, Danqi Chen, Omer Levy, Mike Lewis, Luke Zettlemoyer, and Veselin Stoyanov.\\\\n2019b. Roberta: A robustly optimized BERT pretraining approach. CoRR, abs/1907.11692.\"}, {\"url\": \"https://news.cs.washington.edu/2017/10/22/luke-zettlemoyer-allen-institute-for-ai-in-ny-times/\", \"content\": \"Luke Zettlemoyer, a professor at the University of Washington, turned down a lucrative offer from Google, instead taking a post at the nonprofit Allen\"}]', name='tavily_search_results_json', id='b34cfab9-e919-4ddd-9cd1-82e8b0920248', tool_call_id='call_vEvQNlKuF05qZDWxOM6ZMt13', artifact={'query': 'Luke Zettlemoyer latest tweet', 'follow_up_questions': None, 'answer': None, 'images': [], 'results': [{'url': 'https://x.com/lukezettlemoyer?lang=en', 'title': 'Luke Zettlemoyer (@LukeZettlemoyer) / X', 'content': \"By popular demand (see our GH issues ), we're releasing 1B and 8B weights for our BLT models! We're also hard at work at adding BLT to HF transformers!\", 'score': 0.67706895, 'raw_content': None}, {'url': 'https://twitter.com/LukeZettlemoyer', 'title': 'Luke Zettlemoyer (@LukeZettlemoyer) / X', 'content': 'Come work with me! We are looking to bring on more top talent to our language modeling workstream at Ai2 (@allen_ai ) building the open ecosystem.', 'score': 0.65887916, 'raw_content': None}, {'url': 'https://twitter.com/lukezettlemoyer/status/1003662931479941120', 'title': 'Luke Zettlemoyer on X: \"Come see Julian Michael presenting his ...', 'content': 'Come see Julian Michael presenting his work in question answer meaning representations, now at @NAACLHLT ! Image. 3:41 PM · Jun 4, 2018.', 'score': 0.6147415, 'raw_content': None}, {'url': 'https://aclanthology.org/2024.eurali-1.8.pdf', 'title': '[PDF] An Evaluation of Language Models for Hyper-partisan Ideology ...', 'content': '-Saturday, October 23, 2022 #Mahsa_Amini #IranRevoIution Government Supporters The chador (veil) you have put on is around the enemy’s neck. So hold your chador tighter! #Labbaik_Ya_Khamenei #End_of_Appeasement A student who was martyred due to knife attacks by street thugs and hooligans.\\n#Labbaik_Ya_Khamenei #End_Immorality Other Groups We will not back down because of the blood you shed and the children you imprisoned. [...] CoRR, abs/2005.14165.\\nWei Chen, Xiao Zhang, Tengjiao Wang, Bishan Yang, and Yi Li. 2017. Opinion-aware knowl-edge graph for political ideology detection. In International Joint Conference on Artificial Intel-ligence.\\nAlexis Conneau, Kartikay Khandelwal, Naman Goyal, Vishrav Chaudhary, Guillaume Wenzek, Francisco Guzmán, Édouard Grave, Myle Ott, Luke Zettlemoyer, and Veselin Stoyanov. 2020. [...] Yinhan Liu, Myle Ott, Naman Goyal, Jingfei Du, Mandar Joshi, Danqi Chen, Omer Levy, Mike Lewis, Luke Zettlemoyer, and Veselin Stoyanov. 2019a.\\nRoberta: A robustly opti-mized bert pretraining approach. arXiv preprint arXiv:1907.11692.\\nYinhan Liu, Myle Ott, Naman Goyal, Jingfei Du, Mandar Joshi, Danqi Chen, Omer Levy, Mike Lewis, Luke Zettlemoyer, and Veselin Stoyanov.\\n2019b. Roberta: A robustly optimized BERT pretraining approach. CoRR, abs/1907.11692.', 'score': 0.30507636, 'raw_content': None}, {'url': 'https://news.cs.washington.edu/2017/10/22/luke-zettlemoyer-allen-institute-for-ai-in-ny-times/', 'title': 'Luke Zettlemoyer, Allen Institute for AI in NY Times', 'content': 'Luke Zettlemoyer, a professor at the University of Washington, turned down a lucrative offer from Google, instead taking a post at the nonprofit Allen', 'score': 0.24738279, 'raw_content': None}], 'response_time': 2.87})]\n",
            "\n",
            "\n",
            "\n",
            "Receiving update from node: 'agent'\n",
            "[AIMessage(content='Here are the latest tweets or related updates from the authors of the QLoRA paper:\\n\\n1. **Tim Dettmers**:\\n   - Latest Tweet: \"Perplexity Deep Research is quite close to OpenAI o3 on the Humanity Last Exam Benchmark despite being an order of magnitude faster and cheaper.\" [Source](https://twitter.com/Tim_Dettmers)\\n\\n2. **Artidoro Pagnoni**:\\n   - Latest Tweet: \"Introducing the Byte Latent Transformer (BLT) – An LLM architecture that scales better than Llama 3 using byte-patches instead.\" [Source](https://x.com/ArtidoroPagnoni/status/1867601413741981804)\\n\\n3. **Ari Holtzman**:\\n   - Latest Tweet: \"In other news, I\\'ll be joining @UChicagoCS and @DSI_UChicago in 2024 as an assistant professor and doing a postdoc @Meta in the meantime!\" [Source](https://x.com/aaholtzman?lang=en)\\n\\n4. **Luke Zettlemoyer**:\\n   - Latest Tweet: \"By popular demand (see our GH issues), we\\'re releasing 1B and 8B weights for our BLT models! We\\'re also hard at work at adding BLT to HF transformers!\" [Source](https://x.com/lukezettlemoyer?lang=en)', additional_kwargs={'refusal': None}, response_metadata={'token_usage': {'completion_tokens': 286, 'prompt_tokens': 3487, 'total_tokens': 3773, 'completion_tokens_details': {'accepted_prediction_tokens': 0, 'audio_tokens': 0, 'reasoning_tokens': 0, 'rejected_prediction_tokens': 0}, 'prompt_tokens_details': {'audio_tokens': 0, 'cached_tokens': 1152}}, 'model_name': 'gpt-4o-2024-08-06', 'system_fingerprint': 'fp_a6889ffe71', 'finish_reason': 'stop', 'logprobs': None}, id='run-49965dbd-0ccb-4ef4-a807-fcf2d9ad22df-0', usage_metadata={'input_tokens': 3487, 'output_tokens': 286, 'total_tokens': 3773, 'input_token_details': {'audio': 0, 'cache_read': 1152}, 'output_token_details': {'audio': 0, 'reasoning': 0}})]\n",
            "\n",
            "\n",
            "\n"
          ]
        }
      ],
      "source": [
        "inputs = {\"messages\" : [HumanMessage(content=\"Search Arxiv for the QLoRA paper, then search each of the authors to find out their latest Tweet using Tavily!\")]}\n",
        "\n",
        "async for chunk in compiled_graph.astream(inputs, stream_mode=\"updates\"):\n",
        "    for node, values in chunk.items():\n",
        "        print(f\"Receiving update from node: '{node}'\")\n",
        "        if node == \"action\":\n",
        "          print(f\"Tool Used: {values['messages'][0].name}\")\n",
        "        print(values[\"messages\"])\n",
        "\n",
        "        print(\"\\n\\n\")"
      ]
    },
    {
      "cell_type": "markdown",
      "metadata": {
        "id": "CXzDlZVz1Hnf"
      },
      "source": [
        "#### 🏗️ Activity #2:\n",
        "\n",
        "Please write out the steps the agent took to arrive at the correct answer.\n",
        "\n",
        "Answer:\n",
        "1. The Agent Started with the HumanMessage (from user) to search Qlora paper authors tweet. Our state object was populated with our request. \n",
        "2. The state object was passed into our entry point (agent node) and the agent node added an `AIMessage` to the state object and passed it along the conditional edge\n",
        "3. The conditional edge received the state object, found the \"tool_calls\" `Sesrch Arxiv`, and sent the state object to the action node\n",
        "4. The action node searched through QLora paper, and added the response from the OpenAI function calling endpoint to the state object and passed it along the edge to the agent node. This tool_use agent returned the paper authors to Tim Dettmers, Artidoro Pagnoni, Ari Holtzman, Luke Zettlemoyer.\n",
        "5. The agent node added a response to the state object and passed it along the conditional edge. i.e It issued action to use another tool Tavily_search for latest tweet for the 4 authors above. It did four parallel tool calls. It had 4 parameters like 'Luke Zettlemoyer latest tweet' in a single action call. \n",
        "6. The action call called the Tavily Search tool looking for tweets from the 4 authors that is then returned to the agent.\n",
        "7. The agent determines that the 4 tweets are recieved, formats the answer and determines to END the flow. It send back AIMessage with 4 links, one to each tweet. "
      ]
    },
    {
      "cell_type": "markdown",
      "metadata": {},
      "source": [
        "# 🤝 Breakout Room #2"
      ]
    },
    {
      "cell_type": "markdown",
      "metadata": {
        "id": "v7c8-Uyarh1v"
      },
      "source": [
        "## Part 1: LangSmith Evaluator"
      ]
    },
    {
      "cell_type": "markdown",
      "metadata": {
        "id": "pV3XeFOT1Sar"
      },
      "source": [
        "### Pre-processing for LangSmith"
      ]
    },
    {
      "cell_type": "markdown",
      "metadata": {
        "id": "wruQCuzewUuO"
      },
      "source": [
        "To do a little bit more preprocessing, let's wrap our LangGraph agent in a simple chain."
      ]
    },
    {
      "cell_type": "code",
      "execution_count": 17,
      "metadata": {
        "id": "oeXdQgbxwhTv"
      },
      "outputs": [],
      "source": [
        "def convert_inputs(input_object):\n",
        "  return {\"messages\" : [HumanMessage(content=input_object[\"question\"])]}\n",
        "\n",
        "def parse_output(input_state):\n",
        "  return input_state[\"messages\"][-1].content\n",
        "\n",
        "agent_chain = convert_inputs | compiled_graph | parse_output"
      ]
    },
    {
      "cell_type": "code",
      "execution_count": 18,
      "metadata": {
        "colab": {
          "base_uri": "https://localhost:8080/",
          "height": 105
        },
        "id": "orYxBZXSxJjZ",
        "outputId": "76be837b-6424-4516-8f63-07fbd8c25bf5"
      },
      "outputs": [
        {
          "data": {
            "text/plain": [
              "\"RAG stands for Retrieval-Augmented Generation. It is a technique used in natural language processing (NLP) that combines retrieval-based methods with generative models to improve the quality and accuracy of generated text. Here's how it generally works:\\n\\n1. **Retrieval**: The system first retrieves relevant information or documents from a large corpus or database based on the input query or context. This step ensures that the model has access to up-to-date and contextually relevant information.\\n\\n2. **Augmentation**: The retrieved information is then used to augment the input to a generative model. This can involve concatenating the retrieved text with the input query or using it to inform the model's understanding of the context.\\n\\n3. **Generation**: Finally, a generative model, such as a transformer-based language model, uses the augmented input to generate a response or complete a task. The inclusion of retrieved information helps the model produce more accurate and contextually appropriate outputs.\\n\\nRAG is particularly useful in scenarios where the model needs to generate responses based on a large and dynamic set of information, such as in question-answering systems, chatbots, and other applications requiring real-time information retrieval and generation.\""
            ]
          },
          "execution_count": 18,
          "metadata": {},
          "output_type": "execute_result"
        }
      ],
      "source": [
        "agent_chain.invoke({\"question\" : \"What is RAG?\"})"
      ]
    },
    {
      "cell_type": "markdown",
      "metadata": {
        "id": "f9UkCIqkpyZu"
      },
      "source": [
        "### Task 1: Creating An Evaluation Dataset\n",
        "\n",
        "Just as we saw last week, we'll want to create a dataset to test our Agent's ability to answer questions.\n",
        "\n",
        "In order to do this - we'll want to provide some questions and some answers. Let's look at how we can create such a dataset below.\n",
        "\n",
        "```python\n",
        "questions = [\n",
        "    \"What optimizer is used in QLoRA?\",\n",
        "    \"What data type was created in the QLoRA paper?\",\n",
        "    \"What is a Retrieval Augmented Generation system?\",\n",
        "    \"Who authored the QLoRA paper?\",\n",
        "    \"What is the most popular deep learning framework?\",\n",
        "    \"What significant improvements does the LoRA system make?\"\n",
        "]\n",
        "\n",
        "answers = [\n",
        "    {\"must_mention\" : [\"paged\", \"optimizer\"]},\n",
        "    {\"must_mention\" : [\"NF4\", \"NormalFloat\"]},\n",
        "    {\"must_mention\" : [\"ground\", \"context\"]},\n",
        "    {\"must_mention\" : [\"Tim\", \"Dettmers\"]},\n",
        "    {\"must_mention\" : [\"PyTorch\", \"TensorFlow\"]},\n",
        "    {\"must_mention\" : [\"reduce\", \"parameters\"]},\n",
        "]\n",
        "```"
      ]
    },
    {
      "cell_type": "markdown",
      "metadata": {
        "id": "VfMXF2KAsQxs"
      },
      "source": [
        "#### 🏗️ Activity #3:\n",
        "\n",
        "Please create a dataset in the above format with at least 5 questions."
      ]
    },
    {
      "cell_type": "code",
      "execution_count": 19,
      "metadata": {
        "id": "CbagRuJop83E"
      },
      "outputs": [],
      "source": [
        "questions = [\n",
        "    \"What optimizer is used in QLoRA?\",\n",
        "    \"What data type was created in the QLoRA paper?\",\n",
        "    \"What is a Retrieval Augmented Generation system?\",\n",
        "    \"Who authored the QLoRA paper?\",\n",
        "    \"What is the most popular deep learning framework?\",\n",
        "    \"What significant improvements does the LoRA system make?\"\n",
        "]\n",
        "\n",
        "answers = [\n",
        "    {\"must_mention\" : [\"paged\", \"optimizer\"]},\n",
        "    {\"must_mention\" : [\"NF4\", \"NormalFloat\"]},\n",
        "    {\"must_mention\" : [\"ground\", \"context\"]},\n",
        "    {\"must_mention\" : [\"Tim\", \"Dettmers\"]},\n",
        "    {\"must_mention\" : [\"PyTorch\", \"TensorFlow\"]},\n",
        "    {\"must_mention\" : [\"reduce\", \"parameters\"]},\n",
        "]"
      ]
    },
    {
      "cell_type": "markdown",
      "metadata": {
        "id": "z7QVFuAmsh7L"
      },
      "source": [
        "Now we can add our dataset to our LangSmith project using the following code which we saw last Thursday!"
      ]
    },
    {
      "cell_type": "code",
      "execution_count": 20,
      "metadata": {
        "id": "RLfrZrgSsn85"
      },
      "outputs": [
        {
          "data": {
            "text/plain": [
              "{'example_ids': ['a767289a-3823-4e82-852e-d4ef79b0e9a7',\n",
              "  'b3278da5-ec73-4ce9-9401-48ad2e007418',\n",
              "  '352d1c6a-da16-42c1-a4a6-35ef47401021',\n",
              "  '4b15bd0e-4a44-4fff-9a99-e91649bd92a3',\n",
              "  'c77a1938-302f-47e4-b9df-f7cd5c3ca5f7',\n",
              "  '2e8cc6a1-acf6-49c4-8236-f626b9b13b0d'],\n",
              " 'count': 6}"
            ]
          },
          "execution_count": 20,
          "metadata": {},
          "output_type": "execute_result"
        }
      ],
      "source": [
        "from langsmith import Client\n",
        "\n",
        "client = Client()\n",
        "\n",
        "dataset_name = f\"Retrieval Augmented Generation - Evaluation Dataset - {uuid4().hex[0:8]}\"\n",
        "\n",
        "dataset = client.create_dataset(\n",
        "    dataset_name=dataset_name,\n",
        "    description=\"Questions about the QLoRA Paper to Evaluate RAG over the same paper.\"\n",
        ")\n",
        "\n",
        "client.create_examples(\n",
        "    inputs=[{\"question\" : q} for q in questions],\n",
        "    outputs=answers,\n",
        "    dataset_id=dataset.id,\n",
        ")"
      ]
    },
    {
      "cell_type": "markdown",
      "metadata": {
        "id": "ciV73F9Q04w0"
      },
      "source": [
        "#### ❓ Question #3:\n",
        "\n",
        "How are the correct answers associated with the questions?\n",
        "\n",
        "> NOTE: Feel free to indicate if this is problematic or not\n",
        "\n",
        "\n",
        "## ANSWERS\n",
        "- LangSmith associates each question with the answer at the same index in the list.\n",
        "\n",
        "This is positional: questions[0] is matched with answers[0], questions[1] is matched with answers[1].\n",
        "\n",
        "This works correctly only if the two lists are perfectly aligned in order and length.\n",
        "\n",
        "\n",
        "Yes, this is PROBLEMATIC\n",
        "- If you add/remove an item from questions but not answers, the pairing silently breaks.\n",
        "- It’s easy to misalign if editing either list later.\n",
        "- There's no explicit mapping, which reduces readability and robustness.\n",
        "\n",
        "A better way to associate the answers with the questions is to use explicit examples,\n",
        "examples = [\n",
        "    {\n",
        "        \"input\": {\"question\": \"What optimizer is used in QLoRA?\"},\n",
        "        \"output\": {\"must_mention\": [\"paged\", \"optimizer\"]}\n",
        "    },"
      ]
    },
    {
      "cell_type": "markdown",
      "metadata": {
        "id": "-lRTXUrTtP9Y"
      },
      "source": [
        "### Task 2: Adding Evaluators\n",
        "\n",
        "Now we can add a custom evaluator to see if our responses contain the expected information.\n",
        "\n",
        "We'll be using a fairly naive exact-match process to determine if our response contains specific strings."
      ]
    },
    {
      "cell_type": "code",
      "execution_count": 21,
      "metadata": {
        "id": "QrAUXMFftlAY"
      },
      "outputs": [],
      "source": [
        "from langsmith.evaluation import EvaluationResult, run_evaluator\n",
        "\n",
        "@run_evaluator\n",
        "def must_mention(run, example) -> EvaluationResult:\n",
        "    prediction = run.outputs.get(\"output\") or \"\"\n",
        "    required = example.outputs.get(\"must_mention\") or []\n",
        "    score = all(phrase in prediction for phrase in required)\n",
        "    return EvaluationResult(key=\"must_mention\", score=score)"
      ]
    },
    {
      "cell_type": "markdown",
      "metadata": {
        "id": "PNtHORUh0jZY"
      },
      "source": [
        "#### ❓ Question #4:\n",
        "\n",
        "What are some ways you could improve this metric as-is?\n",
        "\n",
        "Our current approach uses Must Match ie exact match which naive evaluator to validate if agent responses contain all required keywords or phrase. It is fast, deterministic and easy to debug, by checking if all required phrases are present in the prediction. However it has limitations.\n",
        "\n",
        "It is too rigid, so won't catch synoynms or paraphrases: \"paged optimizer\" ≠ \"optimizer using paging\"\n",
        "It is case sensitive. It also has no partial credit - if both words are present it matches, If one is present, it won't.\n",
        "\n",
        "Simple Improvements:\n",
        "1) Use fuzzy string matching (e.g. fuzzywuzzy, difflib)\n",
        "2) Use Use embedding-based similarity or LLM evaluator for Semantic Understanding\n",
        "3) To solve for all or nothing, Score proportionally: score = num_matched / len(required)\n",
        "4) Normalize case + strip punctuation\n",
        "5) Add evaluator to check if tool outputs were cited correctly\n",
        "\n",
        "Advanced Improvement:\n",
        "\n",
        "1) Semantic meaning : Use embeddings like similarity measures, k-nn, approximate matches for contextual relevance\n",
        " To do this, Use LangChain’s StringEvaluator with contains, exact, or semantic modes\n",
        "\n",
        "2) Use an LLM-based evaluator: Ask GPT “Did this response correctly answer the question using the expected facts?”"
      ]
    },
    {
      "cell_type": "markdown",
      "metadata": {
        "id": "r1RJr349zhv7"
      },
      "source": [
        "Task 3: Evaluating\n",
        "\n",
        "All that is left to do is evaluate our agent's response!"
      ]
    },
    {
      "cell_type": "code",
      "execution_count": 22,
      "metadata": {
        "colab": {
          "base_uri": "https://localhost:8080/",
          "height": 118,
          "referenced_widgets": [
            "efcf57067cf743d8b4ce059a61cbe02e",
            "53e33aae3b97490c82aec7bbb0d6ebba",
            "ad84e0e971d3455db2efe7dd0d1f803e",
            "72adef9b70dd48198b7322b6c5b113cf",
            "8a61d045ffd44ac58f3f13eb10044836",
            "041e22a9b5514e36bd4d1dac01d5d398",
            "886d762f2a7c421382efb5502c6d42a1",
            "ab91fd625bbd43afbf8c6398193a88d0",
            "716557ad09874dcb989d75f7c74424cd",
            "77d4c0ebaae045b58efc4f789c9a2360",
            "0d622ccc56264fac8fd7508dbdbe6e29"
          ]
        },
        "id": "p5TeCUUkuGld",
        "outputId": "2f7d62a2-e78d-447a-d07b-f9e4d500fb79"
      },
      "outputs": [
        {
          "name": "stdout",
          "output_type": "stream",
          "text": [
            "View the evaluation results for experiment: 'RAG Pipeline - Evaluation - 452c-5b6f6bb9' at:\n",
            "https://smith.langchain.com/o/4e223e9d-b789-4c00-8d16-32ad70974f10/datasets/1190b1e6-d604-462d-8359-5d43495ceea8/compare?selectedSessions=306d280a-f3de-4382-952a-76a324cce355\n",
            "\n",
            "\n"
          ]
        },
        {
          "data": {
            "application/vnd.jupyter.widget-view+json": {
              "model_id": "6a9c557da3e0439894ec3b8557b6763a",
              "version_major": 2,
              "version_minor": 0
            },
            "text/plain": [
              "0it [00:00, ?it/s]"
            ]
          },
          "metadata": {},
          "output_type": "display_data"
        }
      ],
      "source": [
        "experiment_results = client.evaluate(\n",
        "    agent_chain,\n",
        "    data=dataset_name,\n",
        "    evaluators=[must_mention],\n",
        "    experiment_prefix=f\"RAG Pipeline - Evaluation - {uuid4().hex[0:4]}\",\n",
        "    metadata={\"version\": \"1.0.0\"},\n",
        ")"
      ]
    },
    {
      "cell_type": "code",
      "execution_count": 23,
      "metadata": {
        "colab": {
          "base_uri": "https://localhost:8080/",
          "height": 342
        },
        "id": "eeEqU7s05Byu",
        "outputId": "78395075-a05d-4ebd-c798-ed968b935318"
      },
      "outputs": [
        {
          "data": {
            "text/html": [
              "<div>\n",
              "<style scoped>\n",
              "    .dataframe tbody tr th:only-of-type {\n",
              "        vertical-align: middle;\n",
              "    }\n",
              "\n",
              "    .dataframe tbody tr th {\n",
              "        vertical-align: top;\n",
              "    }\n",
              "\n",
              "    .dataframe thead th {\n",
              "        text-align: right;\n",
              "    }\n",
              "</style>\n",
              "<table border=\"1\" class=\"dataframe\">\n",
              "  <thead>\n",
              "    <tr style=\"text-align: right;\">\n",
              "      <th></th>\n",
              "      <th>inputs.question</th>\n",
              "      <th>outputs.output</th>\n",
              "      <th>error</th>\n",
              "      <th>reference.must_mention</th>\n",
              "      <th>feedback.must_mention</th>\n",
              "      <th>execution_time</th>\n",
              "      <th>example_id</th>\n",
              "      <th>id</th>\n",
              "    </tr>\n",
              "  </thead>\n",
              "  <tbody>\n",
              "    <tr>\n",
              "      <th>0</th>\n",
              "      <td>What is a Retrieval Augmented Generation system?</td>\n",
              "      <td>A Retrieval Augmented Generation (RAG) system ...</td>\n",
              "      <td>None</td>\n",
              "      <td>[ground, context]</td>\n",
              "      <td>False</td>\n",
              "      <td>4.280165</td>\n",
              "      <td>2e8cc6a1-acf6-49c4-8236-f626b9b13b0d</td>\n",
              "      <td>3749018e-584d-4e70-90f6-0cccb9c62537</td>\n",
              "    </tr>\n",
              "    <tr>\n",
              "      <th>1</th>\n",
              "      <td>What significant improvements does the LoRA sy...</td>\n",
              "      <td>The LoRA (Low-Rank Adaptation) system has seen...</td>\n",
              "      <td>None</td>\n",
              "      <td>[reduce, parameters]</td>\n",
              "      <td>False</td>\n",
              "      <td>10.966783</td>\n",
              "      <td>352d1c6a-da16-42c1-a4a6-35ef47401021</td>\n",
              "      <td>4b9f822f-b392-4320-b8a5-d08253ae12db</td>\n",
              "    </tr>\n",
              "    <tr>\n",
              "      <th>2</th>\n",
              "      <td>What optimizer is used in QLoRA?</td>\n",
              "      <td>QLoRA uses \"paged optimizers\" to manage memory...</td>\n",
              "      <td>None</td>\n",
              "      <td>[paged, optimizer]</td>\n",
              "      <td>True</td>\n",
              "      <td>2.826326</td>\n",
              "      <td>4b15bd0e-4a44-4fff-9a99-e91649bd92a3</td>\n",
              "      <td>81282c9b-a2c1-49e3-af92-9760a27eee0e</td>\n",
              "    </tr>\n",
              "    <tr>\n",
              "      <th>3</th>\n",
              "      <td>Who authored the QLoRA paper?</td>\n",
              "      <td>The QLoRA paper titled \"Accurate LoRA-Finetuni...</td>\n",
              "      <td>None</td>\n",
              "      <td>[Tim, Dettmers]</td>\n",
              "      <td>False</td>\n",
              "      <td>3.114749</td>\n",
              "      <td>a767289a-3823-4e82-852e-d4ef79b0e9a7</td>\n",
              "      <td>e7e39a7a-fd58-40a4-91f0-ca09c81fd826</td>\n",
              "    </tr>\n",
              "    <tr>\n",
              "      <th>4</th>\n",
              "      <td>What is the most popular deep learning framework?</td>\n",
              "      <td>The most popular deep learning frameworks in 2...</td>\n",
              "      <td>None</td>\n",
              "      <td>[PyTorch, TensorFlow]</td>\n",
              "      <td>True</td>\n",
              "      <td>2.865625</td>\n",
              "      <td>b3278da5-ec73-4ce9-9401-48ad2e007418</td>\n",
              "      <td>fdc8f8c9-421e-4b08-a9ff-10548769b8ba</td>\n",
              "    </tr>\n",
              "    <tr>\n",
              "      <th>5</th>\n",
              "      <td>What data type was created in the QLoRA paper?</td>\n",
              "      <td>In the QLoRA paper, a new data type called \"4-...</td>\n",
              "      <td>None</td>\n",
              "      <td>[NF4, NormalFloat]</td>\n",
              "      <td>True</td>\n",
              "      <td>2.860085</td>\n",
              "      <td>c77a1938-302f-47e4-b9df-f7cd5c3ca5f7</td>\n",
              "      <td>101696a5-da5d-4ba7-9e4c-be7e80944d28</td>\n",
              "    </tr>\n",
              "  </tbody>\n",
              "</table>\n",
              "</div>"
            ],
            "text/plain": [
              "<ExperimentResults RAG Pipeline - Evaluation - 452c-5b6f6bb9>"
            ]
          },
          "execution_count": 23,
          "metadata": {},
          "output_type": "execute_result"
        }
      ],
      "source": [
        "experiment_results"
      ]
    },
    {
      "cell_type": "markdown",
      "metadata": {
        "id": "jhTNe4kWrplB"
      },
      "source": [
        "## Part 2: LangGraph with Helpfulness:"
      ]
    },
    {
      "cell_type": "markdown",
      "metadata": {
        "id": "w1wKRddbIY_S"
      },
      "source": [
        "### Task 3: Adding Helpfulness Check and \"Loop\" Limits\n",
        "\n",
        "Now that we've done evaluation - let's see if we can add an extra step where we review the content we've generated to confirm if it fully answers the user's query!\n",
        "\n",
        "We're going to make a few key adjustments to account for this:\n",
        "\n",
        "1. We're going to add an artificial limit on how many \"loops\" the agent can go through - this will help us to avoid the potential situation where we never exit the loop.\n",
        "2. We'll add to our existing conditional edge to obtain the behaviour we desire."
      ]
    },
    {
      "cell_type": "markdown",
      "metadata": {
        "id": "npTYJ8ayR5B3"
      },
      "source": [
        "First, let's define our state again - we can check the length of the state object, so we don't need additional state for this."
      ]
    },
    {
      "cell_type": "code",
      "execution_count": 24,
      "metadata": {
        "id": "-LQ84YhyJG0w"
      },
      "outputs": [],
      "source": [
        "class AgentState(TypedDict):\n",
        "  messages: Annotated[list, add_messages]"
      ]
    },
    {
      "cell_type": "markdown",
      "metadata": {
        "id": "sD7EV0HqSQcb"
      },
      "source": [
        "Now we can set our graph up! This process will be almost entirely the same - with the inclusion of one additional node/conditional edge!"
      ]
    },
    {
      "cell_type": "markdown",
      "metadata": {
        "id": "oajBwLkFVi1N"
      },
      "source": [
        "#### 🏗️ Activity #5:\n",
        "\n",
        "Please write markdown for the following cells to explain what each is doing."
      ]
    },
    {
      "cell_type": "markdown",
      "metadata": {
        "id": "M6rN7feNVn9f"
      },
      "source": [
        "##### YOUR MARKDOWN HERE"
      ]
    },
    {
      "cell_type": "markdown",
      "metadata": {},
      "source": [
        "ANSWER MARKDOWN\n",
        "\n",
        "- This defines the schema of the state that will be passed between nodes in the LangGraph.\n",
        "\n",
        "- AgentState is a custom TypedDict used to represent the structure of data shared between graph steps.\n",
        "\n",
        "- The key messages holds a list of messages (from user, agent, and tool) that represent the full conversation history.\n",
        "\n",
        "- Annotated[list, add_messages] is a LangGraph utility that automatically appends new messages to the list after each node executes. This enables state accumulation, so the agent maintains memory of past steps.\n"
      ]
    },
    {
      "cell_type": "code",
      "execution_count": 25,
      "metadata": {
        "colab": {
          "base_uri": "https://localhost:8080/"
        },
        "id": "6r6XXA5FJbVf",
        "outputId": "ff713041-e498-4f0f-a875-a03502b87729"
      },
      "outputs": [
        {
          "data": {
            "text/plain": [
              "<langgraph.graph.state.StateGraph at 0x128bca0d0>"
            ]
          },
          "execution_count": 25,
          "metadata": {},
          "output_type": "execute_result"
        }
      ],
      "source": [
        "graph_with_helpfulness_check = StateGraph(AgentState)\n",
        "\n",
        "graph_with_helpfulness_check.add_node(\"agent\", call_model)\n",
        "graph_with_helpfulness_check.add_node(\"action\", tool_node)"
      ]
    },
    {
      "cell_type": "markdown",
      "metadata": {
        "id": "XZ22o2mWVrfp"
      },
      "source": [
        "##### YOUR MARKDOWN HERE\n",
        "\n",
        "\n",
        "- We start by defining a new StateGraph that uses our custom AgentState. This graph will include the logic to control looping based on helpfulness and iteration count.\n",
        "-We then create a stateful agent execution graph that tracks progress through defined nodes and transitions based on conditional logic.\n",
        "- We add two nodes to our StateGraph: agent and action nodes.\n",
        " 1. \"agent\": This node runs the language model (e.g., GPT-4), which decides the next step based on the current state (e.g., generate answer, call a tool).\n",
        " 2. \"action\": This node performs the tool call, executing any functions the agent selected (e.g., tavily_search_results, arxiv, etc.).\n",
        "\n"
      ]
    },
    {
      "cell_type": "code",
      "execution_count": 26,
      "metadata": {
        "colab": {
          "base_uri": "https://localhost:8080/"
        },
        "id": "HNWHwWxuRiLY",
        "outputId": "295f5a35-ceff-452a-ffb8-c52eada6a816"
      },
      "outputs": [
        {
          "data": {
            "text/plain": [
              "<langgraph.graph.state.StateGraph at 0x128bca0d0>"
            ]
          },
          "execution_count": 26,
          "metadata": {},
          "output_type": "execute_result"
        }
      ],
      "source": [
        "graph_with_helpfulness_check.set_entry_point(\"agent\")"
      ]
    },
    {
      "cell_type": "markdown",
      "metadata": {
        "id": "rsXeF6xlaXOZ"
      },
      "source": [
        "##### YOUR MARKDOWN HERE\n",
        "\n",
        "\n",
        "This sets the \"agent\" node as the starting point of the graph.\n",
        "When the graph is executed, it will begin by calling the language model node (call_model), which is responsible for:\n",
        "\n",
        "- Interpreting the user’s question\n",
        "- Deciding whether to call a tool or generate an answer\n",
        "\n",
        "By defining this entry point, we ensure the agent starts the reasoning loop before taking any actions or evaluations."
      ]
    },
    {
      "cell_type": "code",
      "execution_count": 27,
      "metadata": {
        "id": "z_Sq3A9SaV1O"
      },
      "outputs": [],
      "source": [
        "from langchain_core.prompts import PromptTemplate\n",
        "from langchain_core.output_parsers import StrOutputParser\n",
        "\n",
        "def tool_call_or_helpful(state):\n",
        "  last_message = state[\"messages\"][-1]\n",
        "\n",
        "  if last_message.tool_calls:\n",
        "    return \"action\"\n",
        "\n",
        "  initial_query = state[\"messages\"][0]\n",
        "  final_response = state[\"messages\"][-1]\n",
        "\n",
        "  if len(state[\"messages\"]) > 10:\n",
        "    return \"END\"\n",
        "\n",
        "  prompt_template = \"\"\"\\\n",
        "  Given an initial query and a final response, determine if the final response is extremely helpful or not. Please indicate helpfulness with a 'Y' and unhelpfulness as an 'N'.\n",
        "\n",
        "  Initial Query:\n",
        "  {initial_query}\n",
        "\n",
        "  Final Response:\n",
        "  {final_response}\"\"\"\n",
        "\n",
        "  prompt_template = PromptTemplate.from_template(prompt_template)\n",
        "\n",
        "  helpfulness_check_model = ChatOpenAI(model=\"gpt-4\")\n",
        "\n",
        "  helpfulness_chain = prompt_template | helpfulness_check_model | StrOutputParser()\n",
        "\n",
        "  helpfulness_response = helpfulness_chain.invoke({\"initial_query\" : initial_query.content, \"final_response\" : final_response.content})\n",
        "\n",
        "  if \"Y\" in helpfulness_response:\n",
        "    return \"end\"\n",
        "  else:\n",
        "    return \"continue\""
      ]
    },
    {
      "cell_type": "markdown",
      "metadata": {
        "id": "Fz1u9Vf4SHxJ"
      },
      "source": [
        "#### 🏗️ Activity #4:\n",
        "\n",
        "Please write what is happening in our `tool_call_or_helpful` function!"
      ]
    },
    {
      "cell_type": "markdown",
      "metadata": {
        "id": "6BhnBW2YVsJO"
      },
      "source": [
        "##### YOUR MARKDOWN HERE\n",
        "\n",
        "This function determines what path the graph should follow after the agent (LLM) speaks. It's used to add conditional edges between nodes in your LangGraph.\n",
        "It take one path of the 4 options defined in the function:\n",
        "1) If the LLM returns a tool_use, then it returns to the action node, to call the tool\n",
        "2) If The LLM has already done 10 max iterations, it proceeds to return the final response.\n",
        "3) Otherwise, it uses an LLM-based helpfulness check: \n",
        "- It asks GPT-4 to assess whether the agent's final response sufficiently addresses the initial user query\n",
        "- The LLM returns \"Y\" if the response is helpful, or \"N\" if it is not\n",
        "- It provides a decision outcome from the helpfulness check. \n",
        "-- If \"Y\" → return \"end\"\n",
        "-- Else → return \"continue\" to loop back to the agent"
      ]
    },
    {
      "cell_type": "code",
      "execution_count": 28,
      "metadata": {
        "colab": {
          "base_uri": "https://localhost:8080/"
        },
        "id": "aVTKnWMbP_8T",
        "outputId": "7f729b1f-311c-4084-ceaf-0da437900c85"
      },
      "outputs": [
        {
          "data": {
            "text/plain": [
              "<langgraph.graph.state.StateGraph at 0x128bca0d0>"
            ]
          },
          "execution_count": 28,
          "metadata": {},
          "output_type": "execute_result"
        }
      ],
      "source": [
        "graph_with_helpfulness_check.add_conditional_edges(\n",
        "    \"agent\",\n",
        "    tool_call_or_helpful,\n",
        "    {\n",
        "        \"continue\" : \"agent\",\n",
        "        \"action\" : \"action\",\n",
        "        \"end\" : END\n",
        "    }\n",
        ")"
      ]
    },
    {
      "cell_type": "markdown",
      "metadata": {
        "id": "ZGDLEWOIVtK0"
      },
      "source": [
        "##### YOUR MARKDOWN HERE\n",
        "\n",
        "It setsup conditional logic on where the agent should go after the agent speaks (LLM call). It answers the question: Whethere to go call another tool, or call the LLM (ie try again)  or to stop and end?\n",
        "If it decided to continue, it calls the LLM. If it needs to take action, it will invoke tool use.\n",
        "Alternatively, if the helpfulness score is Y or the 10 max iterations have been achieved, it will END."
      ]
    },
    {
      "cell_type": "code",
      "execution_count": 29,
      "metadata": {
        "colab": {
          "base_uri": "https://localhost:8080/"
        },
        "id": "cbDK2MbuREgU",
        "outputId": "21a64c20-27a1-4e0e-afde-a639abaa8b55"
      },
      "outputs": [
        {
          "data": {
            "text/plain": [
              "<langgraph.graph.state.StateGraph at 0x128bca0d0>"
            ]
          },
          "execution_count": 29,
          "metadata": {},
          "output_type": "execute_result"
        }
      ],
      "source": [
        "graph_with_helpfulness_check.add_edge(\"action\", \"agent\")"
      ]
    },
    {
      "cell_type": "markdown",
      "metadata": {
        "id": "rSI8AOaEVvT-"
      },
      "source": [
        "##### YOUR MARKDOWN HERE\n",
        "\n",
        "It just adds the edge to the graph between the two nodes: Action (for tool use) and Agent (LLM Call). \n",
        "\n",
        "this is important becuase, After a tool call is executed: The result (e.g., search results, document snippet) is appended to the agent’s messages. This edge routes the graph back to the \"agent\" so it can: Interpret the tool output, Decide whether it needs more tools Or generate a final answer"
      ]
    },
    {
      "cell_type": "code",
      "execution_count": 30,
      "metadata": {
        "id": "oQldl8ERQ8lf"
      },
      "outputs": [],
      "source": [
        "agent_with_helpfulness_check = graph_with_helpfulness_check.compile()"
      ]
    },
    {
      "cell_type": "markdown",
      "metadata": {
        "id": "F67FGCMRVwGz"
      },
      "source": [
        "##### YOUR MARKDOWN HERE\n",
        "\n",
        ".compile is to compile the graph defined with all nodes, edges, and conditions into an executable agent program\n",
        "- It validates the graph structure. Converts your logic into an executable form, and Prepares the agent to handle dynamic state transitions based on: Tool calls, Helpfulness feedback, Max iteration limits"
      ]
    },
    {
      "cell_type": "code",
      "execution_count": 31,
      "metadata": {
        "colab": {
          "base_uri": "https://localhost:8080/"
        },
        "id": "B3oo8E-PRK1T",
        "outputId": "f152dea8-96ad-4d29-d8b2-a064c96a8bd3"
      },
      "outputs": [
        {
          "name": "stdout",
          "output_type": "stream",
          "text": [
            "Receiving update from node: 'agent'\n",
            "[AIMessage(content='', additional_kwargs={'tool_calls': [{'id': 'call_tjise8TKfiOd7SANbGyKy2bo', 'function': {'arguments': '{\"query\": \"LoRA machine learning\"}', 'name': 'arxiv'}, 'type': 'function'}, {'id': 'call_Hp6OFrZrvu3xKuZZslv5vvmf', 'function': {'arguments': '{\"query\": \"Tim Dettmers\"}', 'name': 'tavily_search_results_json'}, 'type': 'function'}, {'id': 'call_arQZYebGld5FkVu7dFrmVTHC', 'function': {'arguments': '{\"query\": \"Attention mechanism in machine learning\"}', 'name': 'arxiv'}, 'type': 'function'}], 'refusal': None}, response_metadata={'token_usage': {'completion_tokens': 73, 'prompt_tokens': 177, 'total_tokens': 250, 'completion_tokens_details': {'accepted_prediction_tokens': 0, 'audio_tokens': 0, 'reasoning_tokens': 0, 'rejected_prediction_tokens': 0}, 'prompt_tokens_details': {'audio_tokens': 0, 'cached_tokens': 0}}, 'model_name': 'gpt-4o-2024-08-06', 'system_fingerprint': 'fp_a6889ffe71', 'finish_reason': 'tool_calls', 'logprobs': None}, id='run-9bf276e7-ab08-403d-9c81-e3d6c6b5e6c2-0', tool_calls=[{'name': 'arxiv', 'args': {'query': 'LoRA machine learning'}, 'id': 'call_tjise8TKfiOd7SANbGyKy2bo', 'type': 'tool_call'}, {'name': 'tavily_search_results_json', 'args': {'query': 'Tim Dettmers'}, 'id': 'call_Hp6OFrZrvu3xKuZZslv5vvmf', 'type': 'tool_call'}, {'name': 'arxiv', 'args': {'query': 'Attention mechanism in machine learning'}, 'id': 'call_arQZYebGld5FkVu7dFrmVTHC', 'type': 'tool_call'}], usage_metadata={'input_tokens': 177, 'output_tokens': 73, 'total_tokens': 250, 'input_token_details': {'audio': 0, 'cache_read': 0}, 'output_token_details': {'audio': 0, 'reasoning': 0}})]\n",
            "\n",
            "\n",
            "\n",
            "Receiving update from node: 'action'\n",
            "[ToolMessage(content=\"Published: 2024-10-28\\nTitle: KD-LoRA: A Hybrid Approach to Efficient Fine-Tuning with LoRA and Knowledge Distillation\\nAuthors: Rambod Azimi, Rishav Rishav, Marek Teichmann, Samira Ebrahimi Kahou\\nSummary: Large language models (LLMs) have demonstrated remarkable performance across\\nvarious downstream tasks. However, the high computational and memory\\nrequirements of LLMs are a major bottleneck. To address this,\\nparameter-efficient fine-tuning (PEFT) methods such as low-rank adaptation\\n(LoRA) have been proposed to reduce computational costs while ensuring minimal\\nloss in performance. Additionally, knowledge distillation (KD) has been a\\npopular choice for obtaining compact student models from teacher models. In\\nthis work, we present KD-LoRA, a novel fine-tuning method that combines LoRA\\nwith KD. Our results demonstrate that KD-LoRA achieves performance comparable\\nto full fine-tuning (FFT) and LoRA while significantly reducing resource\\nrequirements. Specifically, KD-LoRA retains 98% of LoRA's performance on the\\nGLUE benchmark, while being 40% more compact. Additionally, KD-LoRA reduces GPU\\nmemory usage by 30% compared to LoRA, while decreasing inference time by 30%\\ncompared to both FFT and LoRA. We evaluate KD-LoRA across three encoder-only\\nmodels: BERT, RoBERTa, and DeBERTaV3. Code is available at\\nhttps://github.com/rambodazimi/KD-LoRA.\\n\\nPublished: 2024-04-07\\nTitle: A Note on LoRA\\nAuthors: Vlad Fomenko, Han Yu, Jongho Lee, Stanley Hsieh, Weizhu Chen\\nSummary: LoRA (Low-Rank Adaptation) has emerged as a preferred method for efficiently\\nadapting Large Language Models (LLMs) with remarkable simplicity and efficacy.\\nThis note extends the original LoRA paper by offering new perspectives that\\nwere not initially discussed and presents a series of insights for deploying\\nLoRA at scale. Without introducing new experiments, we aim to improve the\\nunderstanding and application of LoRA.\\n\\nPublished: 2024-06-18\\nTitle: LoRA-drop: Efficient LoRA Parameter Pruning based on Output Evaluation\\nAuthors: Hongyun Zhou, Xiangyu Lu, Wang Xu, Conghui Zhu, Tiejun Zhao, Muyun Yang\\nSummary: Low-Rank Adaptation (LoRA) is currently the most commonly used\\nParameter-efficient fine-tuning (PEFT) method, it introduces auxiliary\\nparameters for each layer to fine-tune the pre-trained model under limited\\ncomputing resources. However, it still faces resource consumption challenges\\nduring training when scaling up to larger models. Most previous studies have\\ntackled this issue by using pruning techniques, which involve removing LoRA\\nparameters deemed unimportant. Nonetheless, these efforts only analyze LoRA\\nparameter features to evaluate their importance, such as parameter count, size,\\nand gradient. In fact, the output of LoRA (product of LoRA parameter and hidden\\nstate), directly impacts the final results. Preliminary experiments indicate\\nthat a fraction of LoRA elements possesses significantly high output values,\\nsubstantially influencing the layer output. Motivated by the observation, we\\npropose LoRA-drop. Concretely, LoRA-drop evaluates the importance of LoRA based\\non the LoRA output. Then we retain LoRA for important layers and the other\\nlayers share the same LoRA. We conduct abundant experiments with models of\\ndifferent scales on NLU and NLG tasks. Results demonstrate that LoRA-drop can\\nachieve performance comparable to full fine-tuning and LoRA, while retaining\\n50\\\\% of the LoRA parameters on average.\", name='arxiv', id='95749372-ab1d-4e10-be8c-e1935e8d26bc', tool_call_id='call_tjise8TKfiOd7SANbGyKy2bo'), ToolMessage(content='[{\"url\": \"https://ai2050.schmidtsciences.org/fellow/tim-dettmers/\", \"content\": \"Tim Dettmers is an Assistant Professor at Carnegie Mellon University and a Research Scientist at the Allen Institute for AI, and his research focuses on making\"}, {\"url\": \"https://developer.nvidia.com/blog/author/tdettmers/\", \"content\": \"Tim Dettmers is a masters student in informatics at the University of Lugano where he works on deep learning research. Before that he studied applied\"}, {\"url\": \"https://www.interconnects.ai/p/tim-dettmers\", \"content\": \"Tim Dettmers does not need an introduction for most people building open-source AI. If you are part of that minority, you’re in for a treat. Tim is the lead developer behind most of the open-source tools for quantization: QLoRA, bitsandbytes, 4 and 8 bit inference, and plenty more. He recently finished his Ph.D. at the University of Washington, is now a researcher at the Allen Institute for AI, and is starting as a professor at Carnegie Mellon University in fall of 2025. [...] Nathan Lambert [00:00:00]: Hey, welcome back to Interconnects. This episode is an exciting one. It\\'s with Tim Dettmers.Okay, Tim, welcome to our bootleg in-person AI2 office recording studio we might get barged into, but I\\'m just excited to pick your brain. I mean, we eat lunch together and we talk, and it\\'s obvious that we agree on a lot of things. We have a unique perspective on a lot of things and it challenges normal worldview. So it\\'s good to just share it with people. I\\'ve got this [...] Tim is a joy to talk to. He thinks independently on all the AI issues of today, bringing new perspectives that challenge the status quo. At the same time, he’s sincere and very helpful to work with, working hard to uplift those around him and the academic community. There’s a reason he’s so loved in the open-source AI community. We cover:\\\\n\\\\nGeneral vibes in open-source,\\\\n\\\\nAgents, SWE-Bench, and using open models for tasks like this,\\\\n\\\\nHow to be a GPU poor academic and have huge impact,\"}, {\"url\": \"https://timdettmers.com/about/\", \"content\": \"Skip links\\\\n\\\\nTim Dettmers\\\\n\\\\nMaking deep learning accessible.\\\\n\\\\nHeader Right\\\\n\\\\nBlog Posts Topics\\\\n\\\\nMain navigation\\\\n\\\\nAbout Me\\\\n\\\\nResearch Interests Publications Awards & Honors Service\\\\n\\\\nGoogle Scholar\\\\n\\\\nfirstname.lastname@gmail.com\\\\n\\\\nI am a research scientist at the Allen Institute for Artificial Intelligence (Ai2) and an incoming Assistant Professor at Carnegie Mellon University (CMU). I am the creator and maintainer of bitsandbytes. [...] I have a PhD from University of Washington advised by Luke Zettlemoyer working on efficient deep learning at the intersection between machine learning, natural language processing, and computer systems with a focus on quantization and sparsity. My main research goal is to empower everyone to make AI their own. I do this by making large models accessible through my research (QLoRA, LLM.int8(), k-bit inference scaling laws, Petals, SWARM) and by developing software that makes it easy to use my [...] University while working as a software engineer in the automation industry.\"}, {\"url\": \"https://csd.cmu.edu/people/faculty/tim-dettmers\", \"content\": \"Main navigation\\\\n\\\\nBack to Main Menu\\\\n\\\\nAbout\\\\n\\\\t\\\\t\\\\t\\\\t\\\\t\\\\t\\\\t\\\\t\\\\t\\\\t\\\\t\\\\t\\\\tMain page\\\\n\\\\nBack to Main Menu\\\\n\\\\nAdmissions\\\\n\\\\t\\\\t\\\\t\\\\t\\\\t\\\\t\\\\t\\\\t\\\\t\\\\t\\\\t\\\\t\\\\tMain page\\\\n\\\\nBack to Main Menu\\\\n\\\\nAcademics\\\\n\\\\t\\\\t\\\\t\\\\t\\\\t\\\\t\\\\t\\\\t\\\\t\\\\t\\\\t\\\\t\\\\tMain page\\\\n\\\\nBack to Main Menu\\\\n\\\\nPeople\\\\n\\\\t\\\\t\\\\t\\\\t\\\\t\\\\t\\\\t\\\\t\\\\t\\\\t\\\\t\\\\t\\\\tMain page\\\\n\\\\nBack to Main Menu\\\\n\\\\nResearch\\\\n\\\\t\\\\t\\\\t\\\\t\\\\t\\\\t\\\\t\\\\t\\\\t\\\\t\\\\t\\\\t\\\\tMain page\\\\n\\\\nBreadcrumb\\\\n\\\\nTim Dettmers\\\\n\\\\nAssistant Professor\\\\n\\\\nWebsite\\\\n\\\\nGoogle Scholars Link\\\\n\\\\nEmail\\\\n\\\\t\\\\t\\\\t\\\\t\\\\t\\\\n\\\\t\\\\t\\\\t\\\\t\\\\t\\\\n              dettmers@cmu.edu\"}]', name='tavily_search_results_json', id='09acef02-7af1-4469-b6aa-25d3810b411f', tool_call_id='call_Hp6OFrZrvu3xKuZZslv5vvmf', artifact={'query': 'Tim Dettmers', 'follow_up_questions': None, 'answer': None, 'images': [], 'results': [{'url': 'https://ai2050.schmidtsciences.org/fellow/tim-dettmers/', 'title': 'Tim Dettmers - AI2050 - Schmidt Sciences', 'content': 'Tim Dettmers is an Assistant Professor at Carnegie Mellon University and a Research Scientist at the Allen Institute for AI, and his research focuses on making', 'score': 0.9067276, 'raw_content': None}, {'url': 'https://developer.nvidia.com/blog/author/tdettmers/', 'title': 'Author: Tim Dettmers | NVIDIA Technical Blog', 'content': 'Tim Dettmers is a masters student in informatics at the University of Lugano where he works on deep learning research. Before that he studied applied', 'score': 0.8795718, 'raw_content': None}, {'url': 'https://www.interconnects.ai/p/tim-dettmers', 'title': 'Interviewing Tim Dettmers on open-source AI - Interconnects', 'content': \"Tim Dettmers does not need an introduction for most people building open-source AI. If you are part of that minority, you’re in for a treat. Tim is the lead developer behind most of the open-source tools for quantization: QLoRA, bitsandbytes, 4 and 8 bit inference, and plenty more. He recently finished his Ph.D. at the University of Washington, is now a researcher at the Allen Institute for AI, and is starting as a professor at Carnegie Mellon University in fall of 2025. [...] Nathan Lambert [00:00:00]: Hey, welcome back to Interconnects. This episode is an exciting one. It's with Tim Dettmers.Okay, Tim, welcome to our bootleg in-person AI2 office recording studio we might get barged into, but I'm just excited to pick your brain. I mean, we eat lunch together and we talk, and it's obvious that we agree on a lot of things. We have a unique perspective on a lot of things and it challenges normal worldview. So it's good to just share it with people. I've got this [...] Tim is a joy to talk to. He thinks independently on all the AI issues of today, bringing new perspectives that challenge the status quo. At the same time, he’s sincere and very helpful to work with, working hard to uplift those around him and the academic community. There’s a reason he’s so loved in the open-source AI community. We cover:\\n\\nGeneral vibes in open-source,\\n\\nAgents, SWE-Bench, and using open models for tasks like this,\\n\\nHow to be a GPU poor academic and have huge impact,\", 'score': 0.7591723, 'raw_content': None}, {'url': 'https://timdettmers.com/about/', 'title': 'About Me - Tim Dettmers', 'content': 'Skip links\\n\\nTim Dettmers\\n\\nMaking deep learning accessible.\\n\\nHeader Right\\n\\nBlog Posts Topics\\n\\nMain navigation\\n\\nAbout Me\\n\\nResearch Interests Publications Awards & Honors Service\\n\\nGoogle Scholar\\n\\nfirstname.lastname@gmail.com\\n\\nI am a research scientist at the Allen Institute for Artificial Intelligence (Ai2) and an incoming Assistant Professor at Carnegie Mellon University (CMU). I am the creator and maintainer of bitsandbytes. [...] I have a PhD from University of Washington advised by Luke Zettlemoyer working on efficient deep learning at the intersection between machine learning, natural language processing, and computer systems with a focus on quantization and sparsity. My main research goal is to empower everyone to make AI their own. I do this by making large models accessible through my research (QLoRA, LLM.int8(), k-bit inference scaling laws, Petals, SWARM) and by developing software that makes it easy to use my [...] University while working as a software engineer in the automation industry.', 'score': 0.67037153, 'raw_content': None}, {'url': 'https://csd.cmu.edu/people/faculty/tim-dettmers', 'title': 'Tim Dettmers | Carnegie Mellon University Computer Science ...', 'content': 'Main navigation\\n\\nBack to Main Menu\\n\\nAbout\\n\\t\\t\\t\\t\\t\\t\\t\\t\\t\\t\\t\\t\\tMain page\\n\\nBack to Main Menu\\n\\nAdmissions\\n\\t\\t\\t\\t\\t\\t\\t\\t\\t\\t\\t\\t\\tMain page\\n\\nBack to Main Menu\\n\\nAcademics\\n\\t\\t\\t\\t\\t\\t\\t\\t\\t\\t\\t\\t\\tMain page\\n\\nBack to Main Menu\\n\\nPeople\\n\\t\\t\\t\\t\\t\\t\\t\\t\\t\\t\\t\\t\\tMain page\\n\\nBack to Main Menu\\n\\nResearch\\n\\t\\t\\t\\t\\t\\t\\t\\t\\t\\t\\t\\t\\tMain page\\n\\nBreadcrumb\\n\\nTim Dettmers\\n\\nAssistant Professor\\n\\nWebsite\\n\\nGoogle Scholars Link\\n\\nEmail\\n\\t\\t\\t\\t\\t\\n\\t\\t\\t\\t\\t\\n              dettmers@cmu.edu', 'score': 0.6580885, 'raw_content': None}], 'response_time': 1.18}), ToolMessage(content='Published: 2022-03-27\\nTitle: A General Survey on Attention Mechanisms in Deep Learning\\nAuthors: Gianni Brauwers, Flavius Frasincar\\nSummary: Attention is an important mechanism that can be employed for a variety of\\ndeep learning models across many different domains and tasks. This survey\\nprovides an overview of the most important attention mechanisms proposed in the\\nliterature. The various attention mechanisms are explained by means of a\\nframework consisting of a general attention model, uniform notation, and a\\ncomprehensive taxonomy of attention mechanisms. Furthermore, the various\\nmeasures for evaluating attention models are reviewed, and methods to\\ncharacterize the structure of attention models based on the proposed framework\\nare discussed. Last, future work in the field of attention models is\\nconsidered.\\n\\nPublished: 2022-07-04\\nTitle: Attention mechanisms for physiological signal deep learning: which attention should we take?\\nAuthors: Seong-A Park, Hyung-Chul Lee, Chul-Woo Jung, Hyun-Lim Yang\\nSummary: Attention mechanisms are widely used to dramatically improve deep learning\\nmodel performance in various fields. However, their general ability to improve\\nthe performance of physiological signal deep learning model is immature. In\\nthis study, we experimentally analyze four attention mechanisms (e.g.,\\nsqueeze-and-excitation, non-local, convolutional block attention module, and\\nmulti-head self-attention) and three convolutional neural network (CNN)\\narchitectures (e.g., VGG, ResNet, and Inception) for two representative\\nphysiological signal prediction tasks: the classification for predicting\\nhypotension and the regression for predicting cardiac output (CO). We evaluated\\nmultiple combinations for performance and convergence of physiological signal\\ndeep learning model. Accordingly, the CNN models with the spatial attention\\nmechanism showed the best performance in the classification problem, whereas\\nthe channel attention mechanism achieved the lowest error in the regression\\nproblem. Moreover, the performance and convergence of the CNN models with\\nattention mechanisms were better than stand-alone self-attention models in both\\nproblems. Hence, we verified that convolutional operation and attention\\nmechanisms are complementary and provide faster convergence time, despite the\\nstand-alone self-attention models requiring fewer parameters.\\n\\nPublished: 2018-10-17\\nTitle: An Analysis of Attention Mechanisms: The Case of Word Sense Disambiguation in Neural Machine Translation\\nAuthors: Gongbo Tang, Rico Sennrich, Joakim Nivre\\nSummary: Recent work has shown that the encoder-decoder attention mechanisms in neural\\nmachine translation (NMT) are different from the word alignment in statistical\\nmachine translation. In this paper, we focus on analyzing encoder-decoder\\nattention mechanisms, in the case of word sense disambiguation (WSD) in NMT\\nmodels. We hypothesize that attention mechanisms pay more attention to context\\ntokens when translating ambiguous words. We explore the attention distribution\\npatterns when translating ambiguous nouns. Counter-intuitively, we find that\\nattention mechanisms are likely to distribute more attention to the ambiguous\\nnoun itself rather than context tokens, in comparison to other nouns. We\\nconclude that attention mechanism is not the main mechanism used by NMT models\\nto incorporate contextual information for WSD. The experimental results suggest\\nthat NMT models learn to encode contextual information necessary for WSD in the\\nencoder hidden states. For the attention mechanism in Transformer models, we\\nreveal that the first few layers gradually learn to \"align\" source and target\\ntokens and the last few layers learn to extract features from the related but\\nunaligned context tokens.', name='arxiv', id='b271c4bc-1075-4cf6-ab0b-1d429c51c01d', tool_call_id='call_arQZYebGld5FkVu7dFrmVTHC')]\n",
            "\n",
            "\n",
            "\n",
            "Receiving update from node: 'agent'\n",
            "[AIMessage(content='### LoRA in Machine Learning\\nLoRA, or Low-Rank Adaptation, is a method used for efficiently adapting large language models (LLMs) by reducing computational costs while maintaining performance. It introduces auxiliary parameters for each layer to fine-tune pre-trained models under limited computing resources. Recent advancements like KD-LoRA combine LoRA with knowledge distillation to further reduce resource requirements while retaining high performance. LoRA-drop is another technique that prunes LoRA parameters based on their output evaluation, achieving performance comparable to full fine-tuning while using fewer resources.\\n\\n### Tim Dettmers\\nTim Dettmers is a prominent figure in the AI community, known for his work in making deep learning more accessible. He is an Assistant Professor at Carnegie Mellon University and a Research Scientist at the Allen Institute for AI. Dettmers has contributed significantly to the development of open-source tools for AI, particularly in the areas of quantization and efficient deep learning. His research focuses on making large models accessible and empowering individuals to utilize AI effectively.\\n\\n### Attention Mechanism in Machine Learning\\nAttention mechanisms are crucial in deep learning models, allowing them to focus on specific parts of the input data when making predictions. They are widely used across various domains to improve model performance. Attention mechanisms can be categorized into different types, such as squeeze-and-excitation, non-local, convolutional block attention module, and multi-head self-attention. These mechanisms help models to better understand and process information by emphasizing relevant parts of the input, leading to improved accuracy and faster convergence in tasks like neural machine translation and physiological signal prediction.', additional_kwargs={'refusal': None}, response_metadata={'token_usage': {'completion_tokens': 320, 'prompt_tokens': 2735, 'total_tokens': 3055, 'completion_tokens_details': {'accepted_prediction_tokens': 0, 'audio_tokens': 0, 'reasoning_tokens': 0, 'rejected_prediction_tokens': 0}, 'prompt_tokens_details': {'audio_tokens': 0, 'cached_tokens': 0}}, 'model_name': 'gpt-4o-2024-08-06', 'system_fingerprint': 'fp_a6889ffe71', 'finish_reason': 'stop', 'logprobs': None}, id='run-cf4a3868-700d-44f5-a8ef-e94c891f2230-0', usage_metadata={'input_tokens': 2735, 'output_tokens': 320, 'total_tokens': 3055, 'input_token_details': {'audio': 0, 'cache_read': 0}, 'output_token_details': {'audio': 0, 'reasoning': 0}})]\n",
            "\n",
            "\n",
            "\n"
          ]
        }
      ],
      "source": [
        "inputs = {\"messages\" : [HumanMessage(content=\"Related to machine learning, what is LoRA? Also, who is Tim Dettmers? Also, what is Attention?\")]}\n",
        "\n",
        "async for chunk in agent_with_helpfulness_check.astream(inputs, stream_mode=\"updates\"):\n",
        "    for node, values in chunk.items():\n",
        "        print(f\"Receiving update from node: '{node}'\")\n",
        "        print(values[\"messages\"])\n",
        "        print(\"\\n\\n\")"
      ]
    },
    {
      "cell_type": "markdown",
      "metadata": {
        "id": "yVmZPs6lnpsM"
      },
      "source": [
        "### Task 4: LangGraph for the \"Patterns\" of GenAI\n",
        "\n",
        "Let's ask our system about the 4 patterns of Generative AI:\n",
        "\n",
        "1. Prompt Engineering\n",
        "2. RAG\n",
        "3. Fine-tuning\n",
        "4. Agents"
      ]
    },
    {
      "cell_type": "code",
      "execution_count": 32,
      "metadata": {
        "id": "ZoLl7GlXoae-"
      },
      "outputs": [],
      "source": [
        "patterns = [\"prompt engineering\", \"RAG\", \"fine-tuning\", \"LLM-based agents\"]"
      ]
    },
    {
      "cell_type": "code",
      "execution_count": 33,
      "metadata": {
        "colab": {
          "base_uri": "https://localhost:8080/"
        },
        "id": "Zkh0YJuCp3Zl",
        "outputId": "d847426e-71b3-47e6-b1ae-351a78d68d1e"
      },
      "outputs": [
        {
          "name": "stdout",
          "output_type": "stream",
          "text": [
            "**Prompt Engineering: Definition and Importance**\n",
            "\n",
            "Prompt engineering is the art and science of designing and optimizing prompts to guide AI models, particularly large language models (LLMs), towards generating desired responses. It involves crafting prompts that provide context, instructions, and examples to help AI models understand user intent and respond meaningfully. This process is crucial for maximizing the utility of AI models across various applications, including content generation, information retrieval, and decision support. By refining prompts, users can improve the accuracy and effectiveness of generative AI tools, such as ChatGPT or DALL-E, to produce specific and useful results.\n",
            "\n",
            "**History and Evolution of Prompt Engineering**\n",
            "\n",
            "Prompt engineering has been around since the early days of natural language processing (NLP). It gained significant attention with the release of GPT-3 by OpenAI in 2020, which marked a milestone in the field. The complexity and capabilities of GPT-3 highlighted the need for structured guidance, leading to the development of prompt engineering as a discipline. The evolution of prompt engineering is closely tied to advancements in AI and NLP, including the introduction of attention mechanisms in 2015 and reinforcement learning techniques in 2017. These developments have enhanced the fluency, relevance, and contextual understanding of language models, making prompt engineering an essential aspect of modern AI systems.\n",
            "\n",
            "\n",
            "\n",
            "Retrieval-Augmented Generation (RAG) is a technique that combines information retrieval and natural language generation to enhance the capabilities of generative AI models, particularly in knowledge-intensive tasks. The concept of RAG was first introduced in 2020 by a team at Facebook AI Research, including Douwe Kiela, Patrick Lewis, and others, in their paper titled \"Retrieval-Augmented Generation for Knowledge-Intensive NLP Tasks.\" This marked its formal introduction to the AI community.\n",
            "\n",
            "The roots of RAG, however, can be traced back to the early days of computing in the 1950s and 1960s, with the development of information retrieval systems. These systems laid the groundwork for RAG by enabling computers to retrieve documents relevant to user queries. Over the decades, the fields of information retrieval and natural language generation evolved separately until they were integrated to form RAG, driven by the need for systems capable of providing accurate, contextual, and dynamic responses.\n",
            "\n",
            "RAG has since been embraced by both academic and industry researchers as a way to significantly improve the value of generative AI systems. It allows large language models to retrieve and incorporate additional information before generating responses, thus enabling them to use domain-specific and updated information without needing to retrain the model.\n",
            "\n",
            "Recent research continues to explore and enhance RAG systems, focusing on modular frameworks, graph technology, and automated optimization to improve their performance and applicability in various scenarios.\n",
            "\n",
            "\n",
            "\n",
            "Fine-tuning in machine learning is a process where a pretrained model is further trained on a smaller, targeted dataset to adapt it for more specialized use cases. This technique is part of transfer learning and involves making small adjustments to a model's parameters to improve its performance on a specific task, often by modifying or adding certain layers while keeping most of the original model's structure intact. Fine-tuning allows models to maintain their original capabilities while being adapted for specific applications.\n",
            "\n",
            "The concept of fine-tuning has been around for some time, but it gained significant attention with the rise of deep learning and transfer learning techniques. It became particularly prominent with the development of large pretrained models like BERT and GPT, which demonstrated the effectiveness of fine-tuning for various natural language processing tasks.\n",
            "\n",
            "In terms of historical context, fine-tuning has been a part of machine learning research for several years, but its widespread adoption and recognition as a powerful tool in AI and machine learning have been more recent, especially with advancements in neural networks and the availability of large-scale datasets for pretraining models.\n",
            "\n",
            "\n",
            "\n",
            "LLM-based agents, or Large Language Model-based agents, are applications that utilize large language models (LLMs) to execute complex tasks by combining LLMs with key modules like planning and memory. These agents serve as the main controller or \"brain\" that manages a flow of operations needed to complete a task or user request. They are designed to bridge the gap between reasoning and action, enabling systems to not only think but also interact with their environment in real-time. This makes them capable of handling complex tasks beyond simple question-answering, such as digital automation and web interaction.\n",
            "\n",
            "The concept of LLM-based agents gained significant attention with the popularization of OpenAI's ChatGPT in 2022. Since then, various methods and techniques have been introduced to maximize their utilization and effectiveness. The evolution of these agents can be traced back to earlier AI developments, but they represent a significant advancement in the field of artificial intelligence, pushing the boundaries of what AI can achieve in areas like software development and scientific discovery.\n",
            "\n",
            "\n",
            "\n"
          ]
        }
      ],
      "source": [
        "for pattern in patterns:\n",
        "  what_is_string = f\"What is {pattern} and when did it break onto the scene??\"\n",
        "  inputs = {\"messages\" : [HumanMessage(content=what_is_string)]}\n",
        "  messages = agent_with_helpfulness_check.invoke(inputs)\n",
        "  print(messages[\"messages\"][-1].content)\n",
        "  print(\"\\n\\n\")"
      ]
    },
    {
      "cell_type": "markdown",
      "metadata": {},
      "source": [
        "### Bringing it all together \n",
        "\n",
        "The following section brings it all together from tool binding to running the agent with LangGraph "
      ]
    },
    {
      "cell_type": "code",
      "execution_count": 37,
      "metadata": {},
      "outputs": [
        {
          "name": "stdout",
          "output_type": "stream",
          "text": [
            "Receiving update from node: 'agent'\n",
            "[AIMessage(content='', additional_kwargs={'tool_calls': [{'id': 'call_gAu96THcNvcZe7kpcQoKjdZC', 'function': {'arguments': '{\"query\":\"latest stock market news\"}', 'name': 'tavily_search_results_json'}, 'type': 'function'}], 'refusal': None}, response_metadata={'token_usage': {'completion_tokens': 22, 'prompt_tokens': 162, 'total_tokens': 184, 'completion_tokens_details': {'accepted_prediction_tokens': 0, 'audio_tokens': 0, 'reasoning_tokens': 0, 'rejected_prediction_tokens': 0}, 'prompt_tokens_details': {'audio_tokens': 0, 'cached_tokens': 0}}, 'model_name': 'gpt-4o-2024-08-06', 'system_fingerprint': 'fp_a6889ffe71', 'finish_reason': 'tool_calls', 'logprobs': None}, id='run-7b1f0cae-81f9-4a32-b726-878413b53a27-0', tool_calls=[{'name': 'tavily_search_results_json', 'args': {'query': 'latest stock market news'}, 'id': 'call_gAu96THcNvcZe7kpcQoKjdZC', 'type': 'tool_call'}], usage_metadata={'input_tokens': 162, 'output_tokens': 22, 'total_tokens': 184, 'input_token_details': {'audio': 0, 'cache_read': 0}, 'output_token_details': {'audio': 0, 'reasoning': 0}})]\n",
            "\n",
            "\n",
            "\n",
            "Receiving update from node: 'action'\n",
            "[ToolMessage(content='[{\"url\": \"https://finance.yahoo.com/topic/stock-market-news/\", \"content\": \"Oops, something went wrong\\\\n\\\\nNews\\\\n\\\\nLife\\\\n\\\\nEntertainment\\\\n\\\\nFinance\\\\n\\\\nSports\\\\n\\\\nNew on Yahoo\\\\n\\\\nYahoo Finance\\\\n\\\\nStock Market News\\\\n\\\\nStock market today: Dow, S&P 500, Nasdaq futures hold steady after Trump escalates tensions with Fed\\\\n\\\\nUS stock futures traded flat after a bruising day on Wall Street, marked by renewed criticism of Federal Reserve Chair Jerome Powell by President Trump.\\\\n\\\\nWatch These Tesla Price Levels as Stock Slides Ahead of Earnings Report [...] Fresh Trump markets turmoil as Reeves heads to Washington\\\\n\\\\nDonald Trump has thrown markets into fresh turmoil as finance ministers including Rachel Reeves prepare to fly to Washington for crisis talks.\\\\n\\\\nTesla stock slides ahead of crucial Q1 earnings report with sliding sales, Musk\\'s DOGE role in focus\\\\n\\\\nTesla\\'s first quarter earnings report is slated for release on Tuesday after the bell.\\\\n\\\\nStock market today: Dow drops 950 points, S&P 500, Nasdaq tumble as Trump bashes Fed\\'s Powell again [...] U.S. stocks closed significantly lower on Monday as President Donald Trump escalated his criticism of the Federal Reserve, urging the central bank to immediately lower interest rates and questioning the policy approach of Fed Chair Jerome Powell.  The comments came days after Trump said he was eager for Powell’s \\\\\"termination\\\\\" despite a longstanding norm of political independence at the central bank.  The tech-heavy Nasdaq declined 2.5%.\"}, {\"url\": \"https://www.marketwatch.com/\", \"content\": \"MarketWatch provides the latest stock market, financial and business news. Get stock market quotes, personal finance advice, company news and more.\"}, {\"url\": \"https://www.reuters.com/markets/\", \"content\": \"Find the latest stock market news from every corner of the globe at Reuters.com, your online source for breaking international market and finance news.\"}, {\"url\": \"https://www.cnn.com/markets\", \"content\": \"CNN values your feedback\\\\n\\\\nMarkets\\\\n\\\\nUp-to-date stock market data coverage from CNN. Get the latest updates on US markets, world markets, stock quotes, crypto, commodities and currencies.\\\\n\\\\nCNN Business Nightcap\\\\n\\\\nWe read every day so you don\\'t have to. Sign up for CNN Business\\' nightly newsletter for the top stories you need to know.\\\\n\\\\nToday\\'s hot stocks\\\\n\\\\nWorld markets\\\\n\\\\nBusiness Briefing\\\\n\\\\nShow\\xa0all\\\\n\\\\nEconomic calendar\\\\n\\\\nCommodities\\\\n\\\\nETF movers\\\\n\\\\nCryptos\\\\n\\\\nCurrencies\\\\n\\\\nBonds & rates\"}]', name='tavily_search_results_json', id='d12b55c4-d6e6-4ee3-a768-9b77911fcf05', tool_call_id='call_gAu96THcNvcZe7kpcQoKjdZC', artifact={'query': 'latest stock market news', 'follow_up_questions': None, 'answer': None, 'images': [], 'results': [{'url': 'https://finance.yahoo.com/topic/stock-market-news/', 'title': 'Latest Stock Market News - Yahoo Finance', 'content': 'Oops, something went wrong\\n\\nNews\\n\\nLife\\n\\nEntertainment\\n\\nFinance\\n\\nSports\\n\\nNew on Yahoo\\n\\nYahoo Finance\\n\\nStock Market News\\n\\nStock market today: Dow, S&P 500, Nasdaq futures hold steady after Trump escalates tensions with Fed\\n\\nUS stock futures traded flat after a bruising day on Wall Street, marked by renewed criticism of Federal Reserve Chair Jerome Powell by President Trump.\\n\\nWatch These Tesla Price Levels as Stock Slides Ahead of Earnings Report [...] Fresh Trump markets turmoil as Reeves heads to Washington\\n\\nDonald Trump has thrown markets into fresh turmoil as finance ministers including Rachel Reeves prepare to fly to Washington for crisis talks.\\n\\nTesla stock slides ahead of crucial Q1 earnings report with sliding sales, Musk\\'s DOGE role in focus\\n\\nTesla\\'s first quarter earnings report is slated for release on Tuesday after the bell.\\n\\nStock market today: Dow drops 950 points, S&P 500, Nasdaq tumble as Trump bashes Fed\\'s Powell again [...] U.S. stocks closed significantly lower on Monday as President Donald Trump escalated his criticism of the Federal Reserve, urging the central bank to immediately lower interest rates and questioning the policy approach of Fed Chair Jerome Powell.  The comments came days after Trump said he was eager for Powell’s \"termination\" despite a longstanding norm of political independence at the central bank.  The tech-heavy Nasdaq declined 2.5%.', 'score': 0.75723875, 'raw_content': None}, {'url': 'https://www.marketwatch.com/', 'title': 'MarketWatch: Stock Market News - Financial News - MarketWatch', 'content': 'MarketWatch provides the latest stock market, financial and business news. Get stock market quotes, personal finance advice, company news and more.', 'score': 0.7192461, 'raw_content': None}, {'url': 'https://www.reuters.com/markets/', 'title': 'Global Market Headlines | Breaking Stock Market News - Reuters', 'content': 'Find the latest stock market news from every corner of the globe at Reuters.com, your online source for breaking international market and finance news.', 'score': 0.67988104, 'raw_content': None}, {'url': 'https://www.cnn.com/markets', 'title': 'Stock Market Data - US Markets, World Markets, and Stock Quotes', 'content': \"CNN values your feedback\\n\\nMarkets\\n\\nUp-to-date stock market data coverage from CNN. Get the latest updates on US markets, world markets, stock quotes, crypto, commodities and currencies.\\n\\nCNN Business Nightcap\\n\\nWe read every day so you don't have to. Sign up for CNN Business' nightly newsletter for the top stories you need to know.\\n\\nToday's hot stocks\\n\\nWorld markets\\n\\nBusiness Briefing\\n\\nShow\\xa0all\\n\\nEconomic calendar\\n\\nCommodities\\n\\nETF movers\\n\\nCryptos\\n\\nCurrencies\\n\\nBonds & rates\", 'score': 0.5737984, 'raw_content': None}], 'response_time': 2.28})]\n",
            "\n",
            "\n",
            "\n"
          ]
        }
      ],
      "source": [
        "from langchain_community.tools.tavily_search import TavilySearchResults\n",
        "from langchain_community.tools.arxiv.tool import ArxivQueryRun\n",
        "from langchain_openai import ChatOpenAI\n",
        "from typing import TypedDict, Annotated\n",
        "from langgraph.graph.message import add_messages\n",
        "import operator\n",
        "from langchain_core.messages import BaseMessage\n",
        "from langgraph.prebuilt import ToolNode\n",
        "from langgraph.graph import StateGraph, END\n",
        "\n",
        "tavily_tool = TavilySearchResults(max_results=5)\n",
        "\n",
        "tool_belt = [\n",
        "    tavily_tool,\n",
        "    ArxivQueryRun(),\n",
        "]\n",
        "\n",
        "model = ChatOpenAI(model=\"gpt-4o\", temperature=0)\n",
        "model = model.bind_tools(tool_belt)\n",
        "\n",
        "class AgentState(TypedDict):\n",
        "  messages: Annotated[list, add_messages]\n",
        "\n",
        "def call_model(state):\n",
        "  messages = state[\"messages\"]\n",
        "  response = model.invoke(messages)\n",
        "  return {\"messages\" : [response]}\n",
        "\n",
        "tool_node = ToolNode(tool_belt)\n",
        "\n",
        "graph = StateGraph(AgentState)\n",
        "\n",
        "graph.add_node(\"agent\", call_model)\n",
        "graph.add_node(\"action\", tool_node)\n",
        "graph.set_entry_point(\"agent\")\n",
        "graph.add_edge(\"agent\", \"action\")\n",
        "\n",
        "def should_continue(state):\n",
        "  last_message = state[\"messages\"][-1]\n",
        "\n",
        "  if last_message.tool_calls:\n",
        "    return \"action\"\n",
        "\n",
        "  return END\n",
        "\n",
        "graph.add_conditional_edges(\n",
        "    \"agent\",\n",
        "    should_continue\n",
        ")\n",
        "\n",
        "agent = graph.compile()\n",
        "\n",
        "inputs = {\"messages\" : [HumanMessage(content=\"What is the latest news on the stock market?\")]}\n",
        "\n",
        "async for chunk in agent.astream(inputs, stream_mode=\"updates\"):\n",
        "  for node, values in chunk.items():\n",
        "    print(f\"Receiving update from node: '{node}'\")\n",
        "    print(values[\"messages\"])\n",
        "    print(\"\\n\\n\")"
      ]
    },
    {
      "cell_type": "markdown",
      "metadata": {},
      "source": [
        "#### Advanced Build\n",
        "\n",
        "You are tasked to create an agent with 3 tools that can research a specific domain of your choice.\n",
        "\n",
        "You must deploy the resultant agent with a Chainlit (or Custom) frontend."
      ]
    },
    {
      "cell_type": "code",
      "execution_count": 38,
      "metadata": {},
      "outputs": [
        {
          "name": "stdout",
          "output_type": "stream",
          "text": [
            "\u001b[33mWARNING: Ignoring invalid distribution ~rpcio (/Library/Frameworks/Python.framework/Versions/3.12/lib/python3.12/site-packages)\u001b[0m\u001b[33m\n",
            "\u001b[0m\u001b[33mWARNING: Ignoring invalid distribution ~rpcio (/Library/Frameworks/Python.framework/Versions/3.12/lib/python3.12/site-packages)\u001b[0m\u001b[33m\n",
            "\u001b[0m\u001b[33mWARNING: Ignoring invalid distribution ~rpcio (/Library/Frameworks/Python.framework/Versions/3.12/lib/python3.12/site-packages)\u001b[0m\u001b[33m\n",
            "\u001b[0m\u001b[33mWARNING: Ignoring invalid distribution ~rpcio (/Library/Frameworks/Python.framework/Versions/3.12/lib/python3.12/site-packages)\u001b[0m\u001b[33m\n",
            "\u001b[0m\u001b[33mWARNING: Ignoring invalid distribution ~rpcio (/Library/Frameworks/Python.framework/Versions/3.12/lib/python3.12/site-packages)\u001b[0m\u001b[33m\n",
            "\u001b[0m\u001b[33mWARNING: Ignoring invalid distribution ~rpcio (/Library/Frameworks/Python.framework/Versions/3.12/lib/python3.12/site-packages)\u001b[0m\u001b[33m\n",
            "\u001b[0m\u001b[34m==>\u001b[0m \u001b[1mDownloading https://formulae.brew.sh/api/formula.jws.json\u001b[0m\n",
            "\u001b[34m==>\u001b[0m \u001b[1mDownloading https://formulae.brew.sh/api/cask.jws.json\u001b[0m\n",
            "\u001b[33mWarning:\u001b[0m tesseract 5.5.0_1 is already installed and up-to-date.\n",
            "To reinstall 5.5.0_1, run:\n",
            "  brew reinstall tesseract\n",
            "\u001b[33mWarning:\u001b[0m poppler 25.04.0 is already installed and up-to-date.\n",
            "To reinstall 25.04.0, run:\n",
            "  brew reinstall poppler\n"
          ]
        }
      ],
      "source": [
        "# ─────────────────────────────────────────────────────────────\n",
        "# 1. Quick one‑time install (Colab / Jupyter). Rerun if missing.\n",
        "# ─────────────────────────────────────────────────────────────\n",
        "\n",
        "!pip install -q pdfplumber pytesseract pdf2image PyPDF2 langchain langgraph openai 'fuzzywuzzy[speedup]'\n",
        "!brew install tesseract poppler\n"
      ]
    },
    {
      "cell_type": "code",
      "execution_count": 1,
      "metadata": {},
      "outputs": [
        {
          "ename": "ImportError",
          "evalue": "cannot import name 'ToolNode' from 'langgraph.prebuilt' (unknown location)",
          "output_type": "error",
          "traceback": [
            "\u001b[31m---------------------------------------------------------------------------\u001b[39m",
            "\u001b[31mImportError\u001b[39m                               Traceback (most recent call last)",
            "\u001b[36mCell\u001b[39m\u001b[36m \u001b[39m\u001b[32mIn[1]\u001b[39m\u001b[32m, line 14\u001b[39m\n\u001b[32m     12\u001b[39m \u001b[38;5;28;01mfrom\u001b[39;00m \u001b[34;01mlanggraph\u001b[39;00m\u001b[34;01m.\u001b[39;00m\u001b[34;01mgraph\u001b[39;00m\u001b[34;01m.\u001b[39;00m\u001b[34;01mmessage\u001b[39;00m \u001b[38;5;28;01mimport\u001b[39;00m add_messages\n\u001b[32m     13\u001b[39m \u001b[38;5;28;01mfrom\u001b[39;00m \u001b[34;01mlanggraph\u001b[39;00m\u001b[34;01m.\u001b[39;00m\u001b[34;01mgraph\u001b[39;00m \u001b[38;5;28;01mimport\u001b[39;00m StateGraph, END\n\u001b[32m---> \u001b[39m\u001b[32m14\u001b[39m \u001b[38;5;28;01mfrom\u001b[39;00m \u001b[34;01mlanggraph\u001b[39;00m\u001b[34;01m.\u001b[39;00m\u001b[34;01mprebuilt\u001b[39;00m \u001b[38;5;28;01mimport\u001b[39;00m ToolNode\n\u001b[32m     15\u001b[39m \u001b[38;5;28;01mfrom\u001b[39;00m \u001b[34;01mtyping\u001b[39;00m \u001b[38;5;28;01mimport\u001b[39;00m TypedDict, Annotated\n\u001b[32m     16\u001b[39m \u001b[38;5;28;01mfrom\u001b[39;00m \u001b[34;01mlangchain_core\u001b[39;00m\u001b[34;01m.\u001b[39;00m\u001b[34;01mmessages\u001b[39;00m \u001b[38;5;28;01mimport\u001b[39;00m HumanMessage\n",
            "\u001b[31mImportError\u001b[39m: cannot import name 'ToolNode' from 'langgraph.prebuilt' (unknown location)"
          ]
        }
      ],
      "source": [
        "\n",
        "\n",
        "# ─────────────────────────────────────────────────────────────\n",
        "# 2. Imports\n",
        "# ─────────────────────────────────────────────────────────────\n",
        "import pdfplumber, pytesseract, json, pathlib, uuid\n",
        "from pdf2image import convert_from_path\n",
        "from PyPDF2 import PdfReader, PdfWriter\n",
        "from fuzzywuzzy import process\n",
        "\n",
        "from langchain.tools import tool\n",
        "from langchain_openai import ChatOpenAI\n",
        "from langchain_core.prompts import PromptTemplate\n",
        "from langgraph.graph.message import add_messages\n",
        "from langgraph.graph import StateGraph, END\n",
        "from langgraph.prebuilt import ToolNode\n",
        "from typing import TypedDict, Annotated\n",
        "from langchain_core.messages import HumanMessage\n",
        "\n",
        "# ─────────────────────────────────────────────────────────────\n",
        "# 3. Tool 1  –  OCR + LLM field extractor\n",
        "# ─────────────────────────────────────────────────────────────\n",
        "EXTRACT_PROMPT = PromptTemplate.from_template(\"\"\"\n",
        "Extract these fields from the text below:\n",
        "- first_name\n",
        "- last_name\n",
        "Return JSON with exactly those keys.\n",
        "\n",
        "TEXT:\n",
        "{blob}\n",
        "\"\"\")\n",
        "LLM = ChatOpenAI(model=\"gpt-4o\", temperature=0)\n",
        "\n",
        "def pdf_to_text(path: str) -> str:\n",
        "    \"\"\"Try text extraction, fallback to OCR.\"\"\"\n",
        "    text_chunks = []\n",
        "    with pdfplumber.open(path) as pdf:\n",
        "        for page in pdf.pages:\n",
        "            t = page.extract_text() or \"\"\n",
        "            text_chunks.append(t)\n",
        "    if any(len(t.strip()) for t in text_chunks):\n",
        "        return \"\\n\".join(text_chunks)\n",
        "\n",
        "    images = convert_from_path(path, dpi=300)\n",
        "    return \"\\n\".join(pytesseract.image_to_string(img) for img in images)\n",
        "\n",
        "@tool\n",
        "def extract_fields(file_path: str) -> dict:\n",
        "    \"\"\"Extract first_name & last_name from a text or scanned PDF file.\"\"\"\n",
        "    blob = pdf_to_text(file_path)[:4000]  # keep prompt short\n",
        "    resp = LLM.invoke(EXTRACT_PROMPT.format(blob=blob))\n",
        "    try:\n",
        "        parsed = json.loads(resp[resp.find(\"{\"):])\n",
        "    except Exception as e:\n",
        "        parsed = {\"error\": f\"JSON parse fail: {e}\", \"raw\": resp}\n",
        "    return parsed\n",
        "\n",
        "# ─────────────────────────────────────────────────────────────\n",
        "# 4. Tool 2  –  choose the right blank form from local folder\n",
        "# ─────────────────────────────────────────────────────────────\n",
        "FORMS_DIR = pathlib.Path(\"forms\")\n",
        "FORMS_DIR.mkdir(exist_ok=True)\n",
        "\n",
        "@tool\n",
        "def select_form(visa_type: str) -> dict:\n",
        "    \"\"\"\n",
        "    Pick the PDF form in ./forms/ that best matches visa_type (fuzzy).\n",
        "    Returns {\"form_path\": \"...\", \"score\": 87}\n",
        "    \"\"\"\n",
        "    pdfs = list(FORMS_DIR.glob(\"*.pdf\"))\n",
        "    if not pdfs:\n",
        "        return {\"error\": \"No PDFs found in forms/ folder\"}\n",
        "    names = [p.stem for p in pdfs]\n",
        "    best, score = process.extractOne(visa_type, names)\n",
        "    return {\"form_path\": str(FORMS_DIR / f\"{best}.pdf\"), \"score\": score}\n",
        "\n",
        "# ─────────────────────────────────────────────────────────────\n",
        "# 5. Tool 3  –  fill the selected form using PyPDF2\n",
        "# ─────────────────────────────────────────────────────────────\n",
        "@tool\n",
        "def fill_form(form_path: str, fields_json: str) -> str:\n",
        "    \"\"\"\n",
        "    Prefill PDF with JSON string (expects first_name, last_name).\n",
        "    Returns path to filled PDF.\n",
        "    \"\"\"\n",
        "    fields = json.loads(fields_json)\n",
        "    reader = PdfReader(form_path)\n",
        "    writer = PdfWriter()\n",
        "    for p in reader.pages:\n",
        "        writer.add_page(p)\n",
        "\n",
        "    # map PDF field names\n",
        "    mapping = {\"FirstName\": fields.get(\"first_name\", \"\"),\n",
        "               \"LastName\": fields.get(\"last_name\", \"\")}\n",
        "\n",
        "    writer.update_page_form_field_values(writer.pages[0], mapping)\n",
        "\n",
        "    out_name = f\"filled_{uuid.uuid4().hex[:8]}.pdf\"\n",
        "    with open(out_name, \"wb\") as f:\n",
        "        writer.write(f)\n",
        "    return out_name  # LangGraph will surface this\n",
        "\n",
        "# ─────────────────────────────────────────────────────────────\n",
        "# 6. LangGraph agent wiring\n",
        "# ─────────────────────────────────────────────────────────────\n",
        "tool_belt = [extract_fields, select_form, fill_form]\n",
        "MODEL = ChatOpenAI(model=\"gpt-4o\", temperature=0).bind_tools(tool_belt)\n",
        "\n",
        "class AgentState(TypedDict):\n",
        "    messages: Annotated[list, add_messages]\n",
        "\n",
        "def call_model(state):\n",
        "    return {\"messages\": [MODEL.invoke(state[\"messages\"])]}\n",
        "\n",
        "graph = StateGraph(AgentState)\n",
        "graph.add_node(\"agent\", call_model)\n",
        "graph.add_node(\"action\", ToolNode(tool_belt))\n",
        "graph.set_entry_point(\"agent\")\n",
        "graph.add_edge(\"action\", \"agent\")\n",
        "\n",
        "def decide(state):\n",
        "    last = state[\"messages\"][-1]\n",
        "    if last.tool_calls:\n",
        "        return \"action\"\n",
        "    # stop if the LLM returned a filled PDF path\n",
        "    if \"filled_\" in (last.content if hasattr(last, \"content\") else \"\"):\n",
        "        return END\n",
        "    return END\n",
        "\n",
        "graph.add_conditional_edges(\"agent\", decide)\n",
        "immigration_agent = graph.compile()\n",
        "\n",
        "# ─────────────────────────────────────────────────────────────\n",
        "# 7. DEMO ✦  set file paths & run once\n",
        "# ─────────────────────────────────────────────────────────────\n",
        "ID_PDF_PATH      = \"sample_resume.pdf\"     # change to your ID / passport PDF\n",
        "BLANK_FORM_PATH  = \"forms/i-765.pdf\"       # change to your blank form path\n",
        "VISA_CATEGORY    = \"I-765 employment authorization\"  # or \"tourist visa\" etc.\n",
        "\n",
        "msgs = [\n",
        "    HumanMessage(content=f\"Visa type: {VISA_CATEGORY}\"),\n",
        "    HumanMessage(content=f\"[file]{ID_PDF_PATH}[/file]\"),\n",
        "    HumanMessage(content=f\"[file]{BLANK_FORM_PATH}[/file]\")\n",
        "]\n",
        "\n",
        "print(\"── AGENT RUN START ──\")\n",
        "for chunk in immigration_agent.invoke({\"messages\": msgs})[\"messages\"]:\n",
        "    print(chunk.content)\n",
        "print(\"── AGENT RUN END ──\")\n",
        "\n"
      ]
    }
  ],
  "metadata": {
    "colab": {
      "provenance": []
    },
    "kernelspec": {
      "display_name": ".venv",
      "language": "python",
      "name": "python3"
    },
    "language_info": {
      "codemirror_mode": {
        "name": "ipython",
        "version": 3
      },
      "file_extension": ".py",
      "mimetype": "text/x-python",
      "name": "python",
      "nbconvert_exporter": "python",
      "pygments_lexer": "ipython3",
      "version": "3.11.11"
    },
    "widgets": {
      "application/vnd.jupyter.widget-state+json": {
        "041e22a9b5514e36bd4d1dac01d5d398": {
          "model_module": "@jupyter-widgets/base",
          "model_module_version": "1.2.0",
          "model_name": "LayoutModel",
          "state": {
            "_model_module": "@jupyter-widgets/base",
            "_model_module_version": "1.2.0",
            "_model_name": "LayoutModel",
            "_view_count": null,
            "_view_module": "@jupyter-widgets/base",
            "_view_module_version": "1.2.0",
            "_view_name": "LayoutView",
            "align_content": null,
            "align_items": null,
            "align_self": null,
            "border": null,
            "bottom": null,
            "display": null,
            "flex": null,
            "flex_flow": null,
            "grid_area": null,
            "grid_auto_columns": null,
            "grid_auto_flow": null,
            "grid_auto_rows": null,
            "grid_column": null,
            "grid_gap": null,
            "grid_row": null,
            "grid_template_areas": null,
            "grid_template_columns": null,
            "grid_template_rows": null,
            "height": null,
            "justify_content": null,
            "justify_items": null,
            "left": null,
            "margin": null,
            "max_height": null,
            "max_width": null,
            "min_height": null,
            "min_width": null,
            "object_fit": null,
            "object_position": null,
            "order": null,
            "overflow": null,
            "overflow_x": null,
            "overflow_y": null,
            "padding": null,
            "right": null,
            "top": null,
            "visibility": null,
            "width": null
          }
        },
        "0d622ccc56264fac8fd7508dbdbe6e29": {
          "model_module": "@jupyter-widgets/controls",
          "model_module_version": "1.5.0",
          "model_name": "DescriptionStyleModel",
          "state": {
            "_model_module": "@jupyter-widgets/controls",
            "_model_module_version": "1.5.0",
            "_model_name": "DescriptionStyleModel",
            "_view_count": null,
            "_view_module": "@jupyter-widgets/base",
            "_view_module_version": "1.2.0",
            "_view_name": "StyleView",
            "description_width": ""
          }
        },
        "53e33aae3b97490c82aec7bbb0d6ebba": {
          "model_module": "@jupyter-widgets/controls",
          "model_module_version": "1.5.0",
          "model_name": "HTMLModel",
          "state": {
            "_dom_classes": [],
            "_model_module": "@jupyter-widgets/controls",
            "_model_module_version": "1.5.0",
            "_model_name": "HTMLModel",
            "_view_count": null,
            "_view_module": "@jupyter-widgets/controls",
            "_view_module_version": "1.5.0",
            "_view_name": "HTMLView",
            "description": "",
            "description_tooltip": null,
            "layout": "IPY_MODEL_041e22a9b5514e36bd4d1dac01d5d398",
            "placeholder": "​",
            "style": "IPY_MODEL_886d762f2a7c421382efb5502c6d42a1",
            "value": ""
          }
        },
        "716557ad09874dcb989d75f7c74424cd": {
          "model_module": "@jupyter-widgets/controls",
          "model_module_version": "1.5.0",
          "model_name": "ProgressStyleModel",
          "state": {
            "_model_module": "@jupyter-widgets/controls",
            "_model_module_version": "1.5.0",
            "_model_name": "ProgressStyleModel",
            "_view_count": null,
            "_view_module": "@jupyter-widgets/base",
            "_view_module_version": "1.2.0",
            "_view_name": "StyleView",
            "bar_color": null,
            "description_width": ""
          }
        },
        "72adef9b70dd48198b7322b6c5b113cf": {
          "model_module": "@jupyter-widgets/controls",
          "model_module_version": "1.5.0",
          "model_name": "HTMLModel",
          "state": {
            "_dom_classes": [],
            "_model_module": "@jupyter-widgets/controls",
            "_model_module_version": "1.5.0",
            "_model_name": "HTMLModel",
            "_view_count": null,
            "_view_module": "@jupyter-widgets/controls",
            "_view_module_version": "1.5.0",
            "_view_name": "HTMLView",
            "description": "",
            "description_tooltip": null,
            "layout": "IPY_MODEL_77d4c0ebaae045b58efc4f789c9a2360",
            "placeholder": "​",
            "style": "IPY_MODEL_0d622ccc56264fac8fd7508dbdbe6e29",
            "value": " 6/? [00:36&lt;00:00,  5.78s/it]"
          }
        },
        "77d4c0ebaae045b58efc4f789c9a2360": {
          "model_module": "@jupyter-widgets/base",
          "model_module_version": "1.2.0",
          "model_name": "LayoutModel",
          "state": {
            "_model_module": "@jupyter-widgets/base",
            "_model_module_version": "1.2.0",
            "_model_name": "LayoutModel",
            "_view_count": null,
            "_view_module": "@jupyter-widgets/base",
            "_view_module_version": "1.2.0",
            "_view_name": "LayoutView",
            "align_content": null,
            "align_items": null,
            "align_self": null,
            "border": null,
            "bottom": null,
            "display": null,
            "flex": null,
            "flex_flow": null,
            "grid_area": null,
            "grid_auto_columns": null,
            "grid_auto_flow": null,
            "grid_auto_rows": null,
            "grid_column": null,
            "grid_gap": null,
            "grid_row": null,
            "grid_template_areas": null,
            "grid_template_columns": null,
            "grid_template_rows": null,
            "height": null,
            "justify_content": null,
            "justify_items": null,
            "left": null,
            "margin": null,
            "max_height": null,
            "max_width": null,
            "min_height": null,
            "min_width": null,
            "object_fit": null,
            "object_position": null,
            "order": null,
            "overflow": null,
            "overflow_x": null,
            "overflow_y": null,
            "padding": null,
            "right": null,
            "top": null,
            "visibility": null,
            "width": null
          }
        },
        "886d762f2a7c421382efb5502c6d42a1": {
          "model_module": "@jupyter-widgets/controls",
          "model_module_version": "1.5.0",
          "model_name": "DescriptionStyleModel",
          "state": {
            "_model_module": "@jupyter-widgets/controls",
            "_model_module_version": "1.5.0",
            "_model_name": "DescriptionStyleModel",
            "_view_count": null,
            "_view_module": "@jupyter-widgets/base",
            "_view_module_version": "1.2.0",
            "_view_name": "StyleView",
            "description_width": ""
          }
        },
        "8a61d045ffd44ac58f3f13eb10044836": {
          "model_module": "@jupyter-widgets/base",
          "model_module_version": "1.2.0",
          "model_name": "LayoutModel",
          "state": {
            "_model_module": "@jupyter-widgets/base",
            "_model_module_version": "1.2.0",
            "_model_name": "LayoutModel",
            "_view_count": null,
            "_view_module": "@jupyter-widgets/base",
            "_view_module_version": "1.2.0",
            "_view_name": "LayoutView",
            "align_content": null,
            "align_items": null,
            "align_self": null,
            "border": null,
            "bottom": null,
            "display": null,
            "flex": null,
            "flex_flow": null,
            "grid_area": null,
            "grid_auto_columns": null,
            "grid_auto_flow": null,
            "grid_auto_rows": null,
            "grid_column": null,
            "grid_gap": null,
            "grid_row": null,
            "grid_template_areas": null,
            "grid_template_columns": null,
            "grid_template_rows": null,
            "height": null,
            "justify_content": null,
            "justify_items": null,
            "left": null,
            "margin": null,
            "max_height": null,
            "max_width": null,
            "min_height": null,
            "min_width": null,
            "object_fit": null,
            "object_position": null,
            "order": null,
            "overflow": null,
            "overflow_x": null,
            "overflow_y": null,
            "padding": null,
            "right": null,
            "top": null,
            "visibility": null,
            "width": null
          }
        },
        "ab91fd625bbd43afbf8c6398193a88d0": {
          "model_module": "@jupyter-widgets/base",
          "model_module_version": "1.2.0",
          "model_name": "LayoutModel",
          "state": {
            "_model_module": "@jupyter-widgets/base",
            "_model_module_version": "1.2.0",
            "_model_name": "LayoutModel",
            "_view_count": null,
            "_view_module": "@jupyter-widgets/base",
            "_view_module_version": "1.2.0",
            "_view_name": "LayoutView",
            "align_content": null,
            "align_items": null,
            "align_self": null,
            "border": null,
            "bottom": null,
            "display": null,
            "flex": null,
            "flex_flow": null,
            "grid_area": null,
            "grid_auto_columns": null,
            "grid_auto_flow": null,
            "grid_auto_rows": null,
            "grid_column": null,
            "grid_gap": null,
            "grid_row": null,
            "grid_template_areas": null,
            "grid_template_columns": null,
            "grid_template_rows": null,
            "height": null,
            "justify_content": null,
            "justify_items": null,
            "left": null,
            "margin": null,
            "max_height": null,
            "max_width": null,
            "min_height": null,
            "min_width": null,
            "object_fit": null,
            "object_position": null,
            "order": null,
            "overflow": null,
            "overflow_x": null,
            "overflow_y": null,
            "padding": null,
            "right": null,
            "top": null,
            "visibility": null,
            "width": "20px"
          }
        },
        "ad84e0e971d3455db2efe7dd0d1f803e": {
          "model_module": "@jupyter-widgets/controls",
          "model_module_version": "1.5.0",
          "model_name": "FloatProgressModel",
          "state": {
            "_dom_classes": [],
            "_model_module": "@jupyter-widgets/controls",
            "_model_module_version": "1.5.0",
            "_model_name": "FloatProgressModel",
            "_view_count": null,
            "_view_module": "@jupyter-widgets/controls",
            "_view_module_version": "1.5.0",
            "_view_name": "ProgressView",
            "bar_style": "success",
            "description": "",
            "description_tooltip": null,
            "layout": "IPY_MODEL_ab91fd625bbd43afbf8c6398193a88d0",
            "max": 1,
            "min": 0,
            "orientation": "horizontal",
            "style": "IPY_MODEL_716557ad09874dcb989d75f7c74424cd",
            "value": 1
          }
        },
        "efcf57067cf743d8b4ce059a61cbe02e": {
          "model_module": "@jupyter-widgets/controls",
          "model_module_version": "1.5.0",
          "model_name": "HBoxModel",
          "state": {
            "_dom_classes": [],
            "_model_module": "@jupyter-widgets/controls",
            "_model_module_version": "1.5.0",
            "_model_name": "HBoxModel",
            "_view_count": null,
            "_view_module": "@jupyter-widgets/controls",
            "_view_module_version": "1.5.0",
            "_view_name": "HBoxView",
            "box_style": "",
            "children": [
              "IPY_MODEL_53e33aae3b97490c82aec7bbb0d6ebba",
              "IPY_MODEL_ad84e0e971d3455db2efe7dd0d1f803e",
              "IPY_MODEL_72adef9b70dd48198b7322b6c5b113cf"
            ],
            "layout": "IPY_MODEL_8a61d045ffd44ac58f3f13eb10044836"
          }
        }
      }
    }
  },
  "nbformat": 4,
  "nbformat_minor": 0
}
